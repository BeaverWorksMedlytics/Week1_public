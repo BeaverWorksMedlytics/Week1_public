{
 "cells": [
  {
   "cell_type": "markdown",
   "metadata": {
    "colab_type": "text",
    "id": "XQDE8pPCpFRb"
   },
   "source": [
    "# Week 1 Challenge Project Template\n",
    "\n",
    "You are not required to use this template, but we are providing it for your reference to help get you started and stay organized!  We recommend that you define functions for each step to make it easier to track what's going on in the code (especially if different team members are working on different pieces of the project).\n",
    "\n",
    "Most of the functions provided are just examples!  Feel free to replace them with something better!  This is just a minimum working example."
   ]
  },
  {
   "cell_type": "markdown",
   "metadata": {
    "colab_type": "text",
    "id": "HsZB_SGvp4mP"
   },
   "source": [
    "## 1. Load the data"
   ]
  },
  {
   "cell_type": "code",
   "execution_count": 14,
   "metadata": {},
   "outputs": [],
   "source": [
    "import pandas as po\n",
    "import numpy as np\n",
    "\n",
    "%matplotlib inline"
   ]
  },
  {
   "cell_type": "code",
   "execution_count": 15,
   "metadata": {
    "colab": {
     "autoexec": {
      "startup": false,
      "wait_interval": 0
     }
    },
    "colab_type": "code",
    "id": "s9AtXQPkzC8j"
   },
   "outputs": [],
   "source": [
    "train_url = \"https://raw.githubusercontent.com/BeaverWorksMedlytics/datasets/master/allhypo.train.data.csv\"\n",
    "test_url = \"https://raw.githubusercontent.com/BeaverWorksMedlytics/datasets/master/allhypo.test.data.csv\"\n",
    "\n",
    "data_train = po.read_csv(train_url) \n",
    "data_test = po.read_csv(test_url)   # this will not have a 'class' column!\n",
    "\n",
    "# identify columns by what time of data they hold\n",
    "numeric_columns=list([\"Age\",\"TSH\",\"T3\",\"TT4\",\"T4u\",\"FTI\"])\n",
    "\n",
    "# categorical columns are everything else (minus 'class')\n",
    "categorical_columns = list(set(data_train.columns)-set(numeric_columns)-set(['class']))"
   ]
  },
  {
   "cell_type": "markdown",
   "metadata": {
    "colab_type": "text",
    "id": "sGKbG-eBqBjF"
   },
   "source": [
    "## 2. Format your class labels\n",
    "Turn multi-classes into binary classes"
   ]
  },
  {
   "cell_type": "code",
   "execution_count": 16,
   "metadata": {
    "colab": {
     "autoexec": {
      "startup": false,
      "wait_interval": 0
     }
    },
    "colab_type": "code",
    "id": "rnp3nN9b6ZNw"
   },
   "outputs": [
    {
     "data": {
      "text/html": [
       "<div>\n",
       "<style scoped>\n",
       "    .dataframe tbody tr th:only-of-type {\n",
       "        vertical-align: middle;\n",
       "    }\n",
       "\n",
       "    .dataframe tbody tr th {\n",
       "        vertical-align: top;\n",
       "    }\n",
       "\n",
       "    .dataframe thead th {\n",
       "        text-align: right;\n",
       "    }\n",
       "</style>\n",
       "<table border=\"1\" class=\"dataframe\">\n",
       "  <thead>\n",
       "    <tr style=\"text-align: right;\">\n",
       "      <th></th>\n",
       "      <th>Age</th>\n",
       "      <th>Sex</th>\n",
       "      <th>On thyroxine</th>\n",
       "      <th>query on thyroxine</th>\n",
       "      <th>on antithyroid medication</th>\n",
       "      <th>sick</th>\n",
       "      <th>pregnant</th>\n",
       "      <th>thyroid surgery</th>\n",
       "      <th>I131 treatment</th>\n",
       "      <th>query hypothyroid</th>\n",
       "      <th>...</th>\n",
       "      <th>TT4 measured</th>\n",
       "      <th>TT4</th>\n",
       "      <th>T4U measured</th>\n",
       "      <th>T4u</th>\n",
       "      <th>FTI measured</th>\n",
       "      <th>FTI</th>\n",
       "      <th>TBG measured</th>\n",
       "      <th>TBG</th>\n",
       "      <th>referral source</th>\n",
       "      <th>class</th>\n",
       "    </tr>\n",
       "  </thead>\n",
       "  <tbody>\n",
       "    <tr>\n",
       "      <th>0</th>\n",
       "      <td>41</td>\n",
       "      <td>F</td>\n",
       "      <td>f</td>\n",
       "      <td>f</td>\n",
       "      <td>f</td>\n",
       "      <td>f</td>\n",
       "      <td>f</td>\n",
       "      <td>f</td>\n",
       "      <td>f</td>\n",
       "      <td>f</td>\n",
       "      <td>...</td>\n",
       "      <td>t</td>\n",
       "      <td>125</td>\n",
       "      <td>t</td>\n",
       "      <td>1.14</td>\n",
       "      <td>t</td>\n",
       "      <td>109</td>\n",
       "      <td>f</td>\n",
       "      <td>?</td>\n",
       "      <td>SVHC</td>\n",
       "      <td>0</td>\n",
       "    </tr>\n",
       "    <tr>\n",
       "      <th>1</th>\n",
       "      <td>23</td>\n",
       "      <td>F</td>\n",
       "      <td>f</td>\n",
       "      <td>f</td>\n",
       "      <td>f</td>\n",
       "      <td>f</td>\n",
       "      <td>f</td>\n",
       "      <td>f</td>\n",
       "      <td>f</td>\n",
       "      <td>f</td>\n",
       "      <td>...</td>\n",
       "      <td>t</td>\n",
       "      <td>102</td>\n",
       "      <td>f</td>\n",
       "      <td>?</td>\n",
       "      <td>f</td>\n",
       "      <td>?</td>\n",
       "      <td>f</td>\n",
       "      <td>?</td>\n",
       "      <td>other</td>\n",
       "      <td>0</td>\n",
       "    </tr>\n",
       "    <tr>\n",
       "      <th>2</th>\n",
       "      <td>46</td>\n",
       "      <td>M</td>\n",
       "      <td>f</td>\n",
       "      <td>f</td>\n",
       "      <td>f</td>\n",
       "      <td>f</td>\n",
       "      <td>f</td>\n",
       "      <td>f</td>\n",
       "      <td>f</td>\n",
       "      <td>f</td>\n",
       "      <td>...</td>\n",
       "      <td>t</td>\n",
       "      <td>109</td>\n",
       "      <td>t</td>\n",
       "      <td>0.91</td>\n",
       "      <td>t</td>\n",
       "      <td>120</td>\n",
       "      <td>f</td>\n",
       "      <td>?</td>\n",
       "      <td>other</td>\n",
       "      <td>0</td>\n",
       "    </tr>\n",
       "    <tr>\n",
       "      <th>3</th>\n",
       "      <td>70</td>\n",
       "      <td>F</td>\n",
       "      <td>t</td>\n",
       "      <td>f</td>\n",
       "      <td>f</td>\n",
       "      <td>f</td>\n",
       "      <td>f</td>\n",
       "      <td>f</td>\n",
       "      <td>f</td>\n",
       "      <td>f</td>\n",
       "      <td>...</td>\n",
       "      <td>t</td>\n",
       "      <td>175</td>\n",
       "      <td>f</td>\n",
       "      <td>?</td>\n",
       "      <td>f</td>\n",
       "      <td>?</td>\n",
       "      <td>f</td>\n",
       "      <td>?</td>\n",
       "      <td>other</td>\n",
       "      <td>0</td>\n",
       "    </tr>\n",
       "    <tr>\n",
       "      <th>4</th>\n",
       "      <td>70</td>\n",
       "      <td>F</td>\n",
       "      <td>f</td>\n",
       "      <td>f</td>\n",
       "      <td>f</td>\n",
       "      <td>f</td>\n",
       "      <td>f</td>\n",
       "      <td>f</td>\n",
       "      <td>f</td>\n",
       "      <td>f</td>\n",
       "      <td>...</td>\n",
       "      <td>t</td>\n",
       "      <td>61</td>\n",
       "      <td>t</td>\n",
       "      <td>0.87</td>\n",
       "      <td>t</td>\n",
       "      <td>70</td>\n",
       "      <td>f</td>\n",
       "      <td>?</td>\n",
       "      <td>SVI</td>\n",
       "      <td>0</td>\n",
       "    </tr>\n",
       "  </tbody>\n",
       "</table>\n",
       "<p>5 rows × 29 columns</p>\n",
       "</div>"
      ],
      "text/plain": [
       "  Age Sex On thyroxine query on thyroxine on antithyroid medication sick  \\\n",
       "0  41   F            f                  f                         f    f   \n",
       "1  23   F            f                  f                         f    f   \n",
       "2  46   M            f                  f                         f    f   \n",
       "3  70   F            t                  f                         f    f   \n",
       "4  70   F            f                  f                         f    f   \n",
       "\n",
       "  pregnant thyroid surgery I131 treatment query hypothyroid  ...   \\\n",
       "0        f               f              f                 f  ...    \n",
       "1        f               f              f                 f  ...    \n",
       "2        f               f              f                 f  ...    \n",
       "3        f               f              f                 f  ...    \n",
       "4        f               f              f                 f  ...    \n",
       "\n",
       "  TT4 measured  TT4 T4U measured   T4u FTI measured  FTI TBG measured TBG  \\\n",
       "0            t  125            t  1.14            t  109            f   ?   \n",
       "1            t  102            f     ?            f    ?            f   ?   \n",
       "2            t  109            t  0.91            t  120            f   ?   \n",
       "3            t  175            f     ?            f    ?            f   ?   \n",
       "4            t   61            t  0.87            t   70            f   ?   \n",
       "\n",
       "  referral source class  \n",
       "0            SVHC     0  \n",
       "1           other     0  \n",
       "2           other     0  \n",
       "3           other     0  \n",
       "4             SVI     0  \n",
       "\n",
       "[5 rows x 29 columns]"
      ]
     },
     "execution_count": 16,
     "metadata": {},
     "output_type": "execute_result"
    }
   ],
   "source": [
    "def format_class_labels(df):\n",
    "    \n",
    "    import re \n",
    "    \n",
    "    # regex the weird class labels out\n",
    "    regex_pattern = ( \"\\.\\|\\d+\")\n",
    "\n",
    "    for index, row in df.iterrows():\n",
    "\n",
    "        # substitute instances of our regex_pattern for an empty string\n",
    "        new_class = re.sub(regex_pattern, '', row['class'])\n",
    "        df.loc[index,'class']=new_class\n",
    "    \n",
    "    # set all negative class labels to 0, all others to 1\n",
    "\n",
    "    df['class'] = df['class'].replace('negative', 0)                    \n",
    "    df['class'] = df['class'].replace('compensated hypothyroid', 1)     \n",
    "    df['class'] = df['class'].replace('primary hypothyroid', 1)         \n",
    "    df['class'] = df['class'].replace('secondary hypothyroid', 1)\n",
    "    \n",
    "    return df\n",
    "\n",
    "data_train = format_class_labels(data_train)\n",
    "data_train.head()"
   ]
  },
  {
   "cell_type": "markdown",
   "metadata": {},
   "source": [
    "## 3. Split training into training and validation\n",
    "Choose what split you like (alternatively, you can do k-fold cross validation)"
   ]
  },
  {
   "cell_type": "code",
   "execution_count": 17,
   "metadata": {},
   "outputs": [],
   "source": [
    "from sklearn.model_selection import train_test_split\n",
    "\n",
    "data_train, data_val = train_test_split(data_train, test_size=0.20, random_state=0, stratify=data_train['class'])"
   ]
  },
  {
   "cell_type": "markdown",
   "metadata": {},
   "source": [
    "## 4. Clean/format the data\n",
    "Note: removing rows is probably a bad idea because you won't be able to do this to the test data!  Try to come up with some clever ways to handle the \"?\" values."
   ]
  },
  {
   "cell_type": "code",
   "execution_count": 18,
   "metadata": {},
   "outputs": [],
   "source": [
    "# change all ?s to -1\n",
    "def handle_questions(df):\n",
    "    df.replace('?',0, inplace=True)\n",
    "    return df\n",
    "\n",
    "\n",
    "# Make sure you do the same thing to train & val so the data is all formatted the same\n",
    "data_train = handle_questions(data_train)\n",
    "data_val = handle_questions(data_val)"
   ]
  },
  {
   "cell_type": "code",
   "execution_count": 19,
   "metadata": {},
   "outputs": [],
   "source": [
    "def get_uninformative_columns(df):\n",
    "    \n",
    "    drop_columns = []\n",
    "    \n",
    "    for col in df.columns:\n",
    "        \n",
    "        # if this column has only one value, we can't learn anything from it\n",
    "        if(len(df[col].unique()) == 1):\n",
    "            drop_columns.append(col)\n",
    "            \n",
    "    return drop_columns\n",
    "\n",
    "\n",
    "# drop the uninformative features\n",
    "drop_columns = get_uninformative_columns(data_train)\n",
    "\n",
    "# Make sure you do the same thing to train & val\n",
    "data_train=data_train.drop(drop_columns,axis=1)\n",
    "data_val=data_val.drop(drop_columns,axis=1)"
   ]
  },
  {
   "cell_type": "code",
   "execution_count": 20,
   "metadata": {
    "colab": {
     "autoexec": {
      "startup": false,
      "wait_interval": 0
     }
    },
    "colab_type": "code",
    "id": "9QndSspU7lW4"
   },
   "outputs": [],
   "source": [
    "def format_data(df, numeric_columns):\n",
    "\n",
    "    # convert numeric columns from strings to numbers\n",
    "    df[numeric_columns] = df[numeric_columns].apply(po.to_numeric)    \n",
    "\n",
    "    categorical_columns = list(set(df.columns)-set(numeric_columns))\n",
    "\n",
    "    # convert categorical columns to indicator (0,1) variables\n",
    "    for col in categorical_columns:\n",
    "        \n",
    "        try:\n",
    "            df[col] = po.get_dummies(df[col],drop_first=True)\n",
    "        except Exception as e:\n",
    "            print(e)\n",
    "\n",
    "    return df\n",
    "\n",
    "\n",
    "\n",
    "# Make sure you do the same thing to train & val\n",
    "data_train = format_data(data_train, numeric_columns)\n",
    "data_val = format_data(data_val, numeric_columns)"
   ]
  },
  {
   "cell_type": "markdown",
   "metadata": {},
   "source": [
    "## 5. Define and Train the Model\n",
    "You might want to consider having one process for training on one dataset and evaluating on another.  That way you can use the same code for your train/validation as you do for your train/test"
   ]
  },
  {
   "cell_type": "code",
   "execution_count": 21,
   "metadata": {},
   "outputs": [],
   "source": [
    "def my_classifier_predictions(data_train, data_predict):\n",
    "\n",
    "    feature_columns = list(set(data_train.columns)-set(['class']))\n",
    "\n",
    "    X_train = data_train[feature_columns]\n",
    "    y_train = data_train['class']\n",
    "    \n",
    "    X_val = data_predict[feature_columns]\n",
    "    \n",
    "    # For now, we'll just do logistic regression\n",
    "    from sklearn.linear_model import LogisticRegression\n",
    "    lr_model = LogisticRegression()\n",
    "\n",
    "    # fit the model to training data \n",
    "    lr_model.fit(X_train, y_train)\n",
    "\n",
    "    # apply the model to evaluation data\n",
    "    y_proba = lr_model.predict_proba(X_val)\n",
    "    \n",
    "    return y_proba\n",
    "\n",
    "    "
   ]
  },
  {
   "cell_type": "code",
   "execution_count": 22,
   "metadata": {},
   "outputs": [],
   "source": [
    "# Predict on validation data\n",
    "y_val_proba = my_classifier_predictions(data_train, data_val)\n"
   ]
  },
  {
   "cell_type": "markdown",
   "metadata": {},
   "source": [
    "## 6. Evaluate your model"
   ]
  },
  {
   "cell_type": "markdown",
   "metadata": {},
   "source": [
    "### Confusion Matrix Metric"
   ]
  },
  {
   "cell_type": "code",
   "execution_count": 23,
   "metadata": {},
   "outputs": [
    {
     "name": "stdout",
     "output_type": "stream",
     "text": [
      "[[0.99612403 0.00387597]\n",
      " [0.45454545 0.54545455]]\n",
      "Confusion Matrix Metric:  0.6247357293868921\n"
     ]
    }
   ],
   "source": [
    "from sklearn.metrics import confusion_matrix\n",
    "\n",
    "# evaluate on validation set\n",
    "y_val = data_val['class']\n",
    "\n",
    "# This is exctly the first metric you'll be evaluated on!\n",
    "# Note: this will only work on the binary case -- let us know if you get to the multi-class case\n",
    "\n",
    "def cm_metric(y_true,y_prob):\n",
    "    \n",
    "    # predict the class with the greatest probability\n",
    "    y_val_predict = [np.argmax(y) for y in y_prob]\n",
    "\n",
    "    # calculate the confusion matrix\n",
    "    cm = confusion_matrix(y_true, y_val_predict)\n",
    "\n",
    "    cm_norm = cm.astype('float') / cm.sum(axis=1)[:, np.newaxis]\n",
    "    print(cm_norm)\n",
    "    return sum(sum(np.multiply(cm_norm,np.array([[1, -2], [-2, 1]]))))\n",
    "\n",
    "print('Confusion Matrix Metric: ',cm_metric(y_val,y_val_proba))"
   ]
  },
  {
   "cell_type": "markdown",
   "metadata": {},
   "source": [
    "### AUC"
   ]
  },
  {
   "cell_type": "code",
   "execution_count": 24,
   "metadata": {},
   "outputs": [
    {
     "name": "stdout",
     "output_type": "stream",
     "text": [
      "AUC:  0.9931289640591966\n"
     ]
    }
   ],
   "source": [
    "from sklearn.metrics import roc_curve\n",
    "from sklearn.metrics import auc\n",
    "\n",
    "fpr, tpr, threshold = roc_curve(y_val, y_val_proba[:,1])\n",
    "roc_auc = auc(fpr, tpr)\n",
    "print('AUC: ',roc_auc)\n",
    "\n"
   ]
  },
  {
   "cell_type": "code",
   "execution_count": 25,
   "metadata": {},
   "outputs": [
    {
     "data": {
      "image/png": "[encoded data removed]",
      "text/plain": [
       "<Figure size 432x288 with 1 Axes>"
      ]
     },
     "metadata": {},
     "output_type": "display_data"
    }
   ],
   "source": [
    "import matplotlib.pyplot as plt\n",
    "plt.title('Receiver Operating Characteristic')\n",
    "plt.plot(fpr, tpr, 'b', label = 'AUC = %0.3f' % roc_auc)\n",
    "plt.legend(loc = 'lower right')\n",
    "plt.plot([0, 1], [0, 1],'r--')\n",
    "plt.xlim([0, 1])\n",
    "plt.ylim([0, 1])\n",
    "plt.ylabel('True Positive Rate')\n",
    "plt.xlabel('False Positive Rate')\n",
    "plt.show()"
   ]
  },
  {
   "cell_type": "markdown",
   "metadata": {},
   "source": [
    "## 7. Apply to test data\n",
    "Once you're happy with your model, you should go through the same procedure again except:\n",
    "* train with ALL the training data (re-combine with training and validation)\n",
    "* test on test data (you won't be able to evaluate -- that's for us to do!)"
   ]
  },
  {
   "cell_type": "code",
   "execution_count": 26,
   "metadata": {},
   "outputs": [],
   "source": [
    "train_url = \"https://raw.githubusercontent.com/BeaverWorksMedlytics/datasets/master/allhypo.train.data.csv\"\n",
    "test_url = \"https://raw.githubusercontent.com/BeaverWorksMedlytics/datasets/master/allhypo.test.data.csv\"\n",
    "\n",
    "data_train = po.read_csv(train_url) \n",
    "data_test = po.read_csv(test_url)   # this will not have a 'class' column!\n",
    "\n",
    "# format the wonky class labels\n",
    "data_train = format_class_labels(data_train)\n",
    "\n",
    "# deal with question marks\n",
    "data_train = handle_questions(data_train)\n",
    "data_test = handle_questions(data_test)\n",
    "\n",
    "# drop uninformative columns\n",
    "drop_columns = get_uninformative_columns(data_train)\n",
    "data_train=data_train.drop(drop_columns,axis=1)\n",
    "data_test=data_test.drop(drop_columns,axis=1)\n",
    "\n",
    "# format data\n",
    "data_train = format_data(data_train, numeric_columns)\n",
    "data_test = format_data(data_test, numeric_columns)\n",
    "\n",
    "# train and apply your classifier\n",
    "y_test_proba = my_classifier_predictions(data_train, data_test)"
   ]
  },
  {
   "cell_type": "markdown",
   "metadata": {},
   "source": [
    "## 8. Submit your attempt!"
   ]
  },
  {
   "cell_type": "markdown",
   "metadata": {
    "colab_type": "text",
    "id": "Wuexs1daLNBY"
   },
   "source": [
    "Once you've run on the test data, send a pickle file containing your predictions contained a pandas dataframe.  This pandas dataframe will contain two columns for your binary classifier (or 4 columns for the multiclass classifier) that looks like this (*pay attention to the column names!*):\n",
    "\n",
    "|   | 0 | 1   |\n",
    "|---|---|------|\n",
    "| 0 | $p_{0,0}$ | $p_{0,1}$|\n",
    "| 1 | $p_{1,0}$ | $p_{1,1}$|\n",
    "| 2 | $p_{2,0}$ | $p_{2,1}$|\n",
    "| ... | ... | ...|\n",
    "| N | $p_{N,0}$ | $p_{N,1}$|\n",
    "\n",
    "where $p_{i,j}$ corresponds to the probability of data point $i$ belonging to class $j$."
   ]
  },
  {
   "cell_type": "code",
   "execution_count": null,
   "metadata": {
    "colab": {
     "autoexec": {
      "startup": false,
      "wait_interval": 0
     }
    },
    "colab_type": "code",
    "id": "GkZOEgg3m3g1"
   },
   "outputs": [],
   "source": [
    "from google.colab import files\n",
    "import pickle\n",
    "\n",
    "# create a pickle file (this will save to the Google cloud)\n",
    "prediction_pickle_path = 'teamname_week1_attempt1.pkl'\n",
    "prediction_pickle = open(prediction_pickle_path, 'wb')\n",
    "pickle.dump(y_test_proba, prediction_pickle)\n",
    "\n",
    "# download the pickle file and save it somewhere to your computer, and email it to \n",
    "files.download(prediction_pickle_path)\n",
    "prediction_pickle.close()"
   ]
  },
  {
   "cell_type": "markdown",
   "metadata": {
    "colab_type": "text",
    "id": "w66lpbB6Qv_M"
   },
   "source": [
    "# Moving to the Next Level"
   ]
  },
  {
   "cell_type": "markdown",
   "metadata": {
    "colab_type": "text",
    "id": "X-HZ12lht_so"
   },
   "source": [
    "For those that finish early, remember how I converted the class values into simply \"negative\" and \"positive\"? Now try tackling the multiclass classifier (predicting the different types of positive hypothyroid cases instead of simply negative or positive)! \n",
    "\n",
    "The same rules apply!  (Note: for the multiclass problem, the AUC calculation will be the micro-average over your classes.)"
   ]
  },
  {
   "cell_type": "markdown",
   "metadata": {
    "colab_type": "text",
    "id": "lORJb8FOxHoS"
   },
   "source": [
    "(And for those that also finish the multiclass classifer, see Lyle for further instructions)."
   ]
  }
 ],
 "metadata": {
  "colab": {
   "collapsed_sections": [],
   "default_view": {},
   "name": "Challenge_Project_STUDENT.ipynb",
   "provenance": [],
   "version": "0.3.2",
   "views": {}
  },
  "kernelspec": {
   "display_name": "Python 3",
   "language": "python",
   "name": "python3"
  },
  "language_info": {
   "codemirror_mode": {
    "name": "ipython",
    "version": 3
   },
   "file_extension": ".py",
   "mimetype": "text/x-python",
   "name": "python",
   "nbconvert_exporter": "python",
   "pygments_lexer": "ipython3",
   "version": "3.6.5"
  }
 },
 "nbformat": 4,
 "nbformat_minor": 1
}
