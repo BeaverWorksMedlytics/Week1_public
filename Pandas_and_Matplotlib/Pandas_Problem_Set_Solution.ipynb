{
 "cells": [
  {
   "cell_type": "markdown",
   "metadata": {
    "colab_type": "text",
    "id": "bSU6eKZTdMXZ"
   },
   "source": [
    "# Pandas Problem Set"
   ]
  },
  {
   "cell_type": "code",
   "execution_count": 0,
   "metadata": {
    "colab": {
     "autoexec": {
      "startup": false,
      "wait_interval": 0
     }
    },
    "colab_type": "code",
    "id": "c5ewTg7vdQFm"
   },
   "outputs": [],
   "source": [
    "import pandas as pd\n",
    "from google.colab import files\n",
    "import numpy as np\n",
    "import matplotlib.pyplot as plt"
   ]
  },
  {
   "cell_type": "markdown",
   "metadata": {
    "colab_type": "text",
    "id": "MytzEzg-fyb7"
   },
   "source": [
    "### Dataset for tutorial and problem set:\n",
    "\n",
    "    Pima Indian Heritage Diabetes\n",
    "\n",
    "    Each person in the dataset is a female who is at least 21 years\n",
    "    \n",
    "  #### Below are the variables for each person in the dataset\n",
    "      'preg': number of pregnancies  \n",
    "      'plas': plasma glucose concentration \n",
    "      'pres': blood pressure \n",
    "      'skin': skin thickness\n",
    "      'test': Insluin\n",
    "      'mass': BMI\n",
    "      'pedi': diabetes pedigree function\n",
    "      'age': age\n",
    "      'class': '0' means does not have diabetes and '1' means has diabetes"
   ]
  },
  {
   "cell_type": "code",
   "execution_count": 0,
   "metadata": {
    "colab": {
     "autoexec": {
      "startup": false,
      "wait_interval": 0
     }
    },
    "colab_type": "code",
    "id": "F4btIg8vdSyb"
   },
   "outputs": [],
   "source": [
    "url = \"https://raw.githubusercontent.com/jbrownlee/Datasets/master/pima-indians-diabetes.data.csv\"\n",
    "names = ['preg', 'plas', 'pres', 'skin', 'test', 'mass', 'pedi', 'age', 'class']"
   ]
  },
  {
   "cell_type": "markdown",
   "metadata": {
    "colab_type": "text",
    "id": "QOLgFaSKeShR"
   },
   "source": [
    "Read in csv above to a pandas dataframe"
   ]
  },
  {
   "cell_type": "code",
   "execution_count": 0,
   "metadata": {
    "colab": {
     "autoexec": {
      "startup": false,
      "wait_interval": 0
     }
    },
    "colab_type": "code",
    "id": "Okcb8dnXeX2C"
   },
   "outputs": [],
   "source": [
    "# your code here\n",
    "# solution\n",
    "data = pd.read_csv(url, names=names)"
   ]
  },
  {
   "cell_type": "markdown",
   "metadata": {
    "colab_type": "text",
    "id": "d4DyOsuoewE2"
   },
   "source": [
    "Print out the age and class of the 100th patient"
   ]
  },
  {
   "cell_type": "code",
   "execution_count": 4,
   "metadata": {
    "colab": {
     "autoexec": {
      "startup": false,
      "wait_interval": 0
     },
     "base_uri": "https://localhost:8080/",
     "height": 68
    },
    "colab_type": "code",
    "executionInfo": {
     "elapsed": 789,
     "status": "ok",
     "timestamp": 1531158231040,
     "user": {
      "displayName": "john passarelli",
      "photoUrl": "https://lh3.googleusercontent.com/a/default-user=s128",
      "userId": "102241934905781120798"
     },
     "user_tz": 240
    },
    "id": "xZqBsg39eY8_",
    "outputId": "9d205bc5-9ee4-4fa8-fe85-039b6681d2e8"
   },
   "outputs": [
    {
     "data": {
      "text/plain": [
       "age      31.0\n",
       "class     1.0\n",
       "Name: 99, dtype: float64"
      ]
     },
     "execution_count": 4,
     "metadata": {
      "tags": []
     },
     "output_type": "execute_result"
    }
   ],
   "source": [
    "# your code here\n",
    "# solution\n",
    "data.loc[99, 'age':'class']"
   ]
  },
  {
   "cell_type": "markdown",
   "metadata": {
    "colab_type": "text",
    "id": "j8L2EM-5iOWc"
   },
   "source": [
    "Write code to figure out how many people are classified as having diabetes, class is 1"
   ]
  },
  {
   "cell_type": "code",
   "execution_count": 5,
   "metadata": {
    "colab": {
     "autoexec": {
      "startup": false,
      "wait_interval": 0
     },
     "base_uri": "https://localhost:8080/",
     "height": 34
    },
    "colab_type": "code",
    "executionInfo": {
     "elapsed": 348,
     "status": "ok",
     "timestamp": 1531158234247,
     "user": {
      "displayName": "john passarelli",
      "photoUrl": "https://lh3.googleusercontent.com/a/default-user=s128",
      "userId": "102241934905781120798"
     },
     "user_tz": 240
    },
    "id": "vohzS51WiWvD",
    "outputId": "54196d6e-98d5-464e-8cd1-745942e454e2"
   },
   "outputs": [
    {
     "data": {
      "text/plain": [
       "268"
      ]
     },
     "execution_count": 5,
     "metadata": {
      "tags": []
     },
     "output_type": "execute_result"
    }
   ],
   "source": [
    "# your code here\n",
    "# solution\n",
    "len(data[data['class'] == 1])"
   ]
  },
  {
   "cell_type": "markdown",
   "metadata": {
    "colab_type": "text",
    "id": "ieGRz4iiiX4E"
   },
   "source": [
    "Write code to figure out how many people are classified as not having diabetes, class is 0"
   ]
  },
  {
   "cell_type": "code",
   "execution_count": 6,
   "metadata": {
    "colab": {
     "autoexec": {
      "startup": false,
      "wait_interval": 0
     },
     "base_uri": "https://localhost:8080/",
     "height": 34
    },
    "colab_type": "code",
    "executionInfo": {
     "elapsed": 519,
     "status": "ok",
     "timestamp": 1531158242654,
     "user": {
      "displayName": "john passarelli",
      "photoUrl": "https://lh3.googleusercontent.com/a/default-user=s128",
      "userId": "102241934905781120798"
     },
     "user_tz": 240
    },
    "id": "-jq2O-vriXRT",
    "outputId": "2f791e0e-f8a6-4950-d99a-172766e41341"
   },
   "outputs": [
    {
     "data": {
      "text/plain": [
       "500"
      ]
     },
     "execution_count": 6,
     "metadata": {
      "tags": []
     },
     "output_type": "execute_result"
    }
   ],
   "source": [
    "# your code here\n",
    "# solution\n",
    "len(data[data['class'] == 0])"
   ]
  },
  {
   "cell_type": "markdown",
   "metadata": {
    "colab_type": "text",
    "id": "oeFT7T9OnuSd"
   },
   "source": [
    "What percent of people have diabetes in the study"
   ]
  },
  {
   "cell_type": "code",
   "execution_count": 0,
   "metadata": {
    "colab": {
     "autoexec": {
      "startup": false,
      "wait_interval": 0
     },
     "base_uri": "https://localhost:8080/",
     "height": 34
    },
    "colab_type": "code",
    "executionInfo": {
     "elapsed": 542,
     "status": "ok",
     "timestamp": 1528746949908,
     "user": {
      "displayName": "john passarelli",
      "photoUrl": "https://lh3.googleusercontent.com/a/default-user=s128",
      "userId": "102241934905781120798"
     },
     "user_tz": 240
    },
    "id": "zGGHptFYnwq0",
    "outputId": "c37c5c8a-7628-4c74-deff-4ec6bdd1c223"
   },
   "outputs": [
    {
     "data": {
      "text/plain": [
       "0.3489583333333333"
      ]
     },
     "execution_count": 7,
     "metadata": {
      "tags": []
     },
     "output_type": "execute_result"
    }
   ],
   "source": [
    "# your code here\n",
    "# solution\n",
    "len(data[data['class'] == 1]) / len(data)"
   ]
  },
  {
   "cell_type": "markdown",
   "metadata": {
    "colab_type": "text",
    "id": "nbrjnRPafs0p"
   },
   "source": [
    "Print out the pressure and class (no other columns) for the first 5 people\n",
    "\n",
    "hint: this was not shown in our tutorial google how to select multiple columns with loc\n",
    "\n",
    "Being able to effectively google is a very important coding tool"
   ]
  },
  {
   "cell_type": "code",
   "execution_count": 0,
   "metadata": {
    "colab": {
     "autoexec": {
      "startup": false,
      "wait_interval": 0
     },
     "base_uri": "https://localhost:8080/",
     "height": 195
    },
    "colab_type": "code",
    "executionInfo": {
     "elapsed": 523,
     "status": "ok",
     "timestamp": 1528746954242,
     "user": {
      "displayName": "john passarelli",
      "photoUrl": "https://lh3.googleusercontent.com/a/default-user=s128",
      "userId": "102241934905781120798"
     },
     "user_tz": 240
    },
    "id": "GiNCJ19KfHJQ",
    "outputId": "8aa4b4fd-20e5-4670-bf4c-d69fde5ac73a"
   },
   "outputs": [
    {
     "data": {
      "text/html": [
       "<div>\n",
       "<style scoped>\n",
       "    .dataframe tbody tr th:only-of-type {\n",
       "        vertical-align: middle;\n",
       "    }\n",
       "\n",
       "    .dataframe tbody tr th {\n",
       "        vertical-align: top;\n",
       "    }\n",
       "\n",
       "    .dataframe thead th {\n",
       "        text-align: right;\n",
       "    }\n",
       "</style>\n",
       "<table border=\"1\" class=\"dataframe\">\n",
       "  <thead>\n",
       "    <tr style=\"text-align: right;\">\n",
       "      <th></th>\n",
       "      <th>pres</th>\n",
       "      <th>class</th>\n",
       "    </tr>\n",
       "  </thead>\n",
       "  <tbody>\n",
       "    <tr>\n",
       "      <th>0</th>\n",
       "      <td>72</td>\n",
       "      <td>1</td>\n",
       "    </tr>\n",
       "    <tr>\n",
       "      <th>1</th>\n",
       "      <td>66</td>\n",
       "      <td>0</td>\n",
       "    </tr>\n",
       "    <tr>\n",
       "      <th>2</th>\n",
       "      <td>64</td>\n",
       "      <td>1</td>\n",
       "    </tr>\n",
       "    <tr>\n",
       "      <th>3</th>\n",
       "      <td>66</td>\n",
       "      <td>0</td>\n",
       "    </tr>\n",
       "    <tr>\n",
       "      <th>4</th>\n",
       "      <td>40</td>\n",
       "      <td>1</td>\n",
       "    </tr>\n",
       "  </tbody>\n",
       "</table>\n",
       "</div>"
      ],
      "text/plain": [
       "   pres  class\n",
       "0    72      1\n",
       "1    66      0\n",
       "2    64      1\n",
       "3    66      0\n",
       "4    40      1"
      ]
     },
     "execution_count": 8,
     "metadata": {
      "tags": []
     },
     "output_type": "execute_result"
    }
   ],
   "source": [
    "# your code here\n",
    "# solution\n",
    "data.loc[0:4, ['pres','class']]"
   ]
  },
  {
   "cell_type": "markdown",
   "metadata": {
    "colab_type": "text",
    "id": "O-CcsoqlhxUn"
   },
   "source": [
    "Run the cell below, it will print out the correlation among the columns"
   ]
  },
  {
   "cell_type": "code",
   "execution_count": 0,
   "metadata": {
    "colab": {
     "autoexec": {
      "startup": false,
      "wait_interval": 0
     },
     "base_uri": "https://localhost:8080/",
     "height": 314
    },
    "colab_type": "code",
    "executionInfo": {
     "elapsed": 291,
     "status": "ok",
     "timestamp": 1528746954827,
     "user": {
      "displayName": "john passarelli",
      "photoUrl": "https://lh3.googleusercontent.com/a/default-user=s128",
      "userId": "102241934905781120798"
     },
     "user_tz": 240
    },
    "id": "pXpVFt6MffQt",
    "outputId": "38c68435-472b-4a1c-f2db-b883de17797d"
   },
   "outputs": [
    {
     "data": {
      "text/html": [
       "<div>\n",
       "<style scoped>\n",
       "    .dataframe tbody tr th:only-of-type {\n",
       "        vertical-align: middle;\n",
       "    }\n",
       "\n",
       "    .dataframe tbody tr th {\n",
       "        vertical-align: top;\n",
       "    }\n",
       "\n",
       "    .dataframe thead th {\n",
       "        text-align: right;\n",
       "    }\n",
       "</style>\n",
       "<table border=\"1\" class=\"dataframe\">\n",
       "  <thead>\n",
       "    <tr style=\"text-align: right;\">\n",
       "      <th></th>\n",
       "      <th>preg</th>\n",
       "      <th>plas</th>\n",
       "      <th>pres</th>\n",
       "      <th>skin</th>\n",
       "      <th>test</th>\n",
       "      <th>mass</th>\n",
       "      <th>pedi</th>\n",
       "      <th>age</th>\n",
       "      <th>class</th>\n",
       "    </tr>\n",
       "  </thead>\n",
       "  <tbody>\n",
       "    <tr>\n",
       "      <th>preg</th>\n",
       "      <td>1.000000</td>\n",
       "      <td>0.129459</td>\n",
       "      <td>0.141282</td>\n",
       "      <td>-0.081672</td>\n",
       "      <td>-0.073535</td>\n",
       "      <td>0.017683</td>\n",
       "      <td>-0.033523</td>\n",
       "      <td>0.544341</td>\n",
       "      <td>0.221898</td>\n",
       "    </tr>\n",
       "    <tr>\n",
       "      <th>plas</th>\n",
       "      <td>0.129459</td>\n",
       "      <td>1.000000</td>\n",
       "      <td>0.152590</td>\n",
       "      <td>0.057328</td>\n",
       "      <td>0.331357</td>\n",
       "      <td>0.221071</td>\n",
       "      <td>0.137337</td>\n",
       "      <td>0.263514</td>\n",
       "      <td>0.466581</td>\n",
       "    </tr>\n",
       "    <tr>\n",
       "      <th>pres</th>\n",
       "      <td>0.141282</td>\n",
       "      <td>0.152590</td>\n",
       "      <td>1.000000</td>\n",
       "      <td>0.207371</td>\n",
       "      <td>0.088933</td>\n",
       "      <td>0.281805</td>\n",
       "      <td>0.041265</td>\n",
       "      <td>0.239528</td>\n",
       "      <td>0.065068</td>\n",
       "    </tr>\n",
       "    <tr>\n",
       "      <th>skin</th>\n",
       "      <td>-0.081672</td>\n",
       "      <td>0.057328</td>\n",
       "      <td>0.207371</td>\n",
       "      <td>1.000000</td>\n",
       "      <td>0.436783</td>\n",
       "      <td>0.392573</td>\n",
       "      <td>0.183928</td>\n",
       "      <td>-0.113970</td>\n",
       "      <td>0.074752</td>\n",
       "    </tr>\n",
       "    <tr>\n",
       "      <th>test</th>\n",
       "      <td>-0.073535</td>\n",
       "      <td>0.331357</td>\n",
       "      <td>0.088933</td>\n",
       "      <td>0.436783</td>\n",
       "      <td>1.000000</td>\n",
       "      <td>0.197859</td>\n",
       "      <td>0.185071</td>\n",
       "      <td>-0.042163</td>\n",
       "      <td>0.130548</td>\n",
       "    </tr>\n",
       "    <tr>\n",
       "      <th>mass</th>\n",
       "      <td>0.017683</td>\n",
       "      <td>0.221071</td>\n",
       "      <td>0.281805</td>\n",
       "      <td>0.392573</td>\n",
       "      <td>0.197859</td>\n",
       "      <td>1.000000</td>\n",
       "      <td>0.140647</td>\n",
       "      <td>0.036242</td>\n",
       "      <td>0.292695</td>\n",
       "    </tr>\n",
       "    <tr>\n",
       "      <th>pedi</th>\n",
       "      <td>-0.033523</td>\n",
       "      <td>0.137337</td>\n",
       "      <td>0.041265</td>\n",
       "      <td>0.183928</td>\n",
       "      <td>0.185071</td>\n",
       "      <td>0.140647</td>\n",
       "      <td>1.000000</td>\n",
       "      <td>0.033561</td>\n",
       "      <td>0.173844</td>\n",
       "    </tr>\n",
       "    <tr>\n",
       "      <th>age</th>\n",
       "      <td>0.544341</td>\n",
       "      <td>0.263514</td>\n",
       "      <td>0.239528</td>\n",
       "      <td>-0.113970</td>\n",
       "      <td>-0.042163</td>\n",
       "      <td>0.036242</td>\n",
       "      <td>0.033561</td>\n",
       "      <td>1.000000</td>\n",
       "      <td>0.238356</td>\n",
       "    </tr>\n",
       "    <tr>\n",
       "      <th>class</th>\n",
       "      <td>0.221898</td>\n",
       "      <td>0.466581</td>\n",
       "      <td>0.065068</td>\n",
       "      <td>0.074752</td>\n",
       "      <td>0.130548</td>\n",
       "      <td>0.292695</td>\n",
       "      <td>0.173844</td>\n",
       "      <td>0.238356</td>\n",
       "      <td>1.000000</td>\n",
       "    </tr>\n",
       "  </tbody>\n",
       "</table>\n",
       "</div>"
      ],
      "text/plain": [
       "           preg      plas      pres      skin      test      mass      pedi  \\\n",
       "preg   1.000000  0.129459  0.141282 -0.081672 -0.073535  0.017683 -0.033523   \n",
       "plas   0.129459  1.000000  0.152590  0.057328  0.331357  0.221071  0.137337   \n",
       "pres   0.141282  0.152590  1.000000  0.207371  0.088933  0.281805  0.041265   \n",
       "skin  -0.081672  0.057328  0.207371  1.000000  0.436783  0.392573  0.183928   \n",
       "test  -0.073535  0.331357  0.088933  0.436783  1.000000  0.197859  0.185071   \n",
       "mass   0.017683  0.221071  0.281805  0.392573  0.197859  1.000000  0.140647   \n",
       "pedi  -0.033523  0.137337  0.041265  0.183928  0.185071  0.140647  1.000000   \n",
       "age    0.544341  0.263514  0.239528 -0.113970 -0.042163  0.036242  0.033561   \n",
       "class  0.221898  0.466581  0.065068  0.074752  0.130548  0.292695  0.173844   \n",
       "\n",
       "            age     class  \n",
       "preg   0.544341  0.221898  \n",
       "plas   0.263514  0.466581  \n",
       "pres   0.239528  0.065068  \n",
       "skin  -0.113970  0.074752  \n",
       "test  -0.042163  0.130548  \n",
       "mass   0.036242  0.292695  \n",
       "pedi   0.033561  0.173844  \n",
       "age    1.000000  0.238356  \n",
       "class  0.238356  1.000000  "
      ]
     },
     "execution_count": 9,
     "metadata": {
      "tags": []
     },
     "output_type": "execute_result"
    }
   ],
   "source": [
    "data.corr()"
   ]
  },
  {
   "cell_type": "markdown",
   "metadata": {
    "colab_type": "text",
    "id": "P_7xRF11h4Uf"
   },
   "source": [
    "What column has the highest correlation with class? Find the mean() value of that column"
   ]
  },
  {
   "cell_type": "code",
   "execution_count": 0,
   "metadata": {
    "colab": {
     "autoexec": {
      "startup": false,
      "wait_interval": 0
     }
    },
    "colab_type": "code",
    "id": "clb2Gh8Mn9d4"
   },
   "outputs": [],
   "source": [
    "# your code here\n",
    "# solution\n",
    "mean_val = data.loc[:,'plas'].mean()"
   ]
  },
  {
   "cell_type": "markdown",
   "metadata": {
    "colab_type": "text",
    "id": "64yWhAARoWw-"
   },
   "source": [
    "Create a new dataframe with only people that are above the mean found above"
   ]
  },
  {
   "cell_type": "code",
   "execution_count": 0,
   "metadata": {
    "colab": {
     "autoexec": {
      "startup": false,
      "wait_interval": 0
     }
    },
    "colab_type": "code",
    "id": "HRLjs3agkdPY"
   },
   "outputs": [],
   "source": [
    "# your code here\n",
    "# solution\n",
    "data_above_plas_mean = data.loc[data['plas'] > mean_val]"
   ]
  },
  {
   "cell_type": "markdown",
   "metadata": {
    "colab_type": "text",
    "id": "VvUV0lrRmiB7"
   },
   "source": [
    "What percent of the new dataframe have diabetes"
   ]
  },
  {
   "cell_type": "code",
   "execution_count": 0,
   "metadata": {
    "colab": {
     "autoexec": {
      "startup": false,
      "wait_interval": 0
     },
     "base_uri": "https://localhost:8080/",
     "height": 34
    },
    "colab_type": "code",
    "executionInfo": {
     "elapsed": 353,
     "status": "ok",
     "timestamp": 1528746957937,
     "user": {
      "displayName": "john passarelli",
      "photoUrl": "https://lh3.googleusercontent.com/a/default-user=s128",
      "userId": "102241934905781120798"
     },
     "user_tz": 240
    },
    "id": "tx3x0WsFl3ya",
    "outputId": "c0be88d3-7a5c-40b9-94ad-cfcd1b596aa5"
   },
   "outputs": [
    {
     "data": {
      "text/plain": [
       "0.5587392550143266"
      ]
     },
     "execution_count": 12,
     "metadata": {
      "tags": []
     },
     "output_type": "execute_result"
    }
   ],
   "source": [
    "num_ppl_diabetes = len(data_above_plas_mean.loc[data_above_plas_mean['class'] == 1])\n",
    "total_ppl = len(data_above_plas_mean)\n",
    "num_ppl_diabetes / total_ppl"
   ]
  },
  {
   "cell_type": "markdown",
   "metadata": {
    "colab_type": "text",
    "id": "RxGIQp0JrUnq"
   },
   "source": [
    "Create a new dataframe that only includes people who are above the average value for each column in the dataset (except 'class'). In other words, find the average value for each column, and then find which users have values above all of these average column values"
   ]
  },
  {
   "cell_type": "code",
   "execution_count": 0,
   "metadata": {
    "colab": {
     "autoexec": {
      "startup": false,
      "wait_interval": 0
     }
    },
    "colab_type": "code",
    "id": "Ylf4p6NNrfME"
   },
   "outputs": [],
   "source": [
    "# write code here\n",
    "means = {}\n",
    "for col in data.columns:\n",
    "  means[col] = data.loc[:,col].mean()"
   ]
  },
  {
   "cell_type": "code",
   "execution_count": 0,
   "metadata": {
    "colab": {
     "autoexec": {
      "startup": false,
      "wait_interval": 0
     },
     "base_uri": "https://localhost:8080/",
     "height": 168
    },
    "colab_type": "code",
    "executionInfo": {
     "elapsed": 269,
     "status": "ok",
     "timestamp": 1528482974528,
     "user": {
      "displayName": "john passarelli",
      "photoUrl": "https://lh3.googleusercontent.com/a/default-user=s128",
      "userId": "102241934905781120798"
     },
     "user_tz": 240
    },
    "id": "jQEds5o6r0G8",
    "outputId": "8dec41df-82cd-470c-d29c-0401125137cd"
   },
   "outputs": [
    {
     "data": {
      "text/plain": [
       "{'age': 33.240885416666664,\n",
       " 'class': 0.3489583333333333,\n",
       " 'mass': 31.992578124999998,\n",
       " 'pedi': 0.47187630208333325,\n",
       " 'plas': 120.89453125,\n",
       " 'preg': 3.8450520833333335,\n",
       " 'pres': 69.10546875,\n",
       " 'skin': 20.536458333333332,\n",
       " 'test': 79.79947916666667}"
      ]
     },
     "execution_count": 57,
     "metadata": {
      "tags": []
     },
     "output_type": "execute_result"
    }
   ],
   "source": [
    "means"
   ]
  },
  {
   "cell_type": "code",
   "execution_count": 0,
   "metadata": {
    "colab": {
     "autoexec": {
      "startup": false,
      "wait_interval": 0
     }
    },
    "colab_type": "code",
    "id": "4insqHpOr0nu"
   },
   "outputs": [],
   "source": [
    "# probably a cleaner way to do this\n",
    "data_above_means = data.loc[(data['plas'] > means['plas']) & (data['age'] > means['age']) & (data['mass'] > means['mass']) & (data['pedi'] > means['pedi']) & (data['preg'] > means['preg']) & (data['pres'] > means['pres']) & (data['skin'] > means['skin']) & (data['test'] > means['test'])]"
   ]
  },
  {
   "cell_type": "code",
   "execution_count": 0,
   "metadata": {
    "colab": {
     "autoexec": {
      "startup": false,
      "wait_interval": 0
     },
     "base_uri": "https://localhost:8080/",
     "height": 34
    },
    "colab_type": "code",
    "executionInfo": {
     "elapsed": 353,
     "status": "ok",
     "timestamp": 1528747114236,
     "user": {
      "displayName": "john passarelli",
      "photoUrl": "https://lh3.googleusercontent.com/a/default-user=s128",
      "userId": "102241934905781120798"
     },
     "user_tz": 240
    },
    "id": "KXCmWtSFs5Kt",
    "outputId": "3c9fef7a-c2e0-4cbc-8d84-f5bd8919c619"
   },
   "outputs": [
    {
     "data": {
      "text/plain": [
       "19"
      ]
     },
     "execution_count": 16,
     "metadata": {
      "tags": []
     },
     "output_type": "execute_result"
    }
   ],
   "source": [
    "len(data_above_means)"
   ]
  },
  {
   "cell_type": "code",
   "execution_count": 0,
   "metadata": {
    "colab": {
     "autoexec": {
      "startup": false,
      "wait_interval": 0
     },
     "base_uri": "https://localhost:8080/",
     "height": 34
    },
    "colab_type": "code",
    "executionInfo": {
     "elapsed": 261,
     "status": "ok",
     "timestamp": 1528747118287,
     "user": {
      "displayName": "john passarelli",
      "photoUrl": "https://lh3.googleusercontent.com/a/default-user=s128",
      "userId": "102241934905781120798"
     },
     "user_tz": 240
    },
    "id": "FBH2Y_vQs7IO",
    "outputId": "fa75396f-bea9-456e-bc18-1b09d6985ec1"
   },
   "outputs": [
    {
     "data": {
      "text/plain": [
       "0.8421052631578947"
      ]
     },
     "execution_count": 17,
     "metadata": {
      "tags": []
     },
     "output_type": "execute_result"
    }
   ],
   "source": [
    "len(data_above_means[data_above_means['class'] == 1]) / len(data_above_means)"
   ]
  },
  {
   "cell_type": "markdown",
   "metadata": {
    "colab_type": "text",
    "id": "BIJkXsK4ch-u"
   },
   "source": [
    "Using what you have learned (and google) explore the data. Discuss what you find with people around you or the instructors"
   ]
  },
  {
   "cell_type": "code",
   "execution_count": 0,
   "metadata": {
    "colab": {
     "autoexec": {
      "startup": false,
      "wait_interval": 0
     }
    },
    "colab_type": "code",
    "id": "kSl28jLLdAF9"
   },
   "outputs": [],
   "source": [
    "# write code here"
   ]
  }
 ],
 "metadata": {
  "colab": {
   "collapsed_sections": [],
   "default_view": {},
   "name": "Pandas Problem Set Solution.ipynb",
   "provenance": [
    {
     "file_id": "165CSmT99w4_Sv1UENIyvIkH7ZEw2Xeh8",
     "timestamp": 1527780043079
    }
   ],
   "version": "0.3.2",
   "views": {}
  },
  "kernelspec": {
   "display_name": "Python 3",
   "language": "python",
   "name": "python3"
  },
  "language_info": {
   "codemirror_mode": {
    "name": "ipython",
    "version": 3
   },
   "file_extension": ".py",
   "mimetype": "text/x-python",
   "name": "python",
   "nbconvert_exporter": "python",
   "pygments_lexer": "ipython3",
   "version": "3.6.5"
  }
 },
 "nbformat": 4,
 "nbformat_minor": 1
}
