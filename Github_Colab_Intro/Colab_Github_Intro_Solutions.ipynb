{
 "cells": [
  {
   "cell_type": "markdown",
   "metadata": {
    "colab_type": "text",
    "id": "WWN1vQBKVQPf"
   },
   "source": [
    "# Getting Comfortable with Colaboratory\n",
    "\n",
    "Google Colaboratory (Colab) is an free online Python notebook that runs on a cpu or gpu in the cloud (i.e. some server at Google). If you have a google account, you can code with Colab without downloading any IDE (Integrated Development Environment [ex. Atom, Spyder, etc.]) or installing any packages onto your local machine. It is functionally very similar to Jupyter Notebooks with a few exceptions for uploading/downloading to/from local files.\n",
    "\n",
    "Here are some basics for working in Colab:\n",
    "\n",
    "* Add a cell of code or text by clicking \"+ CODE\" or \"+ TEXT\" in the top left corner\n",
    "* Move the cell you are currently editing up or down in the notebook's cell order by clicking \"*up arrow/down arrow* CELL\" next to the add code/text buttons. \n",
    "* Download your current notebook to your local drive using File > Download .ipynb \n",
    "* To run the cell that you are currently editing, use ctrl + enter. To run all cells in a notebook use Runtime > Run All\n",
    "* After you run a cell, its output (if there is any) will appear below the cell. To clear the output of a cell, click the three dots in the upper right corner of the cell and select Clear Output. To delete a cell select Delete Cell from the same menu.\n",
    "* Explore the menus and options to get a feel for Colab"
   ]
  },
  {
   "cell_type": "markdown",
   "metadata": {
    "colab_type": "text",
    "id": "NZqd6FM_W_ZO"
   },
   "source": [
    "## Packages\n",
    "\n",
    "Colab already has most common packages installed and ready for import, but if it doesn't have the particular package you need, you can install it using \"\"! pip install mypackage\" from inside a notebook cell.\n",
    "\n",
    "Try installing tensorflow in the cell below. It should output \"Requirement already satisfied\", meaning that the package is already installed on the remote cpu you are using. "
   ]
  },
  {
   "cell_type": "code",
   "execution_count": 3,
   "metadata": {
    "colab": {
     "autoexec": {
      "startup": false,
      "wait_interval": 0
     },
     "base_uri": "https://localhost:8080/",
     "height": 255
    },
    "colab_type": "code",
    "executionInfo": {
     "elapsed": 2314,
     "status": "ok",
     "timestamp": 1530628002925,
     "user": {
      "displayName": "Tom Possidente",
      "photoUrl": "https://lh3.googleusercontent.com/a/default-user=s128",
      "userId": "108366259117106511265"
     },
     "user_tz": 240
    },
    "id": "e_ul6QmGZmo4",
    "outputId": "57249888-5cff-4183-c983-b22eba2db0c3"
   },
   "outputs": [
    {
     "name": "stdout",
     "output_type": "stream",
     "text": [
      "Requirement already satisfied: tensorflow in /usr/local/lib/python3.6/dist-packages (1.9.0rc1)\r\n",
      "Requirement already satisfied: gast>=0.2.0 in /usr/local/lib/python3.6/dist-packages (from tensorflow) (0.2.0)\r\n",
      "Requirement already satisfied: setuptools<=39.1.0 in /usr/local/lib/python3.6/dist-packages (from tensorflow) (39.1.0)\r\n",
      "Requirement already satisfied: tensorboard<1.10.0,>=1.9.0 in /usr/local/lib/python3.6/dist-packages (from tensorflow) (1.9.0)\r\n",
      "Requirement already satisfied: protobuf>=3.4.0 in /usr/local/lib/python3.6/dist-packages (from tensorflow) (3.6.0)\r\n",
      "Requirement already satisfied: absl-py>=0.1.6 in /usr/local/lib/python3.6/dist-packages (from tensorflow) (0.2.2)\r\n",
      "Requirement already satisfied: astor>=0.6.0 in /usr/local/lib/python3.6/dist-packages (from tensorflow) (0.6.2)\r\n",
      "Requirement already satisfied: numpy>=1.13.3 in /usr/local/lib/python3.6/dist-packages (from tensorflow) (1.14.5)\r\n",
      "Requirement already satisfied: grpcio>=1.8.6 in /usr/local/lib/python3.6/dist-packages (from tensorflow) (1.13.0)\r\n",
      "Requirement already satisfied: termcolor>=1.1.0 in /usr/local/lib/python3.6/dist-packages (from tensorflow) (1.1.0)\n",
      "Requirement already satisfied: six>=1.10.0 in /usr/local/lib/python3.6/dist-packages (from tensorflow) (1.11.0)\n",
      "Requirement already satisfied: wheel>=0.26 in /usr/local/lib/python3.6/dist-packages (from tensorflow) (0.31.1)\n",
      "Requirement already satisfied: markdown>=2.6.8 in /usr/local/lib/python3.6/dist-packages (from tensorboard<1.10.0,>=1.9.0->tensorflow) (2.6.11)\n",
      "Requirement already satisfied: werkzeug>=0.11.10 in /usr/local/lib/python3.6/dist-packages (from tensorboard<1.10.0,>=1.9.0->tensorflow) (0.14.1)\n"
     ]
    }
   ],
   "source": [
    "! pip install tensorflow"
   ]
  },
  {
   "cell_type": "markdown",
   "metadata": {
    "colab_type": "text",
    "id": "pbEYlw5BZ9FR"
   },
   "source": [
    "## GPU Use\n",
    "\n",
    "Colab has (limited) free GPU support. To enable GPU support use Edit > Notebook Settings > Hardware Accelerator > GPU. When switching between CPU and GPU, all your local variables will be cleared, so don't switch in the middle or running something unless you are prepared to reload all your local variables. Because the GPU is free and public, sometimes many people try to use it at the same time. This can result in you getting less GPU resources to work with. If you get a \"ResourcesExhausted\" error while using GPU, this means you have used all the GPU resources dedicated to your session and you will have to restart your runtime (Runtime > Restart Runtime). After restarting your runtime, your local variables will be wiped. You do not need GPU power unless you're doing something computationally intensive, like training a large neural network. My advice would be to not use the GPU unless you notice your runtime slowing down significantly or you know you will need it during your session. "
   ]
  },
  {
   "cell_type": "markdown",
   "metadata": {
    "colab_type": "text",
    "id": "Nirm0axpdu-4"
   },
   "source": [
    "## Downloading/Uploading Locally in Colab\n",
    "\n",
    "Although you are running your code on a remote cpu/gpu, you can still download/upload files to/from your local drive. There are 2 special colab commands to do so. For both you will need to import \"files\" from \"google.colab\". Note that these commands do not work on IDEs, and your regular download/upload functions will not work in Colab.\n",
    "\n",
    "To upload a file: \n",
    " \n",
    "\n",
    "```\n",
    "from google.colab import files\n",
    "\n",
    "uploaded = files.upload()\n",
    "\n",
    "```\n",
    "Whenever files.upload() is run, a GUI (graphical user interface) popup will appear in the output. Select \"Choose Files\" and select a file from your machine.\n",
    "\n",
    "\n",
    "When downloading files, use the files.download('filename.ext') function and the file will be saved into your downloads folder. This requires the filename you input to be a file already in existence in the cpu of the remote server you are using. This means that you will have to write the file before downloading it to your own machine. How to write a file depends on the filetype. An example for a csv file is as follows:\n",
    "\n",
    "``` \n",
    "from google.colab import files\n",
    "\n",
    "csv.open('filename.csv', 'w')      #'w' argument indicates we are writing strings to the file\n",
    "csv.write(variable_to_convert_to_csv)\n",
    "files.download('filename.csv')\n",
    "```\n",
    "\n",
    "Create a .txt file somewhere in your local drive and upload it to colab. Remember to save it as a variable.\n",
    "\n"
   ]
  },
  {
   "cell_type": "code",
   "execution_count": 0,
   "metadata": {
    "colab": {
     "autoexec": {
      "startup": false,
      "wait_interval": 0
     }
    },
    "colab_type": "code",
    "id": "QSigMz69iZiC"
   },
   "outputs": [],
   "source": [
    "from google.colab import files\n",
    "\n",
    "uploaded = files.upload()\n",
    "\n",
    "uploaded = str(uploaded)"
   ]
  },
  {
   "cell_type": "markdown",
   "metadata": {
    "colab_type": "text",
    "id": "DwwsAN3njJz7"
   },
   "source": [
    "Now download the same file you just uploaded. "
   ]
  },
  {
   "cell_type": "code",
   "execution_count": 0,
   "metadata": {
    "colab": {
     "autoexec": {
      "startup": false,
      "wait_interval": 0
     }
    },
    "colab_type": "code",
    "id": "Uqbb9EXBje8i"
   },
   "outputs": [],
   "source": [
    "csv = open('filename.csv', 'w')\n",
    "csv.write(uploaded)\n",
    "files.download('filename.csv')"
   ]
  },
  {
   "cell_type": "markdown",
   "metadata": {
    "colab_type": "text",
    "id": "Yg-2ZXzEdjjn"
   },
   "source": [
    "# Troubleshooting Colab\n",
    "* If you get a \"ResourcesExhausted\" error, this means you have used all the GPU resources dedicated to your session and you will need to restart your runtime (Runtime > Restart Runtime). After restarting your runtime your local environment will be wiped.\n",
    "* If you get a warning window that says you are close to reaching the session's memory limit, this means you are nearing a ResourcesExhausted error. You can still run code until the error occurs, but note that you will likely need to restart your runtime soon.\n",
    "* Colab will automatically end your runtime after 12 hours. Simply restart it if this happens\n",
    "* If things are running really slow, double check that you are using GPU\n",
    "* If you run into trouble and a cell is taking too long to run, use Runtime > Interrupt execution. You may have to wait a minute for the interruption to take effect.\n",
    "* If all else fails, try Runtime > Restart Runtime. This will wipe your local variables. \n",
    "* Google is your best friend! Learning how to effectively and efficiently use google for coding queries is a vital skill.\n",
    "* You can always ask an instructor for help"
   ]
  }
 ],
 "metadata": {
  "colab": {
   "collapsed_sections": [],
   "default_view": {},
   "name": "Colab_Github_Intro_Solutions.ipynb",
   "provenance": [],
   "version": "0.3.2",
   "views": {}
  },
  "kernelspec": {
   "display_name": "Python 3",
   "language": "python",
   "name": "python3"
  },
  "language_info": {
   "codemirror_mode": {
    "name": "ipython",
    "version": 3
   },
   "file_extension": ".py",
   "mimetype": "text/x-python",
   "name": "python",
   "nbconvert_exporter": "python",
   "pygments_lexer": "ipython3",
   "version": "3.6.5"
  }
 },
 "nbformat": 4,
 "nbformat_minor": 1
}
