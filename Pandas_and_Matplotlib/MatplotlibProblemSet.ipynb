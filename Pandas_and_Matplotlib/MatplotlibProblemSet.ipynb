{
  "nbformat": 4,
  "nbformat_minor": 0,
  "metadata": {
    "colab": {
      "name": "MatplotlibProblemSet.ipynb",
      "version": "0.3.2",
      "views": {},
      "default_view": {},
      "provenance": [
        {
          "file_id": "https://github.com/tensorflow/workshops/blob/master/notebooks/1-mnist-with-keras.ipynb",
          "timestamp": 1527174512685
        }
      ],
      "collapsed_sections": [],
      "toc_visible": true
    }
  },
  "cells": [
    {
      "metadata": {
        "id": "62aBklHO062y",
        "colab_type": "text"
      },
      "cell_type": "markdown",
      "source": [
        "#Matplotlib Problem Set"
      ]
    },
    {
      "metadata": {
        "id": "5BPzhruU08-J",
        "colab_type": "code",
        "colab": {
          "autoexec": {
            "startup": false,
            "wait_interval": 0
          }
        }
      },
      "cell_type": "code",
      "source": [
        "import matplotlib.pyplot as plt\n",
        "import numpy as np"
      ],
      "execution_count": 0,
      "outputs": []
    },
    {
      "metadata": {
        "id": "5RSW40kR1Vzz",
        "colab_type": "text"
      },
      "cell_type": "markdown",
      "source": [
        "#### Below is the temperature in degrees Celsius for this day (July 10) in Boston from 1961 to 2010. Plot the temperature on the Y-Axis"
      ]
    },
    {
      "metadata": {
        "id": "4rqalSZf1Yjq",
        "colab_type": "code",
        "colab": {
          "autoexec": {
            "startup": false,
            "wait_interval": 0
          }
        }
      },
      "cell_type": "code",
      "source": [
        "temp_boston = [17.8, 22.8, 17.5, 16.4, 23.35, 25.3, 27.25, 24.45, 22.5, 23.6, 26.7, 22.75, 21.95, 26.4,\n",
        "23.05, 22.5, 21.1, 26.1, 23.9, 20.25, 27.8, 23.9, 21.7, 19.7, 25.0, 21.4, 21.1, 27.8, 22.25, 27.25, \n",
        "23.35, 25.0, 30.0, 25.8, 23.6, 22.5,19.15, 22.8, 23.6, 25.0, 20.8, 21.4, 18.6, 23.05, 25.0, 25.0,\n",
        "18.35, 25.3, 18.6]"
      ],
      "execution_count": 0,
      "outputs": []
    },
    {
      "metadata": {
        "id": "7FwkcZzK1b-s",
        "colab_type": "code",
        "colab": {
          "autoexec": {
            "startup": false,
            "wait_interval": 0
          }
        }
      },
      "cell_type": "code",
      "source": [
        "# write code here"
      ],
      "execution_count": 0,
      "outputs": []
    },
    {
      "metadata": {
        "id": "IqPLuWxZ10ZB",
        "colab_type": "text"
      },
      "cell_type": "markdown",
      "source": [
        "#### Below is the temperature in degrees Celsius for this day (July 10) in New York from 1961 to 2010. Plot the temperatures of New York and Boston on the same graph in different colors"
      ]
    },
    {
      "metadata": {
        "id": "LDu1bMEy1gM6",
        "colab_type": "code",
        "colab": {
          "autoexec": {
            "startup": false,
            "wait_interval": 0
          }
        }
      },
      "cell_type": "code",
      "source": [
        "temp_new_york =[23.35, 25.25, 20.25, 22.25, 25.85, 25.85, 25.55, 24.2, 22.5, 23.9, 28.3, 22.8, 26.7,\n",
        "29.7, 23.6, 22.8, 23.05, 26.7, 20.3, 23.65, 28.05, 25.0, 21.4, 21.35, 26.1, 25.25, 28.35, 25.85, 27.5,\n",
        "26.4, 21.7, 27.2, 32.25, 28.3, 22.5, 23.05, 22.8, 25.0, 24.7, 27.5, 25.85, 24.45, 20.0, 24.15, 26.95,\n",
        "22.5, 25.85, 27.25, 19.4]"
      ],
      "execution_count": 0,
      "outputs": []
    },
    {
      "metadata": {
        "id": "PF0sY5F013tJ",
        "colab_type": "code",
        "colab": {
          "autoexec": {
            "startup": false,
            "wait_interval": 0
          }
        }
      },
      "cell_type": "code",
      "source": [
        "# write code here"
      ],
      "execution_count": 0,
      "outputs": []
    },
    {
      "metadata": {
        "id": "sNTQP1WC17TT",
        "colab_type": "text"
      },
      "cell_type": "markdown",
      "source": [
        "####Plot the temperatures of New York and Boston on different graphs in the same figure¶\n"
      ]
    },
    {
      "metadata": {
        "id": "vMLUmGgX18ZM",
        "colab_type": "code",
        "colab": {
          "autoexec": {
            "startup": false,
            "wait_interval": 0
          }
        }
      },
      "cell_type": "code",
      "source": [
        "# write code here"
      ],
      "execution_count": 0,
      "outputs": []
    },
    {
      "metadata": {
        "id": "sv_3v0gL3I7V",
        "colab_type": "text"
      },
      "cell_type": "markdown",
      "source": [
        "## If you have time here are some challenge python problems "
      ]
    },
    {
      "metadata": {
        "id": "QNEH7fO23PCK",
        "colab_type": "text"
      },
      "cell_type": "markdown",
      "source": [
        "As depicted below, create a numpy array of zeros (a) and an array of ones (b). Using slicing and assignment, update a using b, so that a is the array on the right side of the arrow. <br>\n",
        "hint: use np.zeros and np.ones\n"
      ]
    },
    {
      "metadata": {
        "id": "OZfpY4943Pki",
        "colab_type": "code",
        "colab": {
          "autoexec": {
            "startup": false,
            "wait_interval": 0
          }
        }
      },
      "cell_type": "code",
      "source": [
        "# 0 0 0 0 0 0                  0 0 0 0 0 0\n",
        "# 0 0 0 0 0 0    1 1 1  --->   0 0 0 0 0 0\n",
        "# 0 0 0 0 0 0    1 1 1         0 0 1 1 1 0\n",
        "# 0 0 0 0 0 0                  0 0 1 1 1 0"
      ],
      "execution_count": 0,
      "outputs": []
    },
    {
      "metadata": {
        "id": "NOHGOiQX3Po6",
        "colab_type": "code",
        "colab": {
          "autoexec": {
            "startup": false,
            "wait_interval": 0
          }
        }
      },
      "cell_type": "code",
      "source": [
        "# write code here"
      ],
      "execution_count": 0,
      "outputs": []
    },
    {
      "metadata": {
        "id": "uOImCP-Z3QAy",
        "colab_type": "text"
      },
      "cell_type": "markdown",
      "source": [
        "Fill in the function below. The function recieves a non-empty string and an int n, and returns a new string where the character at index n has been removed.¶\n"
      ]
    },
    {
      "metadata": {
        "id": "tqaqr_wl3QSb",
        "colab_type": "code",
        "colab": {
          "autoexec": {
            "startup": false,
            "wait_interval": 0
          }
        }
      },
      "cell_type": "code",
      "source": [
        "def remove_char(old_string, n):\n",
        "    # write code here\n",
        "    return"
      ],
      "execution_count": 0,
      "outputs": []
    },
    {
      "metadata": {
        "id": "2xl10TMi3R3T",
        "colab_type": "text"
      },
      "cell_type": "markdown",
      "source": [
        "Given a string, return a new string where the first and last characters have been exchanged."
      ]
    },
    {
      "metadata": {
        "id": "G3aMdeSv3R_B",
        "colab_type": "code",
        "colab": {
          "autoexec": {
            "startup": false,
            "wait_interval": 0
          }
        }
      },
      "cell_type": "code",
      "source": [
        "def swap_chars(old_string):\n",
        "    # write code here\n",
        "    return"
      ],
      "execution_count": 0,
      "outputs": []
    },
    {
      "metadata": {
        "id": "ijou0sJ33SDp",
        "colab_type": "text"
      },
      "cell_type": "markdown",
      "source": [
        "Test the function with three different parameters\n"
      ]
    },
    {
      "metadata": {
        "id": "oBzMdJLZ3NvL",
        "colab_type": "code",
        "colab": {
          "autoexec": {
            "startup": false,
            "wait_interval": 0
          }
        }
      },
      "cell_type": "code",
      "source": [
        "# write code here"
      ],
      "execution_count": 0,
      "outputs": []
    }
  ]
}