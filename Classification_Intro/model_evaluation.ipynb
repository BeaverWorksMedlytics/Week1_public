{
  "nbformat": 4,
  "nbformat_minor": 0,
  "metadata": {
    "colab": {
      "name": "model_evaluation.ipynb",
      "version": "0.3.2",
      "views": {},
      "default_view": {},
      "provenance": [],
      "collapsed_sections": []
    },
    "kernelspec": {
      "name": "python3",
      "display_name": "Python 3"
    }
  },
  "cells": [
    {
      "metadata": {
        "id": "57SCOcInULbj",
        "colab_type": "text"
      },
      "cell_type": "markdown",
      "source": [
        "# Model Evaluation"
      ]
    },
    {
      "metadata": {
        "id": "3sZdLALtSf_i",
        "colab_type": "text"
      },
      "cell_type": "markdown",
      "source": [
        "## **Lecture Topics**\n",
        "*  Motivation for model evaluation\n",
        "*  Model evaluation procedure\n",
        "*  Model evaluation metrics:\n",
        " *  Accuracy\n",
        " *  Confusion matrix\n",
        " *  Precision, Recall, F1\n",
        " *  Receiver Operating Characteristic (ROC) Curves\n",
        " *  Area Under the Curve (AUC)\n",
        "\n",
        "\n",
        "*This tutorial is derived from Data School's Machine Learning with scikit-learn tutorial. *"
      ]
    },
    {
      "metadata": {
        "id": "oBz9FrOZTAv2",
        "colab_type": "text"
      },
      "cell_type": "markdown",
      "source": [
        "## **What's the deal with model evaluation?**\n",
        "\n",
        " *   We need a way to choose between different model types, tuning parameters, and features\n",
        " *   Model evaluation enables us to estimate how well a model will generalize to out-of-sample data\n",
        " *   A model evaluation metric (or many!) required to quantify the model performance\n"
      ]
    },
    {
      "metadata": {
        "id": "fwJVWtTVTWbz",
        "colab_type": "text"
      },
      "cell_type": "markdown",
      "source": [
        "## **Model evaluation procedure:**\n",
        "1. Split the dataset into a TRAINING set and TESTING set.  Put the testing data set aside and do not use it for any part of model training.\n",
        "2. Leave out part of the TRAINING set as a VALIDATION set.\n",
        "3. Train the model on only the TRAINING data set.\n",
        "4. Evaluate model performance on the VALIDATION set.\n",
        "5. Repeat steps 2+ as necessary.\n",
        "6. Only once the model has been finalized, should you evaluate on the left-out TESTING set."
      ]
    },
    {
      "metadata": {
        "id": "QoU7RS38TWmr",
        "colab_type": "text"
      },
      "cell_type": "markdown",
      "source": [
        "### **Classification Data Set**\n",
        "In this notebook we will work with the popular [PIMA Indians diabetes dataset](https://www.kaggle.com/uciml/pima-indians-diabetes-database/version/1). The goal is to predict whether or not a given female patient will contract diabetes based on certain diagnostic measurements. This is a ***binary*** classification problem. An outcome value of 0 indicates that the patient does not have diabetes, while an outcome of 1 indicates that the patient does have diabetes. \n",
        "\n"
      ]
    },
    {
      "metadata": {
        "id": "ym-sI1JMfPT3",
        "colab_type": "code",
        "colab": {
          "autoexec": {
            "startup": false,
            "wait_interval": 0
          },
          "base_uri": "https://localhost:8080/",
          "height": 119
        },
        "outputId": "4f701a79-bb4e-4839-8c15-314085e3bd7b",
        "executionInfo": {
          "status": "ok",
          "timestamp": 1531079082455,
          "user_tz": 240,
          "elapsed": 4655,
          "user": {
            "displayName": "Danelle Shah",
            "photoUrl": "https://lh3.googleusercontent.com/a/default-user=s128",
            "userId": "100860318553187717982"
          }
        }
      },
      "cell_type": "code",
      "source": [
        "# import packages\n",
        "!pip install graphviz \n",
        "!apt-get install graphviz\n",
        "\n",
        "import graphviz \n",
        "import pandas as pd\n",
        "import matplotlib.pyplot as plt\n",
        "import numpy as np"
      ],
      "execution_count": 101,
      "outputs": [
        {
          "output_type": "stream",
          "text": [
            "Requirement already satisfied: graphviz in /usr/local/lib/python3.6/dist-packages (0.8.4)\n",
            "Reading package lists... Done\n",
            "Building dependency tree       \n",
            "Reading state information... Done\n",
            "graphviz is already the newest version (2.38.0-16ubuntu2).\n",
            "0 upgraded, 0 newly installed, 0 to remove and 6 not upgraded.\n"
          ],
          "name": "stdout"
        }
      ]
    },
    {
      "metadata": {
        "id": "bX7xCiaESvv2",
        "colab_type": "code",
        "colab": {
          "autoexec": {
            "startup": false,
            "wait_interval": 0
          },
          "base_uri": "https://localhost:8080/",
          "height": 204
        },
        "outputId": "611378c0-ada1-40d5-d788-d71a66666c3c",
        "executionInfo": {
          "status": "ok",
          "timestamp": 1531079085072,
          "user_tz": 240,
          "elapsed": 399,
          "user": {
            "displayName": "Danelle Shah",
            "photoUrl": "https://lh3.googleusercontent.com/a/default-user=s128",
            "userId": "100860318553187717982"
          }
        }
      },
      "cell_type": "code",
      "source": [
        "# Read in the data\n",
        "data_url = 'https://raw.githubusercontent.com/BeaverWorksMedlytics/datasets/master/diabetes.csv'\n",
        "data = pd.read_csv(data_url)\n",
        "data.head()"
      ],
      "execution_count": 102,
      "outputs": [
        {
          "output_type": "execute_result",
          "data": {
            "text/html": [
              "<div>\n",
              "<style scoped>\n",
              "    .dataframe tbody tr th:only-of-type {\n",
              "        vertical-align: middle;\n",
              "    }\n",
              "\n",
              "    .dataframe tbody tr th {\n",
              "        vertical-align: top;\n",
              "    }\n",
              "\n",
              "    .dataframe thead th {\n",
              "        text-align: right;\n",
              "    }\n",
              "</style>\n",
              "<table border=\"1\" class=\"dataframe\">\n",
              "  <thead>\n",
              "    <tr style=\"text-align: right;\">\n",
              "      <th></th>\n",
              "      <th>Pregnancies</th>\n",
              "      <th>Glucose</th>\n",
              "      <th>BloodPressure</th>\n",
              "      <th>SkinThickness</th>\n",
              "      <th>Insulin</th>\n",
              "      <th>BMI</th>\n",
              "      <th>DiabetesPedigreeFunction</th>\n",
              "      <th>Age</th>\n",
              "      <th>Outcome</th>\n",
              "    </tr>\n",
              "  </thead>\n",
              "  <tbody>\n",
              "    <tr>\n",
              "      <th>0</th>\n",
              "      <td>6</td>\n",
              "      <td>148</td>\n",
              "      <td>72</td>\n",
              "      <td>35</td>\n",
              "      <td>0</td>\n",
              "      <td>33.6</td>\n",
              "      <td>0.627</td>\n",
              "      <td>50</td>\n",
              "      <td>1</td>\n",
              "    </tr>\n",
              "    <tr>\n",
              "      <th>1</th>\n",
              "      <td>1</td>\n",
              "      <td>85</td>\n",
              "      <td>66</td>\n",
              "      <td>29</td>\n",
              "      <td>0</td>\n",
              "      <td>26.6</td>\n",
              "      <td>0.351</td>\n",
              "      <td>31</td>\n",
              "      <td>0</td>\n",
              "    </tr>\n",
              "    <tr>\n",
              "      <th>2</th>\n",
              "      <td>8</td>\n",
              "      <td>183</td>\n",
              "      <td>64</td>\n",
              "      <td>0</td>\n",
              "      <td>0</td>\n",
              "      <td>23.3</td>\n",
              "      <td>0.672</td>\n",
              "      <td>32</td>\n",
              "      <td>1</td>\n",
              "    </tr>\n",
              "    <tr>\n",
              "      <th>3</th>\n",
              "      <td>1</td>\n",
              "      <td>89</td>\n",
              "      <td>66</td>\n",
              "      <td>23</td>\n",
              "      <td>94</td>\n",
              "      <td>28.1</td>\n",
              "      <td>0.167</td>\n",
              "      <td>21</td>\n",
              "      <td>0</td>\n",
              "    </tr>\n",
              "    <tr>\n",
              "      <th>4</th>\n",
              "      <td>0</td>\n",
              "      <td>137</td>\n",
              "      <td>40</td>\n",
              "      <td>35</td>\n",
              "      <td>168</td>\n",
              "      <td>43.1</td>\n",
              "      <td>2.288</td>\n",
              "      <td>33</td>\n",
              "      <td>1</td>\n",
              "    </tr>\n",
              "  </tbody>\n",
              "</table>\n",
              "</div>"
            ],
            "text/plain": [
              "   Pregnancies  Glucose  BloodPressure  SkinThickness  Insulin   BMI  \\\n",
              "0            6      148             72             35        0  33.6   \n",
              "1            1       85             66             29        0  26.6   \n",
              "2            8      183             64              0        0  23.3   \n",
              "3            1       89             66             23       94  28.1   \n",
              "4            0      137             40             35      168  43.1   \n",
              "\n",
              "   DiabetesPedigreeFunction  Age  Outcome  \n",
              "0                     0.627   50        1  \n",
              "1                     0.351   31        0  \n",
              "2                     0.672   32        1  \n",
              "3                     0.167   21        0  \n",
              "4                     2.288   33        1  "
            ]
          },
          "metadata": {
            "tags": []
          },
          "execution_count": 102
        }
      ]
    },
    {
      "metadata": {
        "id": "u5SL40nidJrz",
        "colab_type": "text"
      },
      "cell_type": "markdown",
      "source": [
        "The columns correspond to the following features:\n",
        "*  **Pregnancies:** Number of times pregnant\n",
        "* **Glucose: ** Plasma glucose concentration a 2 hours in an oral glucose tolerance test\n",
        "* **BloodPressure: ** Diastolic blood pressure (mm Hg)\n",
        "* **SkinThickness: ** Triceps skin fold thickness (mm)\n",
        "* **Insulin: ** 2-Hour serum insulin (mu U/ml)\n",
        "* **BMI: ** Body mass index (weight in kg/(height in m)^2)\n",
        "* **DiabetesPedigreeFunction: ** Diabetes pedigree function\n",
        "* **Age: ** Age (years)\n",
        "* **Outcome: ** Whether or not the woman has diabetes (0 or 1)"
      ]
    },
    {
      "metadata": {
        "id": "zJPvQo9kdgKb",
        "colab_type": "code",
        "colab": {
          "autoexec": {
            "startup": false,
            "wait_interval": 0
          }
        }
      },
      "cell_type": "code",
      "source": [
        "# define features (X) and labels (y)\n",
        "feature_names = ['Pregnancies','Glucose','BloodPressure','SkinThickness','BMI','Age']\n",
        "X = data.loc[:, feature_names]\n",
        "\n",
        "# y is a vector, hence we use dot to access 'label'\n",
        "y = data.Outcome"
      ],
      "execution_count": 0,
      "outputs": []
    },
    {
      "metadata": {
        "id": "UeWjHRSd6HhQ",
        "colab_type": "text"
      },
      "cell_type": "markdown",
      "source": [
        "### Split the data set into training, validation, and test sets"
      ]
    },
    {
      "metadata": {
        "id": "2jJdDuQystTL",
        "colab_type": "code",
        "colab": {
          "autoexec": {
            "startup": false,
            "wait_interval": 0
          }
        }
      },
      "cell_type": "code",
      "source": [
        "from sklearn.model_selection import train_test_split\n",
        "\n",
        "# split X and y into training and testing sets\n",
        "X_train, X_test, y_train, y_test = train_test_split(X, y, test_size=0.25,random_state=0)\n",
        "\n",
        "# further split X and y into training and validation sets\n",
        "X_train, X_val, y_train, y_val = train_test_split(X_train, y_train, test_size=0.25,random_state=0)"
      ],
      "execution_count": 0,
      "outputs": []
    },
    {
      "metadata": {
        "id": "kYzKhOU36Ms9",
        "colab_type": "text"
      },
      "cell_type": "markdown",
      "source": [
        "### Train a model on the training data only"
      ]
    },
    {
      "metadata": {
        "id": "8-x6Uhcas3kn",
        "colab_type": "code",
        "colab": {
          "autoexec": {
            "startup": false,
            "wait_interval": 0
          },
          "base_uri": "https://localhost:8080/",
          "height": 119
        },
        "outputId": "c44ec621-61b3-42cb-a27f-836f554d54fa",
        "executionInfo": {
          "status": "ok",
          "timestamp": 1531079089388,
          "user_tz": 240,
          "elapsed": 273,
          "user": {
            "displayName": "Danelle Shah",
            "photoUrl": "https://lh3.googleusercontent.com/a/default-user=s128",
            "userId": "100860318553187717982"
          }
        }
      },
      "cell_type": "code",
      "source": [
        "# train a logistic regression model on the training set\n",
        "from sklearn import tree\n",
        "from sklearn.tree import DecisionTreeClassifier\n",
        "\n",
        "# instantiate model\n",
        "model = DecisionTreeClassifier(max_depth=4,random_state=0)\n",
        "\n",
        "# fit model\n",
        "model.fit(X_train, y_train)\n"
      ],
      "execution_count": 105,
      "outputs": [
        {
          "output_type": "execute_result",
          "data": {
            "text/plain": [
              "DecisionTreeClassifier(class_weight=None, criterion='gini', max_depth=4,\n",
              "            max_features=None, max_leaf_nodes=None,\n",
              "            min_impurity_decrease=0.0, min_impurity_split=None,\n",
              "            min_samples_leaf=1, min_samples_split=2,\n",
              "            min_weight_fraction_leaf=0.0, presort=False, random_state=0,\n",
              "            splitter='best')"
            ]
          },
          "metadata": {
            "tags": []
          },
          "execution_count": 105
        }
      ]
    },
    {
      "metadata": {
        "id": "FEr2Zey7tREn",
        "colab_type": "code",
        "colab": {
          "autoexec": {
            "startup": false,
            "wait_interval": 0
          },
          "base_uri": "https://localhost:8080/",
          "height": 797
        },
        "outputId": "da504174-c5ff-4d2b-de9f-f9c204c2dc1b",
        "executionInfo": {
          "status": "ok",
          "timestamp": 1531079091194,
          "user_tz": 240,
          "elapsed": 490,
          "user": {
            "displayName": "Danelle Shah",
            "photoUrl": "https://lh3.googleusercontent.com/a/default-user=s128",
            "userId": "100860318553187717982"
          }
        }
      },
      "cell_type": "code",
      "source": [
        "# visualize the decision tree\n",
        "dot_data = tree.export_graphviz(model, out_file=None, \n",
        "                         feature_names=feature_names,  \n",
        "                         class_names=['No Diabetes','Diabetes'],  \n",
        "                         filled=True, rounded=True,\n",
        "                         max_depth=4) \n",
        "\n",
        "graph = graphviz.Source(dot_data)  \n",
        "graph "
      ],
      "execution_count": 106,
      "outputs": [
        {
          "output_type": "execute_result",
          "data": {
            "text/plain": [
              "<graphviz.files.Source at 0x7f8cf1257240>"
            ],
            "image/svg+xml": "<?xml version=\"1.0\" encoding=\"UTF-8\" standalone=\"no\"?>\n<!DOCTYPE svg PUBLIC \"-//W3C//DTD SVG 1.1//EN\"\n \"http://www.w3.org/Graphics/SVG/1.1/DTD/svg11.dtd\">\n<!-- Generated by graphviz version 2.38.0 (20140413.2041)\n -->\n<!-- Title: Tree Pages: 1 -->\n<svg width=\"2018pt\" height=\"552pt\"\n viewBox=\"0.00 0.00 2018.00 552.00\" xmlns=\"http://www.w3.org/2000/svg\" xmlns:xlink=\"http://www.w3.org/1999/xlink\">\n<g id=\"graph0\" class=\"graph\" transform=\"scale(1 1) rotate(0) translate(4 548)\">\n<title>Tree</title>\n<polygon fill=\"white\" stroke=\"none\" points=\"-4,4 -4,-548 2014,-548 2014,4 -4,4\"/>\n<!-- 0 -->\n<g id=\"node1\" class=\"node\"><title>0</title>\n<path fill=\"#e58139\" fill-opacity=\"0.462745\" stroke=\"black\" d=\"M820,-544C820,-544 683,-544 683,-544 677,-544 671,-538 671,-532 671,-532 671,-473 671,-473 671,-467 677,-461 683,-461 683,-461 820,-461 820,-461 826,-461 832,-467 832,-473 832,-473 832,-532 832,-532 832,-538 826,-544 820,-544\"/>\n<text text-anchor=\"middle\" x=\"751.5\" y=\"-528.8\" font-family=\"Helvetica,sans-Serif\" font-size=\"14.00\">Glucose &lt;= 123.5</text>\n<text text-anchor=\"middle\" x=\"751.5\" y=\"-513.8\" font-family=\"Helvetica,sans-Serif\" font-size=\"14.00\">gini = 0.455</text>\n<text text-anchor=\"middle\" x=\"751.5\" y=\"-498.8\" font-family=\"Helvetica,sans-Serif\" font-size=\"14.00\">samples = 432</text>\n<text text-anchor=\"middle\" x=\"751.5\" y=\"-483.8\" font-family=\"Helvetica,sans-Serif\" font-size=\"14.00\">value = [281, 151]</text>\n<text text-anchor=\"middle\" x=\"751.5\" y=\"-468.8\" font-family=\"Helvetica,sans-Serif\" font-size=\"14.00\">class = No Diabetes</text>\n</g>\n<!-- 1 -->\n<g id=\"node2\" class=\"node\"><title>1</title>\n<path fill=\"#e58139\" fill-opacity=\"0.776471\" stroke=\"black\" d=\"M567,-425C567,-425 430,-425 430,-425 424,-425 418,-419 418,-413 418,-413 418,-354 418,-354 418,-348 424,-342 430,-342 430,-342 567,-342 567,-342 573,-342 579,-348 579,-354 579,-354 579,-413 579,-413 579,-419 573,-425 567,-425\"/>\n<text text-anchor=\"middle\" x=\"498.5\" y=\"-409.8\" font-family=\"Helvetica,sans-Serif\" font-size=\"14.00\">BMI &lt;= 26.9</text>\n<text text-anchor=\"middle\" x=\"498.5\" y=\"-394.8\" font-family=\"Helvetica,sans-Serif\" font-size=\"14.00\">gini = 0.3</text>\n<text text-anchor=\"middle\" x=\"498.5\" y=\"-379.8\" font-family=\"Helvetica,sans-Serif\" font-size=\"14.00\">samples = 245</text>\n<text text-anchor=\"middle\" x=\"498.5\" y=\"-364.8\" font-family=\"Helvetica,sans-Serif\" font-size=\"14.00\">value = [200, 45]</text>\n<text text-anchor=\"middle\" x=\"498.5\" y=\"-349.8\" font-family=\"Helvetica,sans-Serif\" font-size=\"14.00\">class = No Diabetes</text>\n</g>\n<!-- 0&#45;&gt;1 -->\n<g id=\"edge1\" class=\"edge\"><title>0&#45;&gt;1</title>\n<path fill=\"none\" stroke=\"black\" d=\"M670.754,-464.159C644.623,-452.074 615.481,-438.598 588.709,-426.217\"/>\n<polygon fill=\"black\" stroke=\"black\" points=\"589.893,-422.908 579.347,-421.888 586.954,-429.262 589.893,-422.908\"/>\n<text text-anchor=\"middle\" x=\"587.972\" y=\"-441.653\" font-family=\"Helvetica,sans-Serif\" font-size=\"14.00\">True</text>\n</g>\n<!-- 10 -->\n<g id=\"node11\" class=\"node\"><title>10</title>\n<path fill=\"#399de5\" fill-opacity=\"0.235294\" stroke=\"black\" d=\"M1069,-425C1069,-425 952,-425 952,-425 946,-425 940,-419 940,-413 940,-413 940,-354 940,-354 940,-348 946,-342 952,-342 952,-342 1069,-342 1069,-342 1075,-342 1081,-348 1081,-354 1081,-354 1081,-413 1081,-413 1081,-419 1075,-425 1069,-425\"/>\n<text text-anchor=\"middle\" x=\"1010.5\" y=\"-409.8\" font-family=\"Helvetica,sans-Serif\" font-size=\"14.00\">BMI &lt;= 30.05</text>\n<text text-anchor=\"middle\" x=\"1010.5\" y=\"-394.8\" font-family=\"Helvetica,sans-Serif\" font-size=\"14.00\">gini = 0.491</text>\n<text text-anchor=\"middle\" x=\"1010.5\" y=\"-379.8\" font-family=\"Helvetica,sans-Serif\" font-size=\"14.00\">samples = 187</text>\n<text text-anchor=\"middle\" x=\"1010.5\" y=\"-364.8\" font-family=\"Helvetica,sans-Serif\" font-size=\"14.00\">value = [81, 106]</text>\n<text text-anchor=\"middle\" x=\"1010.5\" y=\"-349.8\" font-family=\"Helvetica,sans-Serif\" font-size=\"14.00\">class = Diabetes</text>\n</g>\n<!-- 0&#45;&gt;10 -->\n<g id=\"edge10\" class=\"edge\"><title>0&#45;&gt;10</title>\n<path fill=\"none\" stroke=\"black\" d=\"M832.029,-465.122C863.385,-450.957 899.233,-434.763 930.535,-420.623\"/>\n<polygon fill=\"black\" stroke=\"black\" points=\"931.991,-423.806 939.663,-416.5 929.109,-417.427 931.991,-423.806\"/>\n<text text-anchor=\"middle\" x=\"930.83\" y=\"-436.187\" font-family=\"Helvetica,sans-Serif\" font-size=\"14.00\">False</text>\n</g>\n<!-- 2 -->\n<g id=\"node3\" class=\"node\"><title>2</title>\n<path fill=\"#e58139\" stroke=\"black\" d=\"M388,-298.5C388,-298.5 251,-298.5 251,-298.5 245,-298.5 239,-292.5 239,-286.5 239,-286.5 239,-242.5 239,-242.5 239,-236.5 245,-230.5 251,-230.5 251,-230.5 388,-230.5 388,-230.5 394,-230.5 400,-236.5 400,-242.5 400,-242.5 400,-286.5 400,-286.5 400,-292.5 394,-298.5 388,-298.5\"/>\n<text text-anchor=\"middle\" x=\"319.5\" y=\"-283.3\" font-family=\"Helvetica,sans-Serif\" font-size=\"14.00\">gini = 0.0</text>\n<text text-anchor=\"middle\" x=\"319.5\" y=\"-268.3\" font-family=\"Helvetica,sans-Serif\" font-size=\"14.00\">samples = 69</text>\n<text text-anchor=\"middle\" x=\"319.5\" y=\"-253.3\" font-family=\"Helvetica,sans-Serif\" font-size=\"14.00\">value = [69, 0]</text>\n<text text-anchor=\"middle\" x=\"319.5\" y=\"-238.3\" font-family=\"Helvetica,sans-Serif\" font-size=\"14.00\">class = No Diabetes</text>\n</g>\n<!-- 1&#45;&gt;2 -->\n<g id=\"edge2\" class=\"edge\"><title>1&#45;&gt;2</title>\n<path fill=\"none\" stroke=\"black\" d=\"M436.397,-341.907C417.742,-329.714 397.331,-316.373 378.858,-304.298\"/>\n<polygon fill=\"black\" stroke=\"black\" points=\"380.528,-301.209 370.243,-298.667 376.698,-307.068 380.528,-301.209\"/>\n</g>\n<!-- 3 -->\n<g id=\"node4\" class=\"node\"><title>3</title>\n<path fill=\"#e58139\" fill-opacity=\"0.654902\" stroke=\"black\" d=\"M567,-306C567,-306 430,-306 430,-306 424,-306 418,-300 418,-294 418,-294 418,-235 418,-235 418,-229 424,-223 430,-223 430,-223 567,-223 567,-223 573,-223 579,-229 579,-235 579,-235 579,-294 579,-294 579,-300 573,-306 567,-306\"/>\n<text text-anchor=\"middle\" x=\"498.5\" y=\"-290.8\" font-family=\"Helvetica,sans-Serif\" font-size=\"14.00\">Age &lt;= 29.5</text>\n<text text-anchor=\"middle\" x=\"498.5\" y=\"-275.8\" font-family=\"Helvetica,sans-Serif\" font-size=\"14.00\">gini = 0.381</text>\n<text text-anchor=\"middle\" x=\"498.5\" y=\"-260.8\" font-family=\"Helvetica,sans-Serif\" font-size=\"14.00\">samples = 176</text>\n<text text-anchor=\"middle\" x=\"498.5\" y=\"-245.8\" font-family=\"Helvetica,sans-Serif\" font-size=\"14.00\">value = [131, 45]</text>\n<text text-anchor=\"middle\" x=\"498.5\" y=\"-230.8\" font-family=\"Helvetica,sans-Serif\" font-size=\"14.00\">class = No Diabetes</text>\n</g>\n<!-- 1&#45;&gt;3 -->\n<g id=\"edge3\" class=\"edge\"><title>1&#45;&gt;3</title>\n<path fill=\"none\" stroke=\"black\" d=\"M498.5,-341.907C498.5,-333.649 498.5,-324.864 498.5,-316.302\"/>\n<polygon fill=\"black\" stroke=\"black\" points=\"502,-316.021 498.5,-306.021 495,-316.021 502,-316.021\"/>\n</g>\n<!-- 4 -->\n<g id=\"node5\" class=\"node\"><title>4</title>\n<path fill=\"#e58139\" fill-opacity=\"0.831373\" stroke=\"black\" d=\"M316,-187C316,-187 179,-187 179,-187 173,-187 167,-181 167,-175 167,-175 167,-116 167,-116 167,-110 173,-104 179,-104 179,-104 316,-104 316,-104 322,-104 328,-110 328,-116 328,-116 328,-175 328,-175 328,-181 322,-187 316,-187\"/>\n<text text-anchor=\"middle\" x=\"247.5\" y=\"-171.8\" font-family=\"Helvetica,sans-Serif\" font-size=\"14.00\">Pregnancies &lt;= 7.0</text>\n<text text-anchor=\"middle\" x=\"247.5\" y=\"-156.8\" font-family=\"Helvetica,sans-Serif\" font-size=\"14.00\">gini = 0.247</text>\n<text text-anchor=\"middle\" x=\"247.5\" y=\"-141.8\" font-family=\"Helvetica,sans-Serif\" font-size=\"14.00\">samples = 97</text>\n<text text-anchor=\"middle\" x=\"247.5\" y=\"-126.8\" font-family=\"Helvetica,sans-Serif\" font-size=\"14.00\">value = [83, 14]</text>\n<text text-anchor=\"middle\" x=\"247.5\" y=\"-111.8\" font-family=\"Helvetica,sans-Serif\" font-size=\"14.00\">class = No Diabetes</text>\n</g>\n<!-- 3&#45;&gt;4 -->\n<g id=\"edge4\" class=\"edge\"><title>3&#45;&gt;4</title>\n<path fill=\"none\" stroke=\"black\" d=\"M417.7,-225.836C392.061,-213.885 363.559,-200.599 337.325,-188.37\"/>\n<polygon fill=\"black\" stroke=\"black\" points=\"338.691,-185.146 328.148,-184.093 335.733,-191.49 338.691,-185.146\"/>\n</g>\n<!-- 7 -->\n<g id=\"node8\" class=\"node\"><title>7</title>\n<path fill=\"#e58139\" fill-opacity=\"0.352941\" stroke=\"black\" d=\"M567,-187C567,-187 430,-187 430,-187 424,-187 418,-181 418,-175 418,-175 418,-116 418,-116 418,-110 424,-104 430,-104 430,-104 567,-104 567,-104 573,-104 579,-110 579,-116 579,-116 579,-175 579,-175 579,-181 573,-187 567,-187\"/>\n<text text-anchor=\"middle\" x=\"498.5\" y=\"-171.8\" font-family=\"Helvetica,sans-Serif\" font-size=\"14.00\">BMI &lt;= 27.55</text>\n<text text-anchor=\"middle\" x=\"498.5\" y=\"-156.8\" font-family=\"Helvetica,sans-Serif\" font-size=\"14.00\">gini = 0.477</text>\n<text text-anchor=\"middle\" x=\"498.5\" y=\"-141.8\" font-family=\"Helvetica,sans-Serif\" font-size=\"14.00\">samples = 79</text>\n<text text-anchor=\"middle\" x=\"498.5\" y=\"-126.8\" font-family=\"Helvetica,sans-Serif\" font-size=\"14.00\">value = [48, 31]</text>\n<text text-anchor=\"middle\" x=\"498.5\" y=\"-111.8\" font-family=\"Helvetica,sans-Serif\" font-size=\"14.00\">class = No Diabetes</text>\n</g>\n<!-- 3&#45;&gt;7 -->\n<g id=\"edge7\" class=\"edge\"><title>3&#45;&gt;7</title>\n<path fill=\"none\" stroke=\"black\" d=\"M498.5,-222.907C498.5,-214.649 498.5,-205.864 498.5,-197.302\"/>\n<polygon fill=\"black\" stroke=\"black\" points=\"502,-197.021 498.5,-187.021 495,-197.021 502,-197.021\"/>\n</g>\n<!-- 5 -->\n<g id=\"node6\" class=\"node\"><title>5</title>\n<path fill=\"#e58139\" fill-opacity=\"0.854902\" stroke=\"black\" d=\"M149,-68C149,-68 12,-68 12,-68 6,-68 0,-62 0,-56 0,-56 0,-12 0,-12 0,-6 6,-0 12,-0 12,-0 149,-0 149,-0 155,-0 161,-6 161,-12 161,-12 161,-56 161,-56 161,-62 155,-68 149,-68\"/>\n<text text-anchor=\"middle\" x=\"80.5\" y=\"-52.8\" font-family=\"Helvetica,sans-Serif\" font-size=\"14.00\">gini = 0.223</text>\n<text text-anchor=\"middle\" x=\"80.5\" y=\"-37.8\" font-family=\"Helvetica,sans-Serif\" font-size=\"14.00\">samples = 94</text>\n<text text-anchor=\"middle\" x=\"80.5\" y=\"-22.8\" font-family=\"Helvetica,sans-Serif\" font-size=\"14.00\">value = [82, 12]</text>\n<text text-anchor=\"middle\" x=\"80.5\" y=\"-7.8\" font-family=\"Helvetica,sans-Serif\" font-size=\"14.00\">class = No Diabetes</text>\n</g>\n<!-- 4&#45;&gt;5 -->\n<g id=\"edge5\" class=\"edge\"><title>4&#45;&gt;5</title>\n<path fill=\"none\" stroke=\"black\" d=\"M185.315,-103.726C170.354,-93.9161 154.414,-83.4644 139.598,-73.7496\"/>\n<polygon fill=\"black\" stroke=\"black\" points=\"141.302,-70.6816 131.02,-68.1252 137.463,-76.5355 141.302,-70.6816\"/>\n</g>\n<!-- 6 -->\n<g id=\"node7\" class=\"node\"><title>6</title>\n<path fill=\"#399de5\" fill-opacity=\"0.498039\" stroke=\"black\" d=\"M304,-68C304,-68 191,-68 191,-68 185,-68 179,-62 179,-56 179,-56 179,-12 179,-12 179,-6 185,-0 191,-0 191,-0 304,-0 304,-0 310,-0 316,-6 316,-12 316,-12 316,-56 316,-56 316,-62 310,-68 304,-68\"/>\n<text text-anchor=\"middle\" x=\"247.5\" y=\"-52.8\" font-family=\"Helvetica,sans-Serif\" font-size=\"14.00\">gini = 0.444</text>\n<text text-anchor=\"middle\" x=\"247.5\" y=\"-37.8\" font-family=\"Helvetica,sans-Serif\" font-size=\"14.00\">samples = 3</text>\n<text text-anchor=\"middle\" x=\"247.5\" y=\"-22.8\" font-family=\"Helvetica,sans-Serif\" font-size=\"14.00\">value = [1, 2]</text>\n<text text-anchor=\"middle\" x=\"247.5\" y=\"-7.8\" font-family=\"Helvetica,sans-Serif\" font-size=\"14.00\">class = Diabetes</text>\n</g>\n<!-- 4&#45;&gt;6 -->\n<g id=\"edge6\" class=\"edge\"><title>4&#45;&gt;6</title>\n<path fill=\"none\" stroke=\"black\" d=\"M247.5,-103.726C247.5,-95.5175 247.5,-86.8595 247.5,-78.56\"/>\n<polygon fill=\"black\" stroke=\"black\" points=\"251,-78.2996 247.5,-68.2996 244,-78.2996 251,-78.2996\"/>\n</g>\n<!-- 8 -->\n<g id=\"node9\" class=\"node\"><title>8</title>\n<path fill=\"#399de5\" stroke=\"black\" d=\"M459,-68C459,-68 346,-68 346,-68 340,-68 334,-62 334,-56 334,-56 334,-12 334,-12 334,-6 340,-0 346,-0 346,-0 459,-0 459,-0 465,-0 471,-6 471,-12 471,-12 471,-56 471,-56 471,-62 465,-68 459,-68\"/>\n<text text-anchor=\"middle\" x=\"402.5\" y=\"-52.8\" font-family=\"Helvetica,sans-Serif\" font-size=\"14.00\">gini = 0.0</text>\n<text text-anchor=\"middle\" x=\"402.5\" y=\"-37.8\" font-family=\"Helvetica,sans-Serif\" font-size=\"14.00\">samples = 3</text>\n<text text-anchor=\"middle\" x=\"402.5\" y=\"-22.8\" font-family=\"Helvetica,sans-Serif\" font-size=\"14.00\">value = [0, 3]</text>\n<text text-anchor=\"middle\" x=\"402.5\" y=\"-7.8\" font-family=\"Helvetica,sans-Serif\" font-size=\"14.00\">class = Diabetes</text>\n</g>\n<!-- 7&#45;&gt;8 -->\n<g id=\"edge8\" class=\"edge\"><title>7&#45;&gt;8</title>\n<path fill=\"none\" stroke=\"black\" d=\"M462.753,-103.726C454.837,-94.6966 446.444,-85.1235 438.517,-76.0816\"/>\n<polygon fill=\"black\" stroke=\"black\" points=\"440.918,-73.5117 431.694,-68.2996 435.655,-78.1263 440.918,-73.5117\"/>\n</g>\n<!-- 9 -->\n<g id=\"node10\" class=\"node\"><title>9</title>\n<path fill=\"#e58139\" fill-opacity=\"0.415686\" stroke=\"black\" d=\"M638,-68C638,-68 501,-68 501,-68 495,-68 489,-62 489,-56 489,-56 489,-12 489,-12 489,-6 495,-0 501,-0 501,-0 638,-0 638,-0 644,-0 650,-6 650,-12 650,-12 650,-56 650,-56 650,-62 644,-68 638,-68\"/>\n<text text-anchor=\"middle\" x=\"569.5\" y=\"-52.8\" font-family=\"Helvetica,sans-Serif\" font-size=\"14.00\">gini = 0.465</text>\n<text text-anchor=\"middle\" x=\"569.5\" y=\"-37.8\" font-family=\"Helvetica,sans-Serif\" font-size=\"14.00\">samples = 76</text>\n<text text-anchor=\"middle\" x=\"569.5\" y=\"-22.8\" font-family=\"Helvetica,sans-Serif\" font-size=\"14.00\">value = [48, 28]</text>\n<text text-anchor=\"middle\" x=\"569.5\" y=\"-7.8\" font-family=\"Helvetica,sans-Serif\" font-size=\"14.00\">class = No Diabetes</text>\n</g>\n<!-- 7&#45;&gt;9 -->\n<g id=\"edge9\" class=\"edge\"><title>7&#45;&gt;9</title>\n<path fill=\"none\" stroke=\"black\" d=\"M524.938,-103.726C530.615,-94.9703 536.624,-85.7032 542.329,-76.9051\"/>\n<polygon fill=\"black\" stroke=\"black\" points=\"545.405,-78.5943 547.908,-68.2996 539.531,-74.786 545.405,-78.5943\"/>\n</g>\n<!-- 11 -->\n<g id=\"node12\" class=\"node\"><title>11</title>\n<path fill=\"#e58139\" fill-opacity=\"0.650980\" stroke=\"black\" d=\"M1079,-306C1079,-306 942,-306 942,-306 936,-306 930,-300 930,-294 930,-294 930,-235 930,-235 930,-229 936,-223 942,-223 942,-223 1079,-223 1079,-223 1085,-223 1091,-229 1091,-235 1091,-235 1091,-294 1091,-294 1091,-300 1085,-306 1079,-306\"/>\n<text text-anchor=\"middle\" x=\"1010.5\" y=\"-290.8\" font-family=\"Helvetica,sans-Serif\" font-size=\"14.00\">Age &lt;= 32.5</text>\n<text text-anchor=\"middle\" x=\"1010.5\" y=\"-275.8\" font-family=\"Helvetica,sans-Serif\" font-size=\"14.00\">gini = 0.384</text>\n<text text-anchor=\"middle\" x=\"1010.5\" y=\"-260.8\" font-family=\"Helvetica,sans-Serif\" font-size=\"14.00\">samples = 54</text>\n<text text-anchor=\"middle\" x=\"1010.5\" y=\"-245.8\" font-family=\"Helvetica,sans-Serif\" font-size=\"14.00\">value = [40, 14]</text>\n<text text-anchor=\"middle\" x=\"1010.5\" y=\"-230.8\" font-family=\"Helvetica,sans-Serif\" font-size=\"14.00\">class = No Diabetes</text>\n</g>\n<!-- 10&#45;&gt;11 -->\n<g id=\"edge11\" class=\"edge\"><title>10&#45;&gt;11</title>\n<path fill=\"none\" stroke=\"black\" d=\"M1010.5,-341.907C1010.5,-333.649 1010.5,-324.864 1010.5,-316.302\"/>\n<polygon fill=\"black\" stroke=\"black\" points=\"1014,-316.021 1010.5,-306.021 1007,-316.021 1014,-316.021\"/>\n</g>\n<!-- 18 -->\n<g id=\"node19\" class=\"node\"><title>18</title>\n<path fill=\"#399de5\" fill-opacity=\"0.552941\" stroke=\"black\" d=\"M1583,-306C1583,-306 1460,-306 1460,-306 1454,-306 1448,-300 1448,-294 1448,-294 1448,-235 1448,-235 1448,-229 1454,-223 1460,-223 1460,-223 1583,-223 1583,-223 1589,-223 1595,-229 1595,-235 1595,-235 1595,-294 1595,-294 1595,-300 1589,-306 1583,-306\"/>\n<text text-anchor=\"middle\" x=\"1521.5\" y=\"-290.8\" font-family=\"Helvetica,sans-Serif\" font-size=\"14.00\">Glucose &lt;= 154.5</text>\n<text text-anchor=\"middle\" x=\"1521.5\" y=\"-275.8\" font-family=\"Helvetica,sans-Serif\" font-size=\"14.00\">gini = 0.426</text>\n<text text-anchor=\"middle\" x=\"1521.5\" y=\"-260.8\" font-family=\"Helvetica,sans-Serif\" font-size=\"14.00\">samples = 133</text>\n<text text-anchor=\"middle\" x=\"1521.5\" y=\"-245.8\" font-family=\"Helvetica,sans-Serif\" font-size=\"14.00\">value = [41, 92]</text>\n<text text-anchor=\"middle\" x=\"1521.5\" y=\"-230.8\" font-family=\"Helvetica,sans-Serif\" font-size=\"14.00\">class = Diabetes</text>\n</g>\n<!-- 10&#45;&gt;18 -->\n<g id=\"edge18\" class=\"edge\"><title>10&#45;&gt;18</title>\n<path fill=\"none\" stroke=\"black\" d=\"M1081.02,-366.354C1174.32,-344.991 1338.57,-307.384 1437.98,-284.623\"/>\n<polygon fill=\"black\" stroke=\"black\" points=\"1439.02,-287.975 1447.99,-282.331 1437.46,-281.151 1439.02,-287.975\"/>\n</g>\n<!-- 12 -->\n<g id=\"node13\" class=\"node\"><title>12</title>\n<path fill=\"#e58139\" fill-opacity=\"0.952941\" stroke=\"black\" d=\"M990,-187C990,-187 853,-187 853,-187 847,-187 841,-181 841,-175 841,-175 841,-116 841,-116 841,-110 847,-104 853,-104 853,-104 990,-104 990,-104 996,-104 1002,-110 1002,-116 1002,-116 1002,-175 1002,-175 1002,-181 996,-187 990,-187\"/>\n<text text-anchor=\"middle\" x=\"921.5\" y=\"-171.8\" font-family=\"Helvetica,sans-Serif\" font-size=\"14.00\">Glucose &lt;= 151.0</text>\n<text text-anchor=\"middle\" x=\"921.5\" y=\"-156.8\" font-family=\"Helvetica,sans-Serif\" font-size=\"14.00\">gini = 0.087</text>\n<text text-anchor=\"middle\" x=\"921.5\" y=\"-141.8\" font-family=\"Helvetica,sans-Serif\" font-size=\"14.00\">samples = 22</text>\n<text text-anchor=\"middle\" x=\"921.5\" y=\"-126.8\" font-family=\"Helvetica,sans-Serif\" font-size=\"14.00\">value = [21, 1]</text>\n<text text-anchor=\"middle\" x=\"921.5\" y=\"-111.8\" font-family=\"Helvetica,sans-Serif\" font-size=\"14.00\">class = No Diabetes</text>\n</g>\n<!-- 11&#45;&gt;12 -->\n<g id=\"edge12\" class=\"edge\"><title>11&#45;&gt;12</title>\n<path fill=\"none\" stroke=\"black\" d=\"M979.622,-222.907C972.788,-213.923 965.479,-204.315 958.431,-195.05\"/>\n<polygon fill=\"black\" stroke=\"black\" points=\"961.164,-192.861 952.324,-187.021 955.592,-197.099 961.164,-192.861\"/>\n</g>\n<!-- 15 -->\n<g id=\"node16\" class=\"node\"><title>15</title>\n<path fill=\"#e58139\" fill-opacity=\"0.317647\" stroke=\"black\" d=\"M1169,-187C1169,-187 1032,-187 1032,-187 1026,-187 1020,-181 1020,-175 1020,-175 1020,-116 1020,-116 1020,-110 1026,-104 1032,-104 1032,-104 1169,-104 1169,-104 1175,-104 1181,-110 1181,-116 1181,-116 1181,-175 1181,-175 1181,-181 1175,-187 1169,-187\"/>\n<text text-anchor=\"middle\" x=\"1100.5\" y=\"-171.8\" font-family=\"Helvetica,sans-Serif\" font-size=\"14.00\">Age &lt;= 56.0</text>\n<text text-anchor=\"middle\" x=\"1100.5\" y=\"-156.8\" font-family=\"Helvetica,sans-Serif\" font-size=\"14.00\">gini = 0.482</text>\n<text text-anchor=\"middle\" x=\"1100.5\" y=\"-141.8\" font-family=\"Helvetica,sans-Serif\" font-size=\"14.00\">samples = 32</text>\n<text text-anchor=\"middle\" x=\"1100.5\" y=\"-126.8\" font-family=\"Helvetica,sans-Serif\" font-size=\"14.00\">value = [19, 13]</text>\n<text text-anchor=\"middle\" x=\"1100.5\" y=\"-111.8\" font-family=\"Helvetica,sans-Serif\" font-size=\"14.00\">class = No Diabetes</text>\n</g>\n<!-- 11&#45;&gt;15 -->\n<g id=\"edge15\" class=\"edge\"><title>11&#45;&gt;15</title>\n<path fill=\"none\" stroke=\"black\" d=\"M1041.73,-222.907C1048.64,-213.923 1056.03,-204.315 1063.15,-195.05\"/>\n<polygon fill=\"black\" stroke=\"black\" points=\"1066.01,-197.081 1069.33,-187.021 1060.46,-192.813 1066.01,-197.081\"/>\n</g>\n<!-- 13 -->\n<g id=\"node14\" class=\"node\"><title>13</title>\n<path fill=\"#e58139\" stroke=\"black\" d=\"M817,-68C817,-68 680,-68 680,-68 674,-68 668,-62 668,-56 668,-56 668,-12 668,-12 668,-6 674,-0 680,-0 680,-0 817,-0 817,-0 823,-0 829,-6 829,-12 829,-12 829,-56 829,-56 829,-62 823,-68 817,-68\"/>\n<text text-anchor=\"middle\" x=\"748.5\" y=\"-52.8\" font-family=\"Helvetica,sans-Serif\" font-size=\"14.00\">gini = 0.0</text>\n<text text-anchor=\"middle\" x=\"748.5\" y=\"-37.8\" font-family=\"Helvetica,sans-Serif\" font-size=\"14.00\">samples = 20</text>\n<text text-anchor=\"middle\" x=\"748.5\" y=\"-22.8\" font-family=\"Helvetica,sans-Serif\" font-size=\"14.00\">value = [20, 0]</text>\n<text text-anchor=\"middle\" x=\"748.5\" y=\"-7.8\" font-family=\"Helvetica,sans-Serif\" font-size=\"14.00\">class = No Diabetes</text>\n</g>\n<!-- 12&#45;&gt;13 -->\n<g id=\"edge13\" class=\"edge\"><title>12&#45;&gt;13</title>\n<path fill=\"none\" stroke=\"black\" d=\"M857.081,-103.726C841.437,-93.8245 824.761,-83.269 809.291,-73.4774\"/>\n<polygon fill=\"black\" stroke=\"black\" points=\"811.156,-70.5161 800.835,-68.1252 807.413,-76.4308 811.156,-70.5161\"/>\n</g>\n<!-- 14 -->\n<g id=\"node15\" class=\"node\"><title>14</title>\n<path fill=\"none\" stroke=\"black\" d=\"M996,-68C996,-68 859,-68 859,-68 853,-68 847,-62 847,-56 847,-56 847,-12 847,-12 847,-6 853,-0 859,-0 859,-0 996,-0 996,-0 1002,-0 1008,-6 1008,-12 1008,-12 1008,-56 1008,-56 1008,-62 1002,-68 996,-68\"/>\n<text text-anchor=\"middle\" x=\"927.5\" y=\"-52.8\" font-family=\"Helvetica,sans-Serif\" font-size=\"14.00\">gini = 0.5</text>\n<text text-anchor=\"middle\" x=\"927.5\" y=\"-37.8\" font-family=\"Helvetica,sans-Serif\" font-size=\"14.00\">samples = 2</text>\n<text text-anchor=\"middle\" x=\"927.5\" y=\"-22.8\" font-family=\"Helvetica,sans-Serif\" font-size=\"14.00\">value = [1, 1]</text>\n<text text-anchor=\"middle\" x=\"927.5\" y=\"-7.8\" font-family=\"Helvetica,sans-Serif\" font-size=\"14.00\">class = No Diabetes</text>\n</g>\n<!-- 12&#45;&gt;14 -->\n<g id=\"edge14\" class=\"edge\"><title>12&#45;&gt;14</title>\n<path fill=\"none\" stroke=\"black\" d=\"M923.734,-103.726C924.184,-95.5175 924.658,-86.8595 925.113,-78.56\"/>\n<polygon fill=\"black\" stroke=\"black\" points=\"928.623,-78.4761 925.675,-68.2996 921.633,-78.0931 928.623,-78.4761\"/>\n</g>\n<!-- 16 -->\n<g id=\"node17\" class=\"node\"><title>16</title>\n<path fill=\"#399de5\" fill-opacity=\"0.333333\" stroke=\"black\" d=\"M1151,-68C1151,-68 1038,-68 1038,-68 1032,-68 1026,-62 1026,-56 1026,-56 1026,-12 1026,-12 1026,-6 1032,-0 1038,-0 1038,-0 1151,-0 1151,-0 1157,-0 1163,-6 1163,-12 1163,-12 1163,-56 1163,-56 1163,-62 1157,-68 1151,-68\"/>\n<text text-anchor=\"middle\" x=\"1094.5\" y=\"-52.8\" font-family=\"Helvetica,sans-Serif\" font-size=\"14.00\">gini = 0.48</text>\n<text text-anchor=\"middle\" x=\"1094.5\" y=\"-37.8\" font-family=\"Helvetica,sans-Serif\" font-size=\"14.00\">samples = 20</text>\n<text text-anchor=\"middle\" x=\"1094.5\" y=\"-22.8\" font-family=\"Helvetica,sans-Serif\" font-size=\"14.00\">value = [8, 12]</text>\n<text text-anchor=\"middle\" x=\"1094.5\" y=\"-7.8\" font-family=\"Helvetica,sans-Serif\" font-size=\"14.00\">class = Diabetes</text>\n</g>\n<!-- 15&#45;&gt;16 -->\n<g id=\"edge16\" class=\"edge\"><title>15&#45;&gt;16</title>\n<path fill=\"none\" stroke=\"black\" d=\"M1098.27,-103.726C1097.82,-95.5175 1097.34,-86.8595 1096.89,-78.56\"/>\n<polygon fill=\"black\" stroke=\"black\" points=\"1100.37,-78.0931 1096.32,-68.2996 1093.38,-78.4761 1100.37,-78.0931\"/>\n</g>\n<!-- 17 -->\n<g id=\"node18\" class=\"node\"><title>17</title>\n<path fill=\"#e58139\" fill-opacity=\"0.909804\" stroke=\"black\" d=\"M1330,-68C1330,-68 1193,-68 1193,-68 1187,-68 1181,-62 1181,-56 1181,-56 1181,-12 1181,-12 1181,-6 1187,-0 1193,-0 1193,-0 1330,-0 1330,-0 1336,-0 1342,-6 1342,-12 1342,-12 1342,-56 1342,-56 1342,-62 1336,-68 1330,-68\"/>\n<text text-anchor=\"middle\" x=\"1261.5\" y=\"-52.8\" font-family=\"Helvetica,sans-Serif\" font-size=\"14.00\">gini = 0.153</text>\n<text text-anchor=\"middle\" x=\"1261.5\" y=\"-37.8\" font-family=\"Helvetica,sans-Serif\" font-size=\"14.00\">samples = 12</text>\n<text text-anchor=\"middle\" x=\"1261.5\" y=\"-22.8\" font-family=\"Helvetica,sans-Serif\" font-size=\"14.00\">value = [11, 1]</text>\n<text text-anchor=\"middle\" x=\"1261.5\" y=\"-7.8\" font-family=\"Helvetica,sans-Serif\" font-size=\"14.00\">class = No Diabetes</text>\n</g>\n<!-- 15&#45;&gt;17 -->\n<g id=\"edge17\" class=\"edge\"><title>15&#45;&gt;17</title>\n<path fill=\"none\" stroke=\"black\" d=\"M1160.45,-103.726C1174.87,-93.9161 1190.24,-83.4644 1204.53,-73.7496\"/>\n<polygon fill=\"black\" stroke=\"black\" points=\"1206.49,-76.6431 1212.8,-68.1252 1202.56,-70.855 1206.49,-76.6431\"/>\n</g>\n<!-- 19 -->\n<g id=\"node20\" class=\"node\"><title>19</title>\n<path fill=\"#399de5\" fill-opacity=\"0.298039\" stroke=\"black\" d=\"M1578,-187C1578,-187 1465,-187 1465,-187 1459,-187 1453,-181 1453,-175 1453,-175 1453,-116 1453,-116 1453,-110 1459,-104 1465,-104 1465,-104 1578,-104 1578,-104 1584,-104 1590,-110 1590,-116 1590,-116 1590,-175 1590,-175 1590,-181 1584,-187 1578,-187\"/>\n<text text-anchor=\"middle\" x=\"1521.5\" y=\"-171.8\" font-family=\"Helvetica,sans-Serif\" font-size=\"14.00\">Age &lt;= 28.5</text>\n<text text-anchor=\"middle\" x=\"1521.5\" y=\"-156.8\" font-family=\"Helvetica,sans-Serif\" font-size=\"14.00\">gini = 0.485</text>\n<text text-anchor=\"middle\" x=\"1521.5\" y=\"-141.8\" font-family=\"Helvetica,sans-Serif\" font-size=\"14.00\">samples = 80</text>\n<text text-anchor=\"middle\" x=\"1521.5\" y=\"-126.8\" font-family=\"Helvetica,sans-Serif\" font-size=\"14.00\">value = [33, 47]</text>\n<text text-anchor=\"middle\" x=\"1521.5\" y=\"-111.8\" font-family=\"Helvetica,sans-Serif\" font-size=\"14.00\">class = Diabetes</text>\n</g>\n<!-- 18&#45;&gt;19 -->\n<g id=\"edge19\" class=\"edge\"><title>18&#45;&gt;19</title>\n<path fill=\"none\" stroke=\"black\" d=\"M1521.5,-222.907C1521.5,-214.649 1521.5,-205.864 1521.5,-197.302\"/>\n<polygon fill=\"black\" stroke=\"black\" points=\"1525,-197.021 1521.5,-187.021 1518,-197.021 1525,-197.021\"/>\n</g>\n<!-- 22 -->\n<g id=\"node23\" class=\"node\"><title>22</title>\n<path fill=\"#399de5\" fill-opacity=\"0.823529\" stroke=\"black\" d=\"M1824,-187C1824,-187 1701,-187 1701,-187 1695,-187 1689,-181 1689,-175 1689,-175 1689,-116 1689,-116 1689,-110 1695,-104 1701,-104 1701,-104 1824,-104 1824,-104 1830,-104 1836,-110 1836,-116 1836,-116 1836,-175 1836,-175 1836,-181 1830,-187 1824,-187\"/>\n<text text-anchor=\"middle\" x=\"1762.5\" y=\"-171.8\" font-family=\"Helvetica,sans-Serif\" font-size=\"14.00\">Glucose &lt;= 196.5</text>\n<text text-anchor=\"middle\" x=\"1762.5\" y=\"-156.8\" font-family=\"Helvetica,sans-Serif\" font-size=\"14.00\">gini = 0.256</text>\n<text text-anchor=\"middle\" x=\"1762.5\" y=\"-141.8\" font-family=\"Helvetica,sans-Serif\" font-size=\"14.00\">samples = 53</text>\n<text text-anchor=\"middle\" x=\"1762.5\" y=\"-126.8\" font-family=\"Helvetica,sans-Serif\" font-size=\"14.00\">value = [8, 45]</text>\n<text text-anchor=\"middle\" x=\"1762.5\" y=\"-111.8\" font-family=\"Helvetica,sans-Serif\" font-size=\"14.00\">class = Diabetes</text>\n</g>\n<!-- 18&#45;&gt;22 -->\n<g id=\"edge22\" class=\"edge\"><title>18&#45;&gt;22</title>\n<path fill=\"none\" stroke=\"black\" d=\"M1595.12,-227.76C1621.86,-214.779 1652.24,-200.027 1679.72,-186.687\"/>\n<polygon fill=\"black\" stroke=\"black\" points=\"1681.45,-189.738 1688.92,-182.222 1678.39,-183.441 1681.45,-189.738\"/>\n</g>\n<!-- 20 -->\n<g id=\"node21\" class=\"node\"><title>20</title>\n<path fill=\"#e58139\" fill-opacity=\"0.388235\" stroke=\"black\" d=\"M1509,-68C1509,-68 1372,-68 1372,-68 1366,-68 1360,-62 1360,-56 1360,-56 1360,-12 1360,-12 1360,-6 1366,-0 1372,-0 1372,-0 1509,-0 1509,-0 1515,-0 1521,-6 1521,-12 1521,-12 1521,-56 1521,-56 1521,-62 1515,-68 1509,-68\"/>\n<text text-anchor=\"middle\" x=\"1440.5\" y=\"-52.8\" font-family=\"Helvetica,sans-Serif\" font-size=\"14.00\">gini = 0.471</text>\n<text text-anchor=\"middle\" x=\"1440.5\" y=\"-37.8\" font-family=\"Helvetica,sans-Serif\" font-size=\"14.00\">samples = 29</text>\n<text text-anchor=\"middle\" x=\"1440.5\" y=\"-22.8\" font-family=\"Helvetica,sans-Serif\" font-size=\"14.00\">value = [18, 11]</text>\n<text text-anchor=\"middle\" x=\"1440.5\" y=\"-7.8\" font-family=\"Helvetica,sans-Serif\" font-size=\"14.00\">class = No Diabetes</text>\n</g>\n<!-- 19&#45;&gt;20 -->\n<g id=\"edge20\" class=\"edge\"><title>19&#45;&gt;20</title>\n<path fill=\"none\" stroke=\"black\" d=\"M1491.34,-103.726C1484.73,-94.7878 1477.72,-85.3168 1471.09,-76.3558\"/>\n<polygon fill=\"black\" stroke=\"black\" points=\"1473.89,-74.2576 1465.13,-68.2996 1468.27,-78.4206 1473.89,-74.2576\"/>\n</g>\n<!-- 21 -->\n<g id=\"node22\" class=\"node\"><title>21</title>\n<path fill=\"#399de5\" fill-opacity=\"0.584314\" stroke=\"black\" d=\"M1664,-68C1664,-68 1551,-68 1551,-68 1545,-68 1539,-62 1539,-56 1539,-56 1539,-12 1539,-12 1539,-6 1545,-0 1551,-0 1551,-0 1664,-0 1664,-0 1670,-0 1676,-6 1676,-12 1676,-12 1676,-56 1676,-56 1676,-62 1670,-68 1664,-68\"/>\n<text text-anchor=\"middle\" x=\"1607.5\" y=\"-52.8\" font-family=\"Helvetica,sans-Serif\" font-size=\"14.00\">gini = 0.415</text>\n<text text-anchor=\"middle\" x=\"1607.5\" y=\"-37.8\" font-family=\"Helvetica,sans-Serif\" font-size=\"14.00\">samples = 51</text>\n<text text-anchor=\"middle\" x=\"1607.5\" y=\"-22.8\" font-family=\"Helvetica,sans-Serif\" font-size=\"14.00\">value = [15, 36]</text>\n<text text-anchor=\"middle\" x=\"1607.5\" y=\"-7.8\" font-family=\"Helvetica,sans-Serif\" font-size=\"14.00\">class = Diabetes</text>\n</g>\n<!-- 19&#45;&gt;21 -->\n<g id=\"edge21\" class=\"edge\"><title>19&#45;&gt;21</title>\n<path fill=\"none\" stroke=\"black\" d=\"M1553.52,-103.726C1560.54,-94.7878 1567.98,-85.3168 1575.02,-76.3558\"/>\n<polygon fill=\"black\" stroke=\"black\" points=\"1577.92,-78.3259 1581.35,-68.2996 1572.42,-74.0022 1577.92,-78.3259\"/>\n</g>\n<!-- 23 -->\n<g id=\"node24\" class=\"node\"><title>23</title>\n<path fill=\"#399de5\" fill-opacity=\"0.843137\" stroke=\"black\" d=\"M1819,-68C1819,-68 1706,-68 1706,-68 1700,-68 1694,-62 1694,-56 1694,-56 1694,-12 1694,-12 1694,-6 1700,-0 1706,-0 1706,-0 1819,-0 1819,-0 1825,-0 1831,-6 1831,-12 1831,-12 1831,-56 1831,-56 1831,-62 1825,-68 1819,-68\"/>\n<text text-anchor=\"middle\" x=\"1762.5\" y=\"-52.8\" font-family=\"Helvetica,sans-Serif\" font-size=\"14.00\">gini = 0.233</text>\n<text text-anchor=\"middle\" x=\"1762.5\" y=\"-37.8\" font-family=\"Helvetica,sans-Serif\" font-size=\"14.00\">samples = 52</text>\n<text text-anchor=\"middle\" x=\"1762.5\" y=\"-22.8\" font-family=\"Helvetica,sans-Serif\" font-size=\"14.00\">value = [7, 45]</text>\n<text text-anchor=\"middle\" x=\"1762.5\" y=\"-7.8\" font-family=\"Helvetica,sans-Serif\" font-size=\"14.00\">class = Diabetes</text>\n</g>\n<!-- 22&#45;&gt;23 -->\n<g id=\"edge23\" class=\"edge\"><title>22&#45;&gt;23</title>\n<path fill=\"none\" stroke=\"black\" d=\"M1762.5,-103.726C1762.5,-95.5175 1762.5,-86.8595 1762.5,-78.56\"/>\n<polygon fill=\"black\" stroke=\"black\" points=\"1766,-78.2996 1762.5,-68.2996 1759,-78.2996 1766,-78.2996\"/>\n</g>\n<!-- 24 -->\n<g id=\"node25\" class=\"node\"><title>24</title>\n<path fill=\"#e58139\" stroke=\"black\" d=\"M1998,-68C1998,-68 1861,-68 1861,-68 1855,-68 1849,-62 1849,-56 1849,-56 1849,-12 1849,-12 1849,-6 1855,-0 1861,-0 1861,-0 1998,-0 1998,-0 2004,-0 2010,-6 2010,-12 2010,-12 2010,-56 2010,-56 2010,-62 2004,-68 1998,-68\"/>\n<text text-anchor=\"middle\" x=\"1929.5\" y=\"-52.8\" font-family=\"Helvetica,sans-Serif\" font-size=\"14.00\">gini = 0.0</text>\n<text text-anchor=\"middle\" x=\"1929.5\" y=\"-37.8\" font-family=\"Helvetica,sans-Serif\" font-size=\"14.00\">samples = 1</text>\n<text text-anchor=\"middle\" x=\"1929.5\" y=\"-22.8\" font-family=\"Helvetica,sans-Serif\" font-size=\"14.00\">value = [1, 0]</text>\n<text text-anchor=\"middle\" x=\"1929.5\" y=\"-7.8\" font-family=\"Helvetica,sans-Serif\" font-size=\"14.00\">class = No Diabetes</text>\n</g>\n<!-- 22&#45;&gt;24 -->\n<g id=\"edge24\" class=\"edge\"><title>22&#45;&gt;24</title>\n<path fill=\"none\" stroke=\"black\" d=\"M1824.68,-103.726C1839.65,-93.9161 1855.59,-83.4644 1870.4,-73.7496\"/>\n<polygon fill=\"black\" stroke=\"black\" points=\"1872.54,-76.5355 1878.98,-68.1252 1868.7,-70.6816 1872.54,-76.5355\"/>\n</g>\n</g>\n</svg>\n"
          },
          "metadata": {
            "tags": []
          },
          "execution_count": 106
        }
      ]
    },
    {
      "metadata": {
        "id": "CumutApe6SdZ",
        "colab_type": "text"
      },
      "cell_type": "markdown",
      "source": [
        "### Evaluate the model on the validation data set\n",
        "\n",
        "For now, we will use the model to predict the binary classes of our validation data.  \n",
        "Later we'll look at the case where our model outputs a probability over class labels."
      ]
    },
    {
      "metadata": {
        "id": "GtJigb1SuTRF",
        "colab_type": "code",
        "colab": {
          "autoexec": {
            "startup": false,
            "wait_interval": 0
          }
        }
      },
      "cell_type": "code",
      "source": [
        "# make class predictions for the training validation set\n",
        "y_val_predict = model.predict(X_val)\n",
        "y_train_predict = model.predict(X_train)"
      ],
      "execution_count": 0,
      "outputs": []
    },
    {
      "metadata": {
        "id": "WuOp6VQ4wq9C",
        "colab_type": "code",
        "colab": {
          "autoexec": {
            "startup": false,
            "wait_interval": 0
          },
          "base_uri": "https://localhost:8080/",
          "height": 51
        },
        "outputId": "154bb73c-ffa8-4968-853b-5281581cea46",
        "executionInfo": {
          "status": "ok",
          "timestamp": 1531081256900,
          "user_tz": 240,
          "elapsed": 305,
          "user": {
            "displayName": "Danelle Shah",
            "photoUrl": "https://lh3.googleusercontent.com/a/default-user=s128",
            "userId": "100860318553187717982"
          }
        }
      },
      "cell_type": "code",
      "source": [
        "# calculate model training accuracy\n",
        "from sklearn import metrics\n",
        "print('Training Accuracy:   {:01.3f}'.format(metrics.accuracy_score(y_train, y_train_predict)))\n",
        "\n",
        "# calculate model validation accuracy\n",
        "print('Validation Accuracy: {:01.3f}'.format(metrics.accuracy_score(y_val, y_val_predict)))"
      ],
      "execution_count": 142,
      "outputs": [
        {
          "output_type": "stream",
          "text": [
            "Training Accuracy:   0.806\n",
            "Validation Accuracy: 0.778\n"
          ],
          "name": "stdout"
        }
      ]
    },
    {
      "metadata": {
        "id": "_NEuINphjha5",
        "colab_type": "text"
      },
      "cell_type": "markdown",
      "source": [
        "Notice that our **training accuracy** is higher than our **validation accuracy**.  This is fairly typical, as  machine learning algorithms have a tendency to overfit the training data.  When choosing a model, it's a good idea to tune it such that you are not overfitting too much.\n",
        "\n",
        "\n",
        "<img src=\"https://raw.githubusercontent.com/BeaverWorksMedlytics/datasets/master/fittings.jpg\" width=\"600\">"
      ]
    },
    {
      "metadata": {
        "id": "xLEkVGUX1XJY",
        "colab_type": "text"
      },
      "cell_type": "markdown",
      "source": [
        "Okay, so our decision tree got ~78% validation accuracy.  But how do we know if that's a \"good\" accuracy?  Let's look at the simple case where we have a model that always predicts the most common class.  How well would that do?"
      ]
    },
    {
      "metadata": {
        "id": "I3dLk7Gozt6j",
        "colab_type": "code",
        "colab": {
          "autoexec": {
            "startup": false,
            "wait_interval": 0
          },
          "base_uri": "https://localhost:8080/",
          "height": 68
        },
        "outputId": "320aa500-0602-41ec-e3ae-9a446586c639",
        "executionInfo": {
          "status": "ok",
          "timestamp": 1531079096861,
          "user_tz": 240,
          "elapsed": 295,
          "user": {
            "displayName": "Danelle Shah",
            "photoUrl": "https://lh3.googleusercontent.com/a/default-user=s128",
            "userId": "100860318553187717982"
          }
        }
      },
      "cell_type": "code",
      "source": [
        "# examine the class distribution of the validation set (using a Pandas Series method)\n",
        "y_val.value_counts(normalize=True)"
      ],
      "execution_count": 109,
      "outputs": [
        {
          "output_type": "execute_result",
          "data": {
            "text/plain": [
              "0    0.618056\n",
              "1    0.381944\n",
              "Name: Outcome, dtype: float64"
            ]
          },
          "metadata": {
            "tags": []
          },
          "execution_count": 109
        }
      ]
    },
    {
      "metadata": {
        "id": "ollw--0a0FuN",
        "colab_type": "text"
      },
      "cell_type": "markdown",
      "source": [
        "This means that a trivial model that always predicts 0 would be right ~62% of the time.  So our decision tree seems to be doing something.\n",
        "\n",
        "Now let's investigate the errors our model is making by looking at the confusion matrix:\n",
        "\n",
        "<img src=\"https://raw.githubusercontent.com/BeaverWorksMedlytics/datasets/master/confusion matrix 2.png\" width=\"250\">"
      ]
    },
    {
      "metadata": {
        "id": "Qw3xcAK3z5t-",
        "colab_type": "code",
        "colab": {
          "autoexec": {
            "startup": false,
            "wait_interval": 0
          },
          "base_uri": "https://localhost:8080/",
          "height": 136
        },
        "outputId": "887952b0-af67-45e9-e03b-bc98f5d90df0",
        "executionInfo": {
          "status": "ok",
          "timestamp": 1531079099422,
          "user_tz": 240,
          "elapsed": 286,
          "user": {
            "displayName": "Danelle Shah",
            "photoUrl": "https://lh3.googleusercontent.com/a/default-user=s128",
            "userId": "100860318553187717982"
          }
        }
      },
      "cell_type": "code",
      "source": [
        "# Use sklearn to make the confusion matrix\n",
        "print('Confusion Matrix:')\n",
        "labels = [0,1]\n",
        "cm = metrics.confusion_matrix(y_val, y_val_predict, labels)\n",
        "print(cm)\n",
        "\n",
        "# Normalized confusion matrix\n",
        "print('\\nNormalized Confusion Matrix:')\n",
        "cm_norm = cm.astype('float') / cm.sum(axis=1)[:, np.newaxis]\n",
        "print(cm_norm)"
      ],
      "execution_count": 110,
      "outputs": [
        {
          "output_type": "stream",
          "text": [
            "Confusion Matrix:\n",
            "[[79 10]\n",
            " [22 33]]\n",
            "\n",
            "Normalized Confusion Matrix:\n",
            "[[0.88764045 0.11235955]\n",
            " [0.4        0.6       ]]\n"
          ],
          "name": "stdout"
        }
      ]
    },
    {
      "metadata": {
        "id": "eVNTxWYB1obX",
        "colab_type": "code",
        "colab": {
          "autoexec": {
            "startup": false,
            "wait_interval": 0
          },
          "base_uri": "https://localhost:8080/",
          "height": 173
        },
        "outputId": "1f820706-4f19-4d4d-e34a-f5387f435ee1",
        "executionInfo": {
          "status": "ok",
          "timestamp": 1531079101980,
          "user_tz": 240,
          "elapsed": 337,
          "user": {
            "displayName": "Danelle Shah",
            "photoUrl": "https://lh3.googleusercontent.com/a/default-user=s128",
            "userId": "100860318553187717982"
          }
        }
      },
      "cell_type": "code",
      "source": [
        "# Or you can use pandas -- it's a little nicer to look at\n",
        "pd.crosstab(y_val, y_val_predict, rownames=['True'], colnames=['Predicted'], margins=True)\n"
      ],
      "execution_count": 111,
      "outputs": [
        {
          "output_type": "execute_result",
          "data": {
            "text/html": [
              "<div>\n",
              "<style scoped>\n",
              "    .dataframe tbody tr th:only-of-type {\n",
              "        vertical-align: middle;\n",
              "    }\n",
              "\n",
              "    .dataframe tbody tr th {\n",
              "        vertical-align: top;\n",
              "    }\n",
              "\n",
              "    .dataframe thead th {\n",
              "        text-align: right;\n",
              "    }\n",
              "</style>\n",
              "<table border=\"1\" class=\"dataframe\">\n",
              "  <thead>\n",
              "    <tr style=\"text-align: right;\">\n",
              "      <th>Predicted</th>\n",
              "      <th>0</th>\n",
              "      <th>1</th>\n",
              "      <th>All</th>\n",
              "    </tr>\n",
              "    <tr>\n",
              "      <th>True</th>\n",
              "      <th></th>\n",
              "      <th></th>\n",
              "      <th></th>\n",
              "    </tr>\n",
              "  </thead>\n",
              "  <tbody>\n",
              "    <tr>\n",
              "      <th>0</th>\n",
              "      <td>79</td>\n",
              "      <td>10</td>\n",
              "      <td>89</td>\n",
              "    </tr>\n",
              "    <tr>\n",
              "      <th>1</th>\n",
              "      <td>22</td>\n",
              "      <td>33</td>\n",
              "      <td>55</td>\n",
              "    </tr>\n",
              "    <tr>\n",
              "      <th>All</th>\n",
              "      <td>101</td>\n",
              "      <td>43</td>\n",
              "      <td>144</td>\n",
              "    </tr>\n",
              "  </tbody>\n",
              "</table>\n",
              "</div>"
            ],
            "text/plain": [
              "Predicted    0   1  All\n",
              "True                   \n",
              "0           79  10   89\n",
              "1           22  33   55\n",
              "All        101  43  144"
            ]
          },
          "metadata": {
            "tags": []
          },
          "execution_count": 111
        }
      ]
    },
    {
      "metadata": {
        "id": "UXUOndg_1lGf",
        "colab_type": "code",
        "colab": {
          "autoexec": {
            "startup": false,
            "wait_interval": 0
          },
          "base_uri": "https://localhost:8080/",
          "height": 841
        },
        "outputId": "9c187437-ccf0-4bb9-fb7c-a766169613af",
        "executionInfo": {
          "status": "ok",
          "timestamp": 1531079102888,
          "user_tz": 240,
          "elapsed": 575,
          "user": {
            "displayName": "Danelle Shah",
            "photoUrl": "https://lh3.googleusercontent.com/a/default-user=s128",
            "userId": "100860318553187717982"
          }
        }
      },
      "cell_type": "code",
      "source": [
        "# Visualize the confusion matrix\n",
        "def plot_cmatrix(cm,labels,title='Confusion Matrix'):\n",
        "  fig = plt.figure()\n",
        "  ax = fig.add_subplot(111)\n",
        "  cax = ax.matshow(cm,cmap='Reds')\n",
        "  plt.title('\\n'+title+'\\n', fontsize=20)\n",
        "  fig.colorbar(cax)\n",
        "  ax.set_xticklabels([''] + labels, fontsize=16)\n",
        "  ax.set_yticklabels([''] + labels, fontsize=16)\n",
        "  plt.xlabel('Predicted', fontsize=16)\n",
        "  plt.ylabel('True', fontsize=16)\n",
        "  plt.show()\n",
        "  \n",
        "plot_cmatrix(cm,labels)\n",
        "plot_cmatrix(cm_norm,labels,title='Normalized Confusion Matrix')"
      ],
      "execution_count": 112,
      "outputs": [
        {
          "output_type": "display_data",
          "data": {
            "image/png": "[encoded data removed]",
            "text/plain": [
              "<matplotlib.figure.Figure at 0x7f8cf1283f60>"
            ]
          },
          "metadata": {
            "tags": []
          }
        },
        {
          "output_type": "display_data",
          "data": {
            "image/png": "[encoded data removed]",
            "text/plain": [
              "<matplotlib.figure.Figure at 0x7f8cf117c240>"
            ]
          },
          "metadata": {
            "tags": []
          }
        }
      ]
    },
    {
      "metadata": {
        "id": "hczAcaUe4YP6",
        "colab_type": "text"
      },
      "cell_type": "markdown",
      "source": [
        "You can even make a confusion matrix for the multi-class problem!  Check out this toy example:"
      ]
    },
    {
      "metadata": {
        "id": "w2f3hsH04YiW",
        "colab_type": "code",
        "colab": {
          "autoexec": {
            "startup": false,
            "wait_interval": 0
          },
          "base_uri": "https://localhost:8080/",
          "height": 429
        },
        "outputId": "0216a517-eed9-4d35-e29b-d5e4b5a2969d",
        "executionInfo": {
          "status": "ok",
          "timestamp": 1531079117276,
          "user_tz": 240,
          "elapsed": 449,
          "user": {
            "displayName": "Danelle Shah",
            "photoUrl": "https://lh3.googleusercontent.com/a/default-user=s128",
            "userId": "100860318553187717982"
          }
        }
      },
      "cell_type": "code",
      "source": [
        "y2=pd.Series(['dog', 'cat', 'dog', 'dog', 'dog', 'cat', 'cat', 'cat', 'dog', 'cat', 'dog', 'frog', 'dog', 'dog', 'cat', 'frog'])\n",
        "y2pred=pd.Series(['dog', 'cat', 'dog', 'dog', 'cat', 'frog', 'cat', 'cat', 'dog', 'cat', 'dog', 'frog', 'frog', 'dog', 'cat', 'frog'])\n",
        "\n",
        "animal_labels=['cat','dog','frog']\n",
        "cm = metrics.confusion_matrix(y2,y2pred, animal_labels)\n",
        "plot_cmatrix(cm,animal_labels)"
      ],
      "execution_count": 114,
      "outputs": [
        {
          "output_type": "display_data",
          "data": {
            "image/png": "[encoded data removed]",
            "text/plain": [
              "<matplotlib.figure.Figure at 0x7f8cf13b2588>"
            ]
          },
          "metadata": {
            "tags": []
          }
        }
      ]
    },
    {
      "metadata": {
        "id": "1Fkg_EdKahkl",
        "colab_type": "text"
      },
      "cell_type": "markdown",
      "source": [
        "### More Metrics\n",
        "There are several useful metrics that are derived from the confusion matrix:\n",
        "* sensitivity, **recall**, hit rate, or true positive rate (TPR) : $ \\mathrm {TPR} ={\\frac {\\mathrm {TP} }{P}}={\\frac {\\mathrm {TP} }{\\mathrm {TP} +\\mathrm {FN} }}$\n",
        " \n",
        "* **precision** or positive predictive value (PPV) : $ \\mathrm {PPV} ={\\frac {\\mathrm {TP} }{\\mathrm {TP} +\\mathrm {FP} }}$\n",
        "\n",
        "* specificity or true negative rate (TNR) : $\\mathrm {TNR} ={\\frac {\\mathrm {TN} }{N}}={\\frac {\\mathrm {TN} }{\\mathrm {TN} +\\mathrm {FP} }}$\n",
        "\n",
        "* miss rate or false negative rate (FNR) : $ \\mathrm {FNR} ={\\frac {\\mathrm {FN} }{P}}={\\frac {\\mathrm {FN} }{\\mathrm {FN} +\\mathrm {TP} }}=1-\\mathrm {TPR}$\n",
        "\n",
        "* fall-out or false positive rate (FPR) : $\\mathrm {FPR} ={\\frac {\\mathrm {FP} }{N}}={\\frac {\\mathrm {FP} }{\\mathrm {FP} +\\mathrm {TN} }}=1-\\mathrm {TNR} $\n",
        "\n",
        "* accuracy (ACC) : $\\mathrm {ACC} ={\\frac {\\mathrm {TP} +\\mathrm {TN} }{P+N}}={\\frac {\\mathrm {TP} +\\mathrm {TN} }{\\mathrm {TP} +\\mathrm {TN} +\\mathrm {FP} +\\mathrm {FN} }}$\n",
        "\n",
        "The F1 score is the harmonic mean of precision and recall, where an F1 score reaches its best value at 1 and worst score at 0. The relative contribution of precision and recall to the F1 score are equal. The formula for the F1 score is:\n",
        " * F1 score: $F_{1}=2\\cdot {\\frac {\\mathrm {PPV} \\cdot \\mathrm {TPR} }{\\mathrm {PPV} +\\mathrm {TPR} }}={\\frac {2\\mathrm {TP} }{2\\mathrm {TP} +\\mathrm {FP} +\\mathrm {FN} }}$\n",
        "\n"
      ]
    },
    {
      "metadata": {
        "id": "iLRgnLA11eT-",
        "colab_type": "code",
        "colab": {
          "autoexec": {
            "startup": false,
            "wait_interval": 0
          },
          "base_uri": "https://localhost:8080/",
          "height": 68
        },
        "outputId": "d56f126d-32a5-4d67-8948-2744e07e87cf",
        "executionInfo": {
          "status": "ok",
          "timestamp": 1531080153756,
          "user_tz": 240,
          "elapsed": 185,
          "user": {
            "displayName": "Danelle Shah",
            "photoUrl": "https://lh3.googleusercontent.com/a/default-user=s128",
            "userId": "100860318553187717982"
          }
        }
      },
      "cell_type": "code",
      "source": [
        "print('Precision: {:01.3f}'.format(metrics.precision_score(y_val,y_val_predict)))\n",
        "print('Recall:    {:01.3f}'.format(metrics.accuracy_score(y_val,y_val_predict)))\n",
        "print('F1 score:  {:01.3f}'.format(metrics.f1_score(y_val,y_val_predict)))\n",
        "     "
      ],
      "execution_count": 123,
      "outputs": [
        {
          "output_type": "stream",
          "text": [
            "Precision: 0.767\n",
            "Recall:    0.778\n",
            "F1 score:  0.673\n"
          ],
          "name": "stdout"
        }
      ]
    },
    {
      "metadata": {
        "id": "fY2Bf6446CT8",
        "colab_type": "text"
      },
      "cell_type": "markdown",
      "source": [
        "## Evaluate the model on the validation data set (part 2)\n",
        "\n",
        "Up to now, we've simply been evaluating our model's ability to predict the correct class.  But in many (most) cases, our model actually outputs a *probability* or *certainty* over the class labels.  Let's take a look at the output of our decision tree."
      ]
    },
    {
      "metadata": {
        "id": "nzlcegvR1a35",
        "colab_type": "code",
        "colab": {
          "autoexec": {
            "startup": false,
            "wait_interval": 0
          },
          "base_uri": "https://localhost:8080/",
          "height": 102
        },
        "outputId": "18878827-d104-4c81-a00c-462e3c9c70c2",
        "executionInfo": {
          "status": "ok",
          "timestamp": 1531080212244,
          "user_tz": 240,
          "elapsed": 308,
          "user": {
            "displayName": "Danelle Shah",
            "photoUrl": "https://lh3.googleusercontent.com/a/default-user=s128",
            "userId": "100860318553187717982"
          }
        }
      },
      "cell_type": "code",
      "source": [
        "# Predict class label probabilities\n",
        "labels = [0,1]\n",
        "y_val_prob = model.predict_proba(X_val,labels)\n",
        "\n",
        "# Output predicted and true values for the first validation point\n",
        "print('Probabilities:\\n',y_val_prob[0])\n",
        "print('\\nTrue Value:\\n',y_val.values[0])"
      ],
      "execution_count": 124,
      "outputs": [
        {
          "output_type": "stream",
          "text": [
            "Probabilities:\n",
            " [0.13461538 0.86538462]\n",
            "\n",
            "True Value:\n",
            " 1\n"
          ],
          "name": "stdout"
        }
      ]
    },
    {
      "metadata": {
        "id": "-0_TqOn0Bh53",
        "colab_type": "text"
      },
      "cell_type": "markdown",
      "source": [
        "Notice that the decision tree predicts that there is a ~87% probability that this data point belongs to class label 1.  But this doesn't necessarily mean we *have* to label the data point as class 1.  For example, we may decide to say that we need to be 90% confident that the data belongs to class 1, otherwise we say it belongs to class 0.  The predicted class will depend on where we threshold our decision boundary.  \n",
        "\n",
        "\n",
        "Choosing a threshold is not always as straighforward as choosing the label with the greatest probability.  Particularly in cases where your data set is very biased or there is a greater penalty for false positives than false negatives (and vice-versa), it is often desirable to evaluate the model over all thresholds.  This is where the **Receiver Operating Characteristic (ROC) curve** comes in!\n",
        "\n",
        "\n",
        "The ROC curve is a graphical plot that illustrates the diagnostic ability of a binary classifier system as its discrimination threshold is varied.  The ROC curve is created by plotting the true positive rate (TPR) against the false positive rate (FPR) at various threshold settings.\n",
        "\n",
        "\n",
        "The **area under the curve (AUC) ** is often used as a more robust and descriptive metric of a classification model's performance, where an AUC of 1 is \"perfect\" and an AUC of 0 means that the classifier is no better than random."
      ]
    },
    {
      "metadata": {
        "id": "1oLYVkqEyWIr",
        "colab_type": "code",
        "colab": {
          "autoexec": {
            "startup": false,
            "wait_interval": 0
          }
        }
      },
      "cell_type": "code",
      "source": [
        "# Calculate the FPR and TPR at varying thresholds (assume label 1 is the \"postive\" class)\n",
        "fpr, tpr, thresholds = metrics.roc_curve(y_val, y_val_prob[:,1])\n",
        "\n",
        "# Calculate the area under the ROC curve\n",
        "roc_auc = metrics.auc(fpr, tpr)"
      ],
      "execution_count": 0,
      "outputs": []
    },
    {
      "metadata": {
        "id": "anbcgur8ypbj",
        "colab_type": "code",
        "colab": {
          "autoexec": {
            "startup": false,
            "wait_interval": 0
          },
          "base_uri": "https://localhost:8080/",
          "height": 403
        },
        "outputId": "e99e2c53-1a39-4d5e-d02c-e671d76bc04b",
        "executionInfo": {
          "status": "ok",
          "timestamp": 1531081849861,
          "user_tz": 240,
          "elapsed": 468,
          "user": {
            "displayName": "Danelle Shah",
            "photoUrl": "https://lh3.googleusercontent.com/a/default-user=s128",
            "userId": "100860318553187717982"
          }
        }
      },
      "cell_type": "code",
      "source": [
        "# Plot the ROC curve\n",
        "plt.figure(figsize=(6,6))\n",
        "lw = 2\n",
        "plt.plot(fpr, tpr, color='darkorange',\n",
        "         lw=lw, label='ROC curve (area = %0.2f)' % roc_auc)\n",
        "plt.plot([0, 1], [0, 1], color='navy', lw=lw, linestyle='--')\n",
        "plt.xlim([0.0, 1.0])\n",
        "plt.ylim([0.0, 1.0])\n",
        "plt.xlabel('False Positive Rate')\n",
        "plt.ylabel('True Positive Rate')\n",
        "plt.title('Receiver operating characteristic')\n",
        "plt.legend(loc=\"lower right\")\n",
        "plt.show()"
      ],
      "execution_count": 143,
      "outputs": [
        {
          "output_type": "display_data",
          "data": {
            "image/png": "[encoded data removed]",
            "text/plain": [
              "<matplotlib.figure.Figure at 0x7f8cf12d9a90>"
            ]
          },
          "metadata": {
            "tags": []
          }
        }
      ]
    },
    {
      "metadata": {
        "id": "gk4nnCIYgXMX",
        "colab_type": "code",
        "colab": {
          "autoexec": {
            "startup": false,
            "wait_interval": 0
          }
        }
      },
      "cell_type": "code",
      "source": [
        ""
      ],
      "execution_count": 0,
      "outputs": []
    }
  ]
}