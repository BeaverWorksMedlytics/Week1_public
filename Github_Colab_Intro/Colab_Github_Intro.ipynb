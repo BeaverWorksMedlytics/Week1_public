{
  "nbformat": 4,
  "nbformat_minor": 0,
  "metadata": {
    "colab": {
      "name": "Colab_Github_Intro.ipynb",
      "version": "0.3.2",
      "views": {},
      "default_view": {},
      "provenance": [],
      "collapsed_sections": []
    },
    "kernelspec": {
      "name": "python3",
      "display_name": "Python 3"
    }
  },
  "cells": [
    {
      "metadata": {
        "id": "3LqQndJfqd2X",
        "colab_type": "text"
      },
      "cell_type": "markdown",
      "source": [
        "# Getting Comfortable with Colaboratory\n",
        "\n",
        "Google Colaboratory (Colab) is an free online Python notebook that runs on a cpu or gpu in the cloud (i.e. some server at Google). If you have a google account, you can code with Colab without downloading any IDE (Integrated Development Environment [ex. Atom, Spyder, etc.]) or installing any packages onto your local machine. It is functionally very similar to Jupyter Notebooks with a few exceptions for uploading/downloading to/from local files.\n",
        "\n",
        "Here are some basics for working in Colab:\n",
        "\n",
        "* Add a cell of code or text by clicking \"+ CODE\" or \"+ TEXT\" in the top left corner\n",
        "* Move the cell you are currently editing up or down in the notebook's cell order by clicking \"*up arrow/down arrow* CELL\" next to the add code/text buttons. \n",
        "* Download your current notebook to your local drive using File > Download .ipynb \n",
        "* To run the cell that you are currently editing, use ctrl + enter. To run all cells in a notebook use Runtime > Run All\n",
        "* After you run a cell, its output (if there is any) will appear below the cell. To clear the output of a cell, click the three dots in the upper right corner of the cell and select Clear Output. To delete a cell select Delete Cell from the same menu.\n",
        "* Explore the menus and options to get a feel for Colab"
      ]
    },
    {
      "metadata": {
        "id": "PEKoaiRXqd4f",
        "colab_type": "text"
      },
      "cell_type": "markdown",
      "source": [
        "## Packages\n",
        "\n",
        "Colab already has most common packages installed and ready for import, but if it doesn't have the particular package you need, you can install it using \"\"! pip install mypackage\" from inside a notebook cell.\n",
        "\n",
        "Try installing tensorflow in the cell below. It should output \"Requirement already satisfied\", meaning that the package is already installed on the remote cpu you are using. "
      ]
    },
    {
      "metadata": {
        "id": "tKhUUZ81qjN7",
        "colab_type": "code",
        "colab": {
          "autoexec": {
            "startup": false,
            "wait_interval": 0
          }
        }
      },
      "cell_type": "code",
      "source": [
        "# Your code here"
      ],
      "execution_count": 0,
      "outputs": []
    },
    {
      "metadata": {
        "id": "-Thyf9Njqd6c",
        "colab_type": "text"
      },
      "cell_type": "markdown",
      "source": [
        "## GPU Use\n",
        "\n",
        "Colab has (limited) free GPU support. To enable GPU support use Edit > Notebook Settings > Hardware Accelerator > GPU. When switching between CPU and GPU, all your local variables will be cleared, so don't switch in the middle or running something unless you are prepared to reload all your local variables. Because the GPU is free and public, sometimes many people try to use it at the same time. This can result in you getting less GPU resources to work with. If you get a \"ResourcesExhausted\" error while using GPU, this means you have used all the GPU resources dedicated to your session and you will have to restart your runtime (Runtime > Restart Runtime). After restarting your runtime, your local variables will be wiped. You do not need GPU power unless you're doing something computationally intensive, like training a large neural network. My advice would be to not use the GPU unless you notice your runtime slowing down significantly or you know you will need it during your session. "
      ]
    },
    {
      "metadata": {
        "id": "8CRkibIdqd8d",
        "colab_type": "text"
      },
      "cell_type": "markdown",
      "source": [
        "## Downloading/Uploading Locally in Colab\n",
        "\n",
        "Although you are running your code on a remote cpu/gpu, you can still download/upload files to/from your local drive. There are 2 special colab commands to do so. For both you will need to import \"files\" from \"google.colab\". Note that these commands do not work on IDEs, and your regular download/upload functions will not work in Colab. Note: if you are uploading files from a url to a local variable, you can do so the same way you would outside of Colab (ex. pd.read_csv(url)).\n",
        "\n",
        "To upload a file: \n",
        " \n",
        "\n",
        "```\n",
        "from google.colab import files\n",
        "\n",
        "uploaded = files.upload()\n",
        "\n",
        "```\n",
        "Whenever files.upload() is run, a GUI (graphical user interface) popup will appear in the output. Select \"Choose Files\" and select a file from your machine.\n",
        "\n",
        "\n",
        "When downloading files, use the files.download('filename.ext') function and the file will be saved into your downloads folder. This requires the filename you input to be a file already in existence in the cpu of the remote server you are using. This means that you will have to write the file before downloading it to your own machine. How to write a file depends on the filetype. An example for a csv file is as follows:\n",
        "\n",
        "``` \n",
        "from google.colab import files\n",
        "\n",
        "csv.open('filename.csv', 'w')      #'w' argument indicates we are writing strings to the file\n",
        "csv.write(variable_to_convert_to_csv)\n",
        "files.download('filename.csv')\n",
        "```\n",
        "\n",
        "Create a .txt file somewhere in your local drive and upload it to colab. Remember to save it as a variable.\n"
      ]
    },
    {
      "metadata": {
        "id": "odsb4Kabqy_p",
        "colab_type": "code",
        "colab": {
          "autoexec": {
            "startup": false,
            "wait_interval": 0
          }
        }
      },
      "cell_type": "code",
      "source": [
        "# Your code here"
      ],
      "execution_count": 0,
      "outputs": []
    },
    {
      "metadata": {
        "id": "3s3EwrTMq1EO",
        "colab_type": "text"
      },
      "cell_type": "markdown",
      "source": [
        "Now download the same file you just uploaded. "
      ]
    },
    {
      "metadata": {
        "id": "fAiZoB3Rq3bm",
        "colab_type": "code",
        "colab": {
          "autoexec": {
            "startup": false,
            "wait_interval": 0
          }
        }
      },
      "cell_type": "code",
      "source": [
        "# Your code here"
      ],
      "execution_count": 0,
      "outputs": []
    },
    {
      "metadata": {
        "id": "mYq_DUYRq5Kn",
        "colab_type": "text"
      },
      "cell_type": "markdown",
      "source": [
        "# Troubleshooting Colab\n",
        "* If you get a \"ResourcesExhausted\" error, this means you have used all the GPU resources dedicated to your session and you will need to restart your runtime (Runtime > Restart Runtime). After restarting your runtime your local environment will be wiped.\n",
        "* If you get a warning window that says you are close to reaching the session's memory limit, this means you are nearing a ResourcesExhausted error. You can still run code until the error occurs, but note that you will likely need to restart your runtime soon.\n",
        "* Colab will automatically end your runtime after 12 hours. Simply restart it if this happens\n",
        "* If things are running really slow, double check that you are using GPU\n",
        "* If you run into trouble and a cell is taking too long to run, use Runtime > Interrupt execution. You may have to wait a minute for the interruption to take effect.\n",
        "* If all else fails, try Runtime > Restart Runtime. This will wipe your local variables. \n",
        "* Google is your best friend! Learning how to effectively and efficiently use google for coding queries is a vital skill.\n",
        "* You can always ask an instructor for help"
      ]
    }
  ]
}
