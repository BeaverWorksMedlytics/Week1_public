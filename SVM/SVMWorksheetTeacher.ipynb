{
  "nbformat": 4,
  "nbformat_minor": 0,
  "metadata": {
    "colab": {
      "name": "SVMWorksheetTeacher",
      "version": "0.3.2",
      "views": {},
      "default_view": {},
      "provenance": [
        {
          "file_id": "165CSmT99w4_Sv1UENIyvIkH7ZEw2Xeh8",
          "timestamp": 1527780043079
        }
      ],
      "collapsed_sections": []
    },
    "kernelspec": {
      "name": "python3",
      "display_name": "Python 3"
    }
  },
  "cells": [
    {
      "metadata": {
        "id": "-UimMCmGe19F",
        "colab_type": "text"
      },
      "cell_type": "markdown",
      "source": [
        "# SVM Tree Worksheet\n"
      ]
    },
    {
      "metadata": {
        "id": "kedW02LgKjVL",
        "colab_type": "code",
        "colab": {
          "autoexec": {
            "startup": false,
            "wait_interval": 0
          }
        }
      },
      "cell_type": "code",
      "source": [
        "import numpy as np\n",
        "import pandas as pd\n",
        "from sklearn.model_selection import train_test_split\n",
        "import matplotlib.pyplot as plt\n",
        "from sklearn import svm\n",
        "from sklearn.metrics import accuracy_score\n",
        "from sklearn.svm import SVC # \"Support vector classifier\"\n",
        "from sklearn.model_selection import GridSearchCV\n",
        "from sklearn.ensemble import RandomForestClassifier"
      ],
      "execution_count": 0,
      "outputs": []
    },
    {
      "metadata": {
        "id": "rz35eT5-SMht",
        "colab_type": "text"
      },
      "cell_type": "markdown",
      "source": [
        "#### Load pima indians diabetes dataset below"
      ]
    },
    {
      "metadata": {
        "id": "Ydh9gmDkMGmu",
        "colab_type": "code",
        "colab": {
          "autoexec": {
            "startup": false,
            "wait_interval": 0
          }
        }
      },
      "cell_type": "code",
      "source": [
        "url = \"https://raw.githubusercontent.com/jbrownlee/Datasets/master/pima-indians-diabetes.data.csv\"\n",
        "names = ['preg', 'plas', 'pres', 'skin', 'test', 'mass', 'pedi', 'age', 'class']\n",
        "# your code here\n",
        "data = pd.read_csv(url, names=names)"
      ],
      "execution_count": 0,
      "outputs": []
    },
    {
      "metadata": {
        "id": "WH7g1K3AMTa8",
        "colab_type": "code",
        "colab": {
          "autoexec": {
            "startup": false,
            "wait_interval": 0
          },
          "base_uri": "https://localhost:8080/",
          "height": 195
        },
        "outputId": "fe8579d1-eb0a-479d-ae81-24737131f956",
        "executionInfo": {
          "status": "ok",
          "timestamp": 1530819110653,
          "user_tz": 240,
          "elapsed": 350,
          "user": {
            "displayName": "john passarelli",
            "photoUrl": "https://lh3.googleusercontent.com/a/default-user=s128",
            "userId": "102241934905781120798"
          }
        }
      },
      "cell_type": "code",
      "source": [
        "data.head()"
      ],
      "execution_count": 144,
      "outputs": [
        {
          "output_type": "execute_result",
          "data": {
            "text/html": [
              "<div>\n",
              "<style scoped>\n",
              "    .dataframe tbody tr th:only-of-type {\n",
              "        vertical-align: middle;\n",
              "    }\n",
              "\n",
              "    .dataframe tbody tr th {\n",
              "        vertical-align: top;\n",
              "    }\n",
              "\n",
              "    .dataframe thead th {\n",
              "        text-align: right;\n",
              "    }\n",
              "</style>\n",
              "<table border=\"1\" class=\"dataframe\">\n",
              "  <thead>\n",
              "    <tr style=\"text-align: right;\">\n",
              "      <th></th>\n",
              "      <th>preg</th>\n",
              "      <th>plas</th>\n",
              "      <th>pres</th>\n",
              "      <th>skin</th>\n",
              "      <th>test</th>\n",
              "      <th>mass</th>\n",
              "      <th>pedi</th>\n",
              "      <th>age</th>\n",
              "      <th>class</th>\n",
              "    </tr>\n",
              "  </thead>\n",
              "  <tbody>\n",
              "    <tr>\n",
              "      <th>0</th>\n",
              "      <td>6</td>\n",
              "      <td>148</td>\n",
              "      <td>72</td>\n",
              "      <td>35</td>\n",
              "      <td>0</td>\n",
              "      <td>33.6</td>\n",
              "      <td>0.627</td>\n",
              "      <td>50</td>\n",
              "      <td>1</td>\n",
              "    </tr>\n",
              "    <tr>\n",
              "      <th>1</th>\n",
              "      <td>1</td>\n",
              "      <td>85</td>\n",
              "      <td>66</td>\n",
              "      <td>29</td>\n",
              "      <td>0</td>\n",
              "      <td>26.6</td>\n",
              "      <td>0.351</td>\n",
              "      <td>31</td>\n",
              "      <td>0</td>\n",
              "    </tr>\n",
              "    <tr>\n",
              "      <th>2</th>\n",
              "      <td>8</td>\n",
              "      <td>183</td>\n",
              "      <td>64</td>\n",
              "      <td>0</td>\n",
              "      <td>0</td>\n",
              "      <td>23.3</td>\n",
              "      <td>0.672</td>\n",
              "      <td>32</td>\n",
              "      <td>1</td>\n",
              "    </tr>\n",
              "    <tr>\n",
              "      <th>3</th>\n",
              "      <td>1</td>\n",
              "      <td>89</td>\n",
              "      <td>66</td>\n",
              "      <td>23</td>\n",
              "      <td>94</td>\n",
              "      <td>28.1</td>\n",
              "      <td>0.167</td>\n",
              "      <td>21</td>\n",
              "      <td>0</td>\n",
              "    </tr>\n",
              "    <tr>\n",
              "      <th>4</th>\n",
              "      <td>0</td>\n",
              "      <td>137</td>\n",
              "      <td>40</td>\n",
              "      <td>35</td>\n",
              "      <td>168</td>\n",
              "      <td>43.1</td>\n",
              "      <td>2.288</td>\n",
              "      <td>33</td>\n",
              "      <td>1</td>\n",
              "    </tr>\n",
              "  </tbody>\n",
              "</table>\n",
              "</div>"
            ],
            "text/plain": [
              "   preg  plas  pres  skin  test  mass   pedi  age  class\n",
              "0     6   148    72    35     0  33.6  0.627   50      1\n",
              "1     1    85    66    29     0  26.6  0.351   31      0\n",
              "2     8   183    64     0     0  23.3  0.672   32      1\n",
              "3     1    89    66    23    94  28.1  0.167   21      0\n",
              "4     0   137    40    35   168  43.1  2.288   33      1"
            ]
          },
          "metadata": {
            "tags": []
          },
          "execution_count": 144
        }
      ]
    },
    {
      "metadata": {
        "id": "OVd3yPrQ3LDG",
        "colab_type": "text"
      },
      "cell_type": "markdown",
      "source": [
        "#### Split data into test and train set with the test_size being 25 %"
      ]
    },
    {
      "metadata": {
        "id": "kOR7RCrf5P_k",
        "colab_type": "code",
        "colab": {
          "autoexec": {
            "startup": false,
            "wait_interval": 0
          }
        }
      },
      "cell_type": "code",
      "source": [
        "# your code here\n",
        "X = data.iloc[:,:-1].as_matrix()\n",
        "Y = data.iloc[:,-1].as_matrix()\n",
        "X_train, X_test, y_train, y_test = train_test_split( X, Y, test_size = 0.25, random_state = None)"
      ],
      "execution_count": 0,
      "outputs": []
    },
    {
      "metadata": {
        "id": "S-j9H9r_VsT3",
        "colab_type": "code",
        "colab": {
          "autoexec": {
            "startup": false,
            "wait_interval": 0
          },
          "base_uri": "https://localhost:8080/",
          "height": 50
        },
        "outputId": "9f5377e7-aea1-4c18-9244-d3008cbe32e3",
        "executionInfo": {
          "status": "ok",
          "timestamp": 1530819111658,
          "user_tz": 240,
          "elapsed": 587,
          "user": {
            "displayName": "john passarelli",
            "photoUrl": "https://lh3.googleusercontent.com/a/default-user=s128",
            "userId": "102241934905781120798"
          }
        }
      },
      "cell_type": "code",
      "source": [
        "print(X_train.shape)\n",
        "print(y_test.shape)"
      ],
      "execution_count": 146,
      "outputs": [
        {
          "output_type": "stream",
          "text": [
            "(576, 8)\n",
            "(192,)\n"
          ],
          "name": "stdout"
        }
      ]
    },
    {
      "metadata": {
        "id": "v7lQh69N3YR3",
        "colab_type": "text"
      },
      "cell_type": "markdown",
      "source": [
        "#### Create a model with sklearn's SVC and a high gamma value (perhaps 1.0)"
      ]
    },
    {
      "metadata": {
        "id": "9rYQecrQ8yjn",
        "colab_type": "code",
        "colab": {
          "autoexec": {
            "startup": false,
            "wait_interval": 0
          },
          "base_uri": "https://localhost:8080/",
          "height": 84
        },
        "outputId": "11374225-4764-426f-dee3-9cae4fe9ce6f",
        "executionInfo": {
          "status": "ok",
          "timestamp": 1530819112019,
          "user_tz": 240,
          "elapsed": 318,
          "user": {
            "displayName": "john passarelli",
            "photoUrl": "https://lh3.googleusercontent.com/a/default-user=s128",
            "userId": "102241934905781120798"
          }
        }
      },
      "cell_type": "code",
      "source": [
        "# your code here\n",
        "model = SVC( gamma=1)\n",
        "model.fit(X_train, y_train)"
      ],
      "execution_count": 147,
      "outputs": [
        {
          "output_type": "execute_result",
          "data": {
            "text/plain": [
              "SVC(C=1.0, cache_size=200, class_weight=None, coef0=0.0,\n",
              "  decision_function_shape='ovr', degree=3, gamma=1, kernel='rbf',\n",
              "  max_iter=-1, probability=False, random_state=None, shrinking=True,\n",
              "  tol=0.001, verbose=False)"
            ]
          },
          "metadata": {
            "tags": []
          },
          "execution_count": 147
        }
      ]
    },
    {
      "metadata": {
        "id": "qdiqjUje4ll-",
        "colab_type": "text"
      },
      "cell_type": "markdown",
      "source": [
        "#### Print accuracy of test data and training data"
      ]
    },
    {
      "metadata": {
        "id": "O5LqepHk9S0M",
        "colab_type": "code",
        "colab": {
          "autoexec": {
            "startup": false,
            "wait_interval": 0
          },
          "base_uri": "https://localhost:8080/",
          "height": 50
        },
        "outputId": "e14e104b-a46d-4aa4-92f1-e31be5017802",
        "executionInfo": {
          "status": "ok",
          "timestamp": 1530819112394,
          "user_tz": 240,
          "elapsed": 314,
          "user": {
            "displayName": "john passarelli",
            "photoUrl": "https://lh3.googleusercontent.com/a/default-user=s128",
            "userId": "102241934905781120798"
          }
        }
      },
      "cell_type": "code",
      "source": [
        "# your code here\n",
        "y_pred= model.predict(X_test)\n",
        "print(\"Accuracy is \", accuracy_score(y_test,y_pred)*100)\n",
        "y_train_pred= model.predict(X_train)\n",
        "print(\"Accuracy is \", accuracy_score(y_train_pred,y_train)*100)"
      ],
      "execution_count": 148,
      "outputs": [
        {
          "output_type": "stream",
          "text": [
            "Accuracy is  66.66666666666666\n",
            "Accuracy is  100.0\n"
          ],
          "name": "stdout"
        }
      ]
    },
    {
      "metadata": {
        "id": "fC7VlLtI3ZjQ",
        "colab_type": "text"
      },
      "cell_type": "markdown",
      "source": [
        "#### Create a model with sklearn's SVC and a high low value (perhaps .001)"
      ]
    },
    {
      "metadata": {
        "id": "3vVHnWuY9pFN",
        "colab_type": "code",
        "colab": {
          "autoexec": {
            "startup": false,
            "wait_interval": 0
          },
          "base_uri": "https://localhost:8080/",
          "height": 84
        },
        "outputId": "80d4bb35-20cd-4e6e-ba31-69f7d8f1a130",
        "executionInfo": {
          "status": "ok",
          "timestamp": 1530819112957,
          "user_tz": 240,
          "elapsed": 528,
          "user": {
            "displayName": "john passarelli",
            "photoUrl": "https://lh3.googleusercontent.com/a/default-user=s128",
            "userId": "102241934905781120798"
          }
        }
      },
      "cell_type": "code",
      "source": [
        "# your code here\n",
        "model = SVC( gamma=.001)\n",
        "model.fit(X_train, y_train)"
      ],
      "execution_count": 149,
      "outputs": [
        {
          "output_type": "execute_result",
          "data": {
            "text/plain": [
              "SVC(C=1.0, cache_size=200, class_weight=None, coef0=0.0,\n",
              "  decision_function_shape='ovr', degree=3, gamma=0.001, kernel='rbf',\n",
              "  max_iter=-1, probability=False, random_state=None, shrinking=True,\n",
              "  tol=0.001, verbose=False)"
            ]
          },
          "metadata": {
            "tags": []
          },
          "execution_count": 149
        }
      ]
    },
    {
      "metadata": {
        "id": "JQB-U50H4mIx",
        "colab_type": "text"
      },
      "cell_type": "markdown",
      "source": [
        "#### Print accuracy of training data and test data"
      ]
    },
    {
      "metadata": {
        "id": "tr4DGB309s9a",
        "colab_type": "code",
        "colab": {
          "autoexec": {
            "startup": false,
            "wait_interval": 0
          },
          "base_uri": "https://localhost:8080/",
          "height": 50
        },
        "outputId": "c4f6e52a-4801-4550-d72f-f480079ade81",
        "executionInfo": {
          "status": "ok",
          "timestamp": 1530819113375,
          "user_tz": 240,
          "elapsed": 359,
          "user": {
            "displayName": "john passarelli",
            "photoUrl": "https://lh3.googleusercontent.com/a/default-user=s128",
            "userId": "102241934905781120798"
          }
        }
      },
      "cell_type": "code",
      "source": [
        "# your code here\n",
        "y_pred= model.predict(X_test)\n",
        "print(\"Accuracy is \", accuracy_score(y_test,y_pred)*100)\n",
        "y_train_pred= model.predict(X_train)\n",
        "print(\"Accuracy is \", accuracy_score(y_train_pred,y_train)*100)"
      ],
      "execution_count": 150,
      "outputs": [
        {
          "output_type": "stream",
          "text": [
            "Accuracy is  71.875\n",
            "Accuracy is  84.54861111111111\n"
          ],
          "name": "stdout"
        }
      ]
    },
    {
      "metadata": {
        "id": "TA9xLHAEIKXY",
        "colab_type": "text"
      },
      "cell_type": "markdown",
      "source": [
        "Explain the accuracy results below. "
      ]
    },
    {
      "metadata": {
        "id": "fE_bPc2KISFi",
        "colab_type": "text"
      },
      "cell_type": "markdown",
      "source": [
        "Your answer here <br>\n",
        "high gamma value overfit on the training data <br>\n",
        "but low gamma value performed better on test set"
      ]
    },
    {
      "metadata": {
        "id": "Lv21xang3ZAa",
        "colab_type": "text"
      },
      "cell_type": "markdown",
      "source": [
        "## GridSearchCV\n",
        "\n",
        "There are several parameters to tune. Instead of tuning the parameters one by one, GridSearchCV does an exhaustive search over provided parameters. <br><br>"
      ]
    },
    {
      "metadata": {
        "id": "gr2EOA2LYvoF",
        "colab_type": "text"
      },
      "cell_type": "markdown",
      "source": [
        "###Use gamma, C and decision_function_shape as parameters and GridSearchCV to find the best parameters with kernel='rbf'<br>\n",
        "Don't know what decision_function_shape is, look at the SVC documentation <br>\n",
        "Don't know how to use GridSearchCV, google it!<br><br>"
      ]
    },
    {
      "metadata": {
        "id": "zmjogZlyMVMf",
        "colab_type": "code",
        "colab": {
          "autoexec": {
            "startup": false,
            "wait_interval": 0
          },
          "base_uri": "https://localhost:8080/",
          "height": 34
        },
        "outputId": "a692a59e-34b7-4743-ae94-01f5ae480511",
        "executionInfo": {
          "status": "ok",
          "timestamp": 1530819120571,
          "user_tz": 240,
          "elapsed": 7163,
          "user": {
            "displayName": "john passarelli",
            "photoUrl": "https://lh3.googleusercontent.com/a/default-user=s128",
            "userId": "102241934905781120798"
          }
        }
      },
      "cell_type": "code",
      "source": [
        "# your code here\n",
        "tuned_parameters = [{'kernel': ['rbf'], 'gamma': [ 0.00001, 0.0001, 0.001, 0.01, 0.1, 1], 'C': [.1, 1, 10, 100, 1000], 'decision_function_shape':['ovo', 'ovr'] }]\n",
        "grid_search = GridSearchCV(SVC(), tuned_parameters, cv=5)\n",
        "grid_search.fit(X_train, y_train)\n",
        "grid_search.best_params_"
      ],
      "execution_count": 151,
      "outputs": [
        {
          "output_type": "execute_result",
          "data": {
            "text/plain": [
              "{'C': 100, 'decision_function_shape': 'ovo', 'gamma': 1e-05, 'kernel': 'rbf'}"
            ]
          },
          "metadata": {
            "tags": []
          },
          "execution_count": 151
        }
      ]
    },
    {
      "metadata": {
        "id": "Yfyho8h_Y9_t",
        "colab_type": "text"
      },
      "cell_type": "markdown",
      "source": [
        "### Using the optimal parameters you found, print the accuracy"
      ]
    },
    {
      "metadata": {
        "id": "7p0actkaMxb9",
        "colab_type": "code",
        "colab": {
          "autoexec": {
            "startup": false,
            "wait_interval": 0
          },
          "base_uri": "https://localhost:8080/",
          "height": 34
        },
        "outputId": "cc4cb539-ac41-4903-ca0c-92c32797573c",
        "executionInfo": {
          "status": "ok",
          "timestamp": 1530819120923,
          "user_tz": 240,
          "elapsed": 319,
          "user": {
            "displayName": "john passarelli",
            "photoUrl": "https://lh3.googleusercontent.com/a/default-user=s128",
            "userId": "102241934905781120798"
          }
        }
      },
      "cell_type": "code",
      "source": [
        "rbf_tuned_model = SVC(kernel='rbf', C=10 ,gamma=.00001, decision_function_shape='ovo', probability=True)\n",
        "rbf_tuned_model.fit(X_train, y_train)\n",
        "y_pred= rbf_tuned_model.predict(X_test)\n",
        "print(\"Accuracy is \", accuracy_score(y_test,y_pred)*100)"
      ],
      "execution_count": 152,
      "outputs": [
        {
          "output_type": "stream",
          "text": [
            "Accuracy is  77.60416666666666\n"
          ],
          "name": "stdout"
        }
      ]
    },
    {
      "metadata": {
        "id": "kfY6H6PO1vJD",
        "colab_type": "text"
      },
      "cell_type": "markdown",
      "source": [
        "### Create an ensemble that includes svm and random forest (use your code from the decision trees notebook)\n",
        "### Use predict_proba to get probabilities and decide a method to comebine the predictions "
      ]
    },
    {
      "metadata": {
        "id": "PYbVYQgnOqpP",
        "colab_type": "code",
        "colab": {
          "autoexec": {
            "startup": false,
            "wait_interval": 0
          }
        }
      },
      "cell_type": "code",
      "source": [
        "# your code here\n",
        "probs_svm = rbf_tuned_model.predict_proba(X_test)"
      ],
      "execution_count": 0,
      "outputs": []
    },
    {
      "metadata": {
        "id": "UE0k50M7Oqrb",
        "colab_type": "code",
        "colab": {
          "autoexec": {
            "startup": false,
            "wait_interval": 0
          }
        }
      },
      "cell_type": "code",
      "source": [
        "random_forest = RandomForestClassifier(n_estimators=100)\n",
        "random_forest.fit(X_train, y_train)\n",
        "probs_forest = random_forest.predict_proba(X_test)"
      ],
      "execution_count": 0,
      "outputs": []
    },
    {
      "metadata": {
        "id": "LqzMw-AWNAWu",
        "colab_type": "code",
        "colab": {
          "autoexec": {
            "startup": false,
            "wait_interval": 0
          },
          "base_uri": "https://localhost:8080/",
          "height": 34
        },
        "outputId": "786f68d7-7057-4e38-c9b6-de729b4ff9e3",
        "executionInfo": {
          "status": "ok",
          "timestamp": 1530819129396,
          "user_tz": 240,
          "elapsed": 322,
          "user": {
            "displayName": "john passarelli",
            "photoUrl": "https://lh3.googleusercontent.com/a/default-user=s128",
            "userId": "102241934905781120798"
          }
        }
      },
      "cell_type": "code",
      "source": [
        "y_pred_ensemble = []\n",
        "huh = 0\n",
        "total = 0\n",
        "for i in range(0, len(probs_svm)):\n",
        "  if probs_svm[i].argmax() == probs_forest[i].argmax():\n",
        "    y_pred_ensemble.append(probs_svm[i].argmax())\n",
        "    continue\n",
        "  else:\n",
        "    svm_highest_val_idx = probs_svm[i].argmax()\n",
        "    forest_highest_val_idx = probs_forest[i].argmax()\n",
        "    svm_high_val = probs_svm[i][svm_highest_val_idx]\n",
        "    forest_high_val = probs_forest[i][forest_highest_val_idx]\n",
        "    if svm_high_val > forest_high_val:\n",
        "      y_pred_ensemble.append(probs_svm[i].argmax())\n",
        "    else:\n",
        "      y_pred_ensemble.append(probs_forest[i].argmax())\n",
        "print(\"Accuracy is \", accuracy_score(y_test,y_pred_ensemble)*100)"
      ],
      "execution_count": 156,
      "outputs": [
        {
          "output_type": "stream",
          "text": [
            "Accuracy is  78.64583333333334\n"
          ],
          "name": "stdout"
        }
      ]
    }
  ]
}