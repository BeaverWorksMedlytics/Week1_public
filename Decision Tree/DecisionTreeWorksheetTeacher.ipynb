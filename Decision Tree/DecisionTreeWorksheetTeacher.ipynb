{
  "nbformat": 4,
  "nbformat_minor": 0,
  "metadata": {
    "colab": {
      "name": "DecisionTreeWorksheetTeacher",
      "version": "0.3.2",
      "views": {},
      "default_view": {},
      "provenance": [
        {
          "file_id": "165CSmT99w4_Sv1UENIyvIkH7ZEw2Xeh8",
          "timestamp": 1527780043079
        }
      ],
      "collapsed_sections": []
    },
    "kernelspec": {
      "name": "python3",
      "display_name": "Python 3"
    }
  },
  "cells": [
    {
      "metadata": {
        "id": "-UimMCmGe19F",
        "colab_type": "text"
      },
      "cell_type": "markdown",
      "source": [
        "# Decision Tree Worksheet\n"
      ]
    },
    {
      "metadata": {
        "id": "kedW02LgKjVL",
        "colab_type": "code",
        "colab": {
          "autoexec": {
            "startup": false,
            "wait_interval": 0
          }
        }
      },
      "cell_type": "code",
      "source": [
        "# import packages\n",
        "!pip install graphviz \n",
        "!apt-get install graphviz\n",
        "\n",
        "import numpy as np\n",
        "import pandas as pd\n",
        "from sklearn.model_selection import train_test_split\n",
        "from sklearn.tree import DecisionTreeClassifier\n",
        "from sklearn.metrics import accuracy_score\n",
        "from sklearn import tree\n",
        "from sklearn.ensemble import RandomForestClassifier\n",
        "from sklearn import metrics\n",
        "!pip install -q graphviz\n",
        "import graphviz\n",
        "import matplotlib.pyplot as plt"
      ],
      "execution_count": 0,
      "outputs": []
    },
    {
      "metadata": {
        "id": "rz35eT5-SMht",
        "colab_type": "text"
      },
      "cell_type": "markdown",
      "source": [
        "#### Load pima indians diabetes dataset below"
      ]
    },
    {
      "metadata": {
        "id": "Ydh9gmDkMGmu",
        "colab_type": "code",
        "colab": {
          "autoexec": {
            "startup": false,
            "wait_interval": 0
          }
        }
      },
      "cell_type": "code",
      "source": [
        "url = \"https://raw.githubusercontent.com/jbrownlee/Datasets/master/pima-indians-diabetes.data.csv\"\n",
        "names = ['preg', 'plas', 'pres', 'skin', 'test', 'mass', 'pedi', 'age', 'class']\n",
        "# your code here\n",
        "data = pd.read_csv(url, names=names)"
      ],
      "execution_count": 0,
      "outputs": []
    },
    {
      "metadata": {
        "id": "WH7g1K3AMTa8",
        "colab_type": "code",
        "colab": {
          "autoexec": {
            "startup": false,
            "wait_interval": 0
          },
          "base_uri": "https://localhost:8080/",
          "height": 204
        },
        "outputId": "7c454269-4ca9-477e-8f54-f85fd9f37756",
        "executionInfo": {
          "status": "ok",
          "timestamp": 1531313427467,
          "user_tz": 240,
          "elapsed": 539,
          "user": {
            "displayName": "john passarelli",
            "photoUrl": "https://lh3.googleusercontent.com/a/default-user=s128",
            "userId": "102241934905781120798"
          }
        }
      },
      "cell_type": "code",
      "source": [
        "data.head()"
      ],
      "execution_count": 3,
      "outputs": [
        {
          "output_type": "execute_result",
          "data": {
            "text/html": [
              "<div>\n",
              "<style scoped>\n",
              "    .dataframe tbody tr th:only-of-type {\n",
              "        vertical-align: middle;\n",
              "    }\n",
              "\n",
              "    .dataframe tbody tr th {\n",
              "        vertical-align: top;\n",
              "    }\n",
              "\n",
              "    .dataframe thead th {\n",
              "        text-align: right;\n",
              "    }\n",
              "</style>\n",
              "<table border=\"1\" class=\"dataframe\">\n",
              "  <thead>\n",
              "    <tr style=\"text-align: right;\">\n",
              "      <th></th>\n",
              "      <th>preg</th>\n",
              "      <th>plas</th>\n",
              "      <th>pres</th>\n",
              "      <th>skin</th>\n",
              "      <th>test</th>\n",
              "      <th>mass</th>\n",
              "      <th>pedi</th>\n",
              "      <th>age</th>\n",
              "      <th>class</th>\n",
              "    </tr>\n",
              "  </thead>\n",
              "  <tbody>\n",
              "    <tr>\n",
              "      <th>0</th>\n",
              "      <td>6</td>\n",
              "      <td>148</td>\n",
              "      <td>72</td>\n",
              "      <td>35</td>\n",
              "      <td>0</td>\n",
              "      <td>33.6</td>\n",
              "      <td>0.627</td>\n",
              "      <td>50</td>\n",
              "      <td>1</td>\n",
              "    </tr>\n",
              "    <tr>\n",
              "      <th>1</th>\n",
              "      <td>1</td>\n",
              "      <td>85</td>\n",
              "      <td>66</td>\n",
              "      <td>29</td>\n",
              "      <td>0</td>\n",
              "      <td>26.6</td>\n",
              "      <td>0.351</td>\n",
              "      <td>31</td>\n",
              "      <td>0</td>\n",
              "    </tr>\n",
              "    <tr>\n",
              "      <th>2</th>\n",
              "      <td>8</td>\n",
              "      <td>183</td>\n",
              "      <td>64</td>\n",
              "      <td>0</td>\n",
              "      <td>0</td>\n",
              "      <td>23.3</td>\n",
              "      <td>0.672</td>\n",
              "      <td>32</td>\n",
              "      <td>1</td>\n",
              "    </tr>\n",
              "    <tr>\n",
              "      <th>3</th>\n",
              "      <td>1</td>\n",
              "      <td>89</td>\n",
              "      <td>66</td>\n",
              "      <td>23</td>\n",
              "      <td>94</td>\n",
              "      <td>28.1</td>\n",
              "      <td>0.167</td>\n",
              "      <td>21</td>\n",
              "      <td>0</td>\n",
              "    </tr>\n",
              "    <tr>\n",
              "      <th>4</th>\n",
              "      <td>0</td>\n",
              "      <td>137</td>\n",
              "      <td>40</td>\n",
              "      <td>35</td>\n",
              "      <td>168</td>\n",
              "      <td>43.1</td>\n",
              "      <td>2.288</td>\n",
              "      <td>33</td>\n",
              "      <td>1</td>\n",
              "    </tr>\n",
              "  </tbody>\n",
              "</table>\n",
              "</div>"
            ],
            "text/plain": [
              "   preg  plas  pres  skin  test  mass   pedi  age  class\n",
              "0     6   148    72    35     0  33.6  0.627   50      1\n",
              "1     1    85    66    29     0  26.6  0.351   31      0\n",
              "2     8   183    64     0     0  23.3  0.672   32      1\n",
              "3     1    89    66    23    94  28.1  0.167   21      0\n",
              "4     0   137    40    35   168  43.1  2.288   33      1"
            ]
          },
          "metadata": {
            "tags": []
          },
          "execution_count": 3
        }
      ]
    },
    {
      "metadata": {
        "id": "KAFhsJIsSpMR",
        "colab_type": "text"
      },
      "cell_type": "markdown",
      "source": [
        "#### create training and testing dataset with sklearn function: train_test_split"
      ]
    },
    {
      "metadata": {
        "id": "fHbA28aFS2DM",
        "colab_type": "code",
        "colab": {
          "autoexec": {
            "startup": false,
            "wait_interval": 0
          }
        }
      },
      "cell_type": "code",
      "source": [
        "# your code here\n",
        "X = data.iloc[:,:-1].as_matrix()\n",
        "Y = data.iloc[:,-1].as_matrix()\n",
        "X_train, X_test, y_train, y_test = train_test_split( X, Y, test_size = 0.3, random_state = None)"
      ],
      "execution_count": 0,
      "outputs": []
    },
    {
      "metadata": {
        "id": "4_8DZinWTJRa",
        "colab_type": "text"
      },
      "cell_type": "markdown",
      "source": [
        "#### Create a model with sklearn's DecisionTreeClassifier and predict values on your test set"
      ]
    },
    {
      "metadata": {
        "id": "EgByCP_EhyB2",
        "colab_type": "code",
        "colab": {
          "autoexec": {
            "startup": false,
            "wait_interval": 0
          }
        }
      },
      "cell_type": "code",
      "source": [
        "# your code here\n",
        "decision_model = DecisionTreeClassifier(criterion = \"entropy\", random_state = None,\n",
        "                               max_depth=5, min_samples_leaf=5)  # minimum sample leafs is the minimum sample amount the leaf can have\n",
        "decision_model.fit(X_train, y_train)\n",
        "y_pred = decision_model.predict(X_test)"
      ],
      "execution_count": 0,
      "outputs": []
    },
    {
      "metadata": {
        "id": "6HNa6fxbT6ak",
        "colab_type": "text"
      },
      "cell_type": "markdown",
      "source": [
        "#### Print the accuracy on the test data, play with the parameters and try to improve the accuracy\n",
        "hint: there is an sklearn to calculate accuracy"
      ]
    },
    {
      "metadata": {
        "id": "6Pbu-t_tiqnB",
        "colab_type": "code",
        "colab": {
          "autoexec": {
            "startup": false,
            "wait_interval": 0
          },
          "base_uri": "https://localhost:8080/",
          "height": 34
        },
        "outputId": "864fc3d9-1c87-44b1-a3a0-1af26f071d49",
        "executionInfo": {
          "status": "ok",
          "timestamp": 1531314209016,
          "user_tz": 240,
          "elapsed": 278,
          "user": {
            "displayName": "john passarelli",
            "photoUrl": "https://lh3.googleusercontent.com/a/default-user=s128",
            "userId": "102241934905781120798"
          }
        }
      },
      "cell_type": "code",
      "source": [
        "print(\"Accuracy is \", accuracy_score(y_test,y_pred)*100)"
      ],
      "execution_count": 19,
      "outputs": [
        {
          "output_type": "stream",
          "text": [
            "Accuracy is  71.86147186147186\n"
          ],
          "name": "stdout"
        }
      ]
    },
    {
      "metadata": {
        "id": "tKdqOMBKUvGZ",
        "colab_type": "text"
      },
      "cell_type": "markdown",
      "source": [
        "#### Use graphviz to view the decision tree graph\n",
        "##### hint: want to look at a code example, see the Classification Evaluation notebook on github"
      ]
    },
    {
      "metadata": {
        "id": "8o55bY_jl8gj",
        "colab_type": "code",
        "colab": {
          "autoexec": {
            "startup": false,
            "wait_interval": 0
          },
          "base_uri": "https://localhost:8080/",
          "height": 816
        },
        "outputId": "ba9114a4-ea13-4e8c-f751-d62ac7cbb8a5",
        "executionInfo": {
          "status": "ok",
          "timestamp": 1531314209981,
          "user_tz": 240,
          "elapsed": 363,
          "user": {
            "displayName": "john passarelli",
            "photoUrl": "https://lh3.googleusercontent.com/a/default-user=s128",
            "userId": "102241934905781120798"
          }
        }
      },
      "cell_type": "code",
      "source": [
        "dot_data = tree.export_graphviz(decision_model, out_file=None, filled=True)\n",
        "\n",
        "graph = graphviz.Source(dot_data)  \n",
        "graph"
      ],
      "execution_count": 20,
      "outputs": [
        {
          "output_type": "execute_result",
          "data": {
            "text/plain": [
              "<graphviz.files.Source at 0x7fbcf1a364e0>"
            ],
            "image/svg+xml": "<?xml version=\"1.0\" encoding=\"UTF-8\" standalone=\"no\"?>\n<!DOCTYPE svg PUBLIC \"-//W3C//DTD SVG 1.1//EN\"\n \"http://www.w3.org/Graphics/SVG/1.1/DTD/svg11.dtd\">\n<!-- Generated by graphviz version 2.38.0 (20140413.2041)\n -->\n<!-- Title: Tree Pages: 1 -->\n<svg width=\"2794pt\" height=\"581pt\"\n viewBox=\"0.00 0.00 2794.00 581.00\" xmlns=\"http://www.w3.org/2000/svg\" xmlns:xlink=\"http://www.w3.org/1999/xlink\">\n<g id=\"graph0\" class=\"graph\" transform=\"scale(1 1) rotate(0) translate(4 577)\">\n<title>Tree</title>\n<polygon fill=\"white\" stroke=\"none\" points=\"-4,4 -4,-577 2790,-577 2790,4 -4,4\"/>\n<!-- 0 -->\n<g id=\"node1\" class=\"node\"><title>0</title>\n<polygon fill=\"#e58139\" fill-opacity=\"0.419608\" stroke=\"black\" points=\"1351.5,-573 1202.5,-573 1202.5,-505 1351.5,-505 1351.5,-573\"/>\n<text text-anchor=\"middle\" x=\"1277\" y=\"-557.8\" font-family=\"Times,serif\" font-size=\"14.00\">X[1] &lt;= 127.5</text>\n<text text-anchor=\"middle\" x=\"1277\" y=\"-542.8\" font-family=\"Times,serif\" font-size=\"14.00\">entropy = 0.948</text>\n<text text-anchor=\"middle\" x=\"1277\" y=\"-527.8\" font-family=\"Times,serif\" font-size=\"14.00\">samples = 537</text>\n<text text-anchor=\"middle\" x=\"1277\" y=\"-512.8\" font-family=\"Times,serif\" font-size=\"14.00\">value = [340, 197]</text>\n</g>\n<!-- 1 -->\n<g id=\"node2\" class=\"node\"><title>1</title>\n<polygon fill=\"#e58139\" fill-opacity=\"0.756863\" stroke=\"black\" points=\"937,-469 797,-469 797,-401 937,-401 937,-469\"/>\n<text text-anchor=\"middle\" x=\"867\" y=\"-453.8\" font-family=\"Times,serif\" font-size=\"14.00\">X[7] &lt;= 28.5</text>\n<text text-anchor=\"middle\" x=\"867\" y=\"-438.8\" font-family=\"Times,serif\" font-size=\"14.00\">entropy = 0.713</text>\n<text text-anchor=\"middle\" x=\"867\" y=\"-423.8\" font-family=\"Times,serif\" font-size=\"14.00\">samples = 332</text>\n<text text-anchor=\"middle\" x=\"867\" y=\"-408.8\" font-family=\"Times,serif\" font-size=\"14.00\">value = [267, 65]</text>\n</g>\n<!-- 0&#45;&gt;1 -->\n<g id=\"edge1\" class=\"edge\"><title>0&#45;&gt;1</title>\n<path fill=\"none\" stroke=\"black\" d=\"M1202.28,-519.41C1129.99,-501.428 1020.81,-474.266 946.847,-455.864\"/>\n<polygon fill=\"black\" stroke=\"black\" points=\"947.653,-452.458 937.104,-453.44 945.963,-459.251 947.653,-452.458\"/>\n<text text-anchor=\"middle\" x=\"949.991\" y=\"-471.163\" font-family=\"Times,serif\" font-size=\"14.00\">True</text>\n</g>\n<!-- 24 -->\n<g id=\"node25\" class=\"node\"><title>24</title>\n<polygon fill=\"#399de5\" fill-opacity=\"0.447059\" stroke=\"black\" points=\"1758,-469 1618,-469 1618,-401 1758,-401 1758,-469\"/>\n<text text-anchor=\"middle\" x=\"1688\" y=\"-453.8\" font-family=\"Times,serif\" font-size=\"14.00\">X[5] &lt;= 29.95</text>\n<text text-anchor=\"middle\" x=\"1688\" y=\"-438.8\" font-family=\"Times,serif\" font-size=\"14.00\">entropy = 0.939</text>\n<text text-anchor=\"middle\" x=\"1688\" y=\"-423.8\" font-family=\"Times,serif\" font-size=\"14.00\">samples = 205</text>\n<text text-anchor=\"middle\" x=\"1688\" y=\"-408.8\" font-family=\"Times,serif\" font-size=\"14.00\">value = [73, 132]</text>\n</g>\n<!-- 0&#45;&gt;24 -->\n<g id=\"edge24\" class=\"edge\"><title>0&#45;&gt;24</title>\n<path fill=\"none\" stroke=\"black\" d=\"M1351.91,-519.41C1424.36,-501.428 1533.81,-474.266 1607.96,-455.864\"/>\n<polygon fill=\"black\" stroke=\"black\" points=\"1608.86,-459.246 1617.73,-453.44 1607.18,-452.452 1608.86,-459.246\"/>\n<text text-anchor=\"middle\" x=\"1604.83\" y=\"-471.156\" font-family=\"Times,serif\" font-size=\"14.00\">False</text>\n</g>\n<!-- 2 -->\n<g id=\"node3\" class=\"node\"><title>2</title>\n<polygon fill=\"#e58139\" fill-opacity=\"0.921569\" stroke=\"black\" points=\"502,-365 362,-365 362,-297 502,-297 502,-365\"/>\n<text text-anchor=\"middle\" x=\"432\" y=\"-349.8\" font-family=\"Times,serif\" font-size=\"14.00\">X[5] &lt;= 30.95</text>\n<text text-anchor=\"middle\" x=\"432\" y=\"-334.8\" font-family=\"Times,serif\" font-size=\"14.00\">entropy = 0.378</text>\n<text text-anchor=\"middle\" x=\"432\" y=\"-319.8\" font-family=\"Times,serif\" font-size=\"14.00\">samples = 191</text>\n<text text-anchor=\"middle\" x=\"432\" y=\"-304.8\" font-family=\"Times,serif\" font-size=\"14.00\">value = [177, 14]</text>\n</g>\n<!-- 1&#45;&gt;2 -->\n<g id=\"edge2\" class=\"edge\"><title>1&#45;&gt;2</title>\n<path fill=\"none\" stroke=\"black\" d=\"M796.626,-417.499C718.916,-399.277 594.033,-369.994 512.49,-350.874\"/>\n<polygon fill=\"black\" stroke=\"black\" points=\"512.808,-347.353 502.273,-348.478 511.209,-354.168 512.808,-347.353\"/>\n</g>\n<!-- 13 -->\n<g id=\"node14\" class=\"node\"><title>13</title>\n<polygon fill=\"#e58139\" fill-opacity=\"0.431373\" stroke=\"black\" points=\"934,-365 800,-365 800,-297 934,-297 934,-365\"/>\n<text text-anchor=\"middle\" x=\"867\" y=\"-349.8\" font-family=\"Times,serif\" font-size=\"14.00\">X[5] &lt;= 26.35</text>\n<text text-anchor=\"middle\" x=\"867\" y=\"-334.8\" font-family=\"Times,serif\" font-size=\"14.00\">entropy = 0.944</text>\n<text text-anchor=\"middle\" x=\"867\" y=\"-319.8\" font-family=\"Times,serif\" font-size=\"14.00\">samples = 141</text>\n<text text-anchor=\"middle\" x=\"867\" y=\"-304.8\" font-family=\"Times,serif\" font-size=\"14.00\">value = [90, 51]</text>\n</g>\n<!-- 1&#45;&gt;13 -->\n<g id=\"edge13\" class=\"edge\"><title>1&#45;&gt;13</title>\n<path fill=\"none\" stroke=\"black\" d=\"M867,-400.884C867,-392.778 867,-383.982 867,-375.472\"/>\n<polygon fill=\"black\" stroke=\"black\" points=\"870.5,-375.299 867,-365.299 863.5,-375.299 870.5,-375.299\"/>\n</g>\n<!-- 3 -->\n<g id=\"node4\" class=\"node\"><title>3</title>\n<polygon fill=\"#e58139\" fill-opacity=\"0.980392\" stroke=\"black\" points=\"272.5,-261 141.5,-261 141.5,-193 272.5,-193 272.5,-261\"/>\n<text text-anchor=\"middle\" x=\"207\" y=\"-245.8\" font-family=\"Times,serif\" font-size=\"14.00\">X[0] &lt;= 2.5</text>\n<text text-anchor=\"middle\" x=\"207\" y=\"-230.8\" font-family=\"Times,serif\" font-size=\"14.00\">entropy = 0.13</text>\n<text text-anchor=\"middle\" x=\"207\" y=\"-215.8\" font-family=\"Times,serif\" font-size=\"14.00\">samples = 111</text>\n<text text-anchor=\"middle\" x=\"207\" y=\"-200.8\" font-family=\"Times,serif\" font-size=\"14.00\">value = [109, 2]</text>\n</g>\n<!-- 2&#45;&gt;3 -->\n<g id=\"edge3\" class=\"edge\"><title>2&#45;&gt;3</title>\n<path fill=\"none\" stroke=\"black\" d=\"M361.734,-298.146C336.355,-286.641 307.621,-273.615 281.863,-261.938\"/>\n<polygon fill=\"black\" stroke=\"black\" points=\"283.072,-258.643 272.519,-257.702 280.182,-265.019 283.072,-258.643\"/>\n</g>\n<!-- 8 -->\n<g id=\"node9\" class=\"node\"><title>8</title>\n<polygon fill=\"#e58139\" fill-opacity=\"0.823529\" stroke=\"black\" points=\"497.5,-261 366.5,-261 366.5,-193 497.5,-193 497.5,-261\"/>\n<text text-anchor=\"middle\" x=\"432\" y=\"-245.8\" font-family=\"Times,serif\" font-size=\"14.00\">X[5] &lt;= 38.3</text>\n<text text-anchor=\"middle\" x=\"432\" y=\"-230.8\" font-family=\"Times,serif\" font-size=\"14.00\">entropy = 0.61</text>\n<text text-anchor=\"middle\" x=\"432\" y=\"-215.8\" font-family=\"Times,serif\" font-size=\"14.00\">samples = 80</text>\n<text text-anchor=\"middle\" x=\"432\" y=\"-200.8\" font-family=\"Times,serif\" font-size=\"14.00\">value = [68, 12]</text>\n</g>\n<!-- 2&#45;&gt;8 -->\n<g id=\"edge8\" class=\"edge\"><title>2&#45;&gt;8</title>\n<path fill=\"none\" stroke=\"black\" d=\"M432,-296.884C432,-288.778 432,-279.982 432,-271.472\"/>\n<polygon fill=\"black\" stroke=\"black\" points=\"435.5,-271.299 432,-261.299 428.5,-271.299 435.5,-271.299\"/>\n</g>\n<!-- 4 -->\n<g id=\"node5\" class=\"node\"><title>4</title>\n<polygon fill=\"#e58139\" stroke=\"black\" points=\"122,-149.5 -7.10543e-15,-149.5 -7.10543e-15,-96.5 122,-96.5 122,-149.5\"/>\n<text text-anchor=\"middle\" x=\"61\" y=\"-134.3\" font-family=\"Times,serif\" font-size=\"14.00\">entropy = 0.0</text>\n<text text-anchor=\"middle\" x=\"61\" y=\"-119.3\" font-family=\"Times,serif\" font-size=\"14.00\">samples = 83</text>\n<text text-anchor=\"middle\" x=\"61\" y=\"-104.3\" font-family=\"Times,serif\" font-size=\"14.00\">value = [83, 0]</text>\n</g>\n<!-- 3&#45;&gt;4 -->\n<g id=\"edge4\" class=\"edge\"><title>3&#45;&gt;4</title>\n<path fill=\"none\" stroke=\"black\" d=\"M159.598,-192.884C142.439,-180.896 123.12,-167.399 106.159,-155.549\"/>\n<polygon fill=\"black\" stroke=\"black\" points=\"107.731,-152.378 97.5285,-149.52 103.722,-158.116 107.731,-152.378\"/>\n</g>\n<!-- 5 -->\n<g id=\"node6\" class=\"node\"><title>5</title>\n<polygon fill=\"#e58139\" fill-opacity=\"0.921569\" stroke=\"black\" points=\"274,-157 140,-157 140,-89 274,-89 274,-157\"/>\n<text text-anchor=\"middle\" x=\"207\" y=\"-141.8\" font-family=\"Times,serif\" font-size=\"14.00\">X[1] &lt;= 106.5</text>\n<text text-anchor=\"middle\" x=\"207\" y=\"-126.8\" font-family=\"Times,serif\" font-size=\"14.00\">entropy = 0.371</text>\n<text text-anchor=\"middle\" x=\"207\" y=\"-111.8\" font-family=\"Times,serif\" font-size=\"14.00\">samples = 28</text>\n<text text-anchor=\"middle\" x=\"207\" y=\"-96.8\" font-family=\"Times,serif\" font-size=\"14.00\">value = [26, 2]</text>\n</g>\n<!-- 3&#45;&gt;5 -->\n<g id=\"edge5\" class=\"edge\"><title>3&#45;&gt;5</title>\n<path fill=\"none\" stroke=\"black\" d=\"M207,-192.884C207,-184.778 207,-175.982 207,-167.472\"/>\n<polygon fill=\"black\" stroke=\"black\" points=\"210.5,-167.299 207,-157.299 203.5,-167.299 210.5,-167.299\"/>\n</g>\n<!-- 6 -->\n<g id=\"node7\" class=\"node\"><title>6</title>\n<polygon fill=\"#e58139\" stroke=\"black\" points=\"122,-53 -7.10543e-15,-53 -7.10543e-15,-0 122,-0 122,-53\"/>\n<text text-anchor=\"middle\" x=\"61\" y=\"-37.8\" font-family=\"Times,serif\" font-size=\"14.00\">entropy = 0.0</text>\n<text text-anchor=\"middle\" x=\"61\" y=\"-22.8\" font-family=\"Times,serif\" font-size=\"14.00\">samples = 18</text>\n<text text-anchor=\"middle\" x=\"61\" y=\"-7.8\" font-family=\"Times,serif\" font-size=\"14.00\">value = [18, 0]</text>\n</g>\n<!-- 5&#45;&gt;6 -->\n<g id=\"edge6\" class=\"edge\"><title>5&#45;&gt;6</title>\n<path fill=\"none\" stroke=\"black\" d=\"M155.936,-88.9485C140.814,-79.1601 124.306,-68.4756 109.36,-58.8015\"/>\n<polygon fill=\"black\" stroke=\"black\" points=\"111.059,-55.7322 100.763,-53.2367 107.256,-61.6087 111.059,-55.7322\"/>\n</g>\n<!-- 7 -->\n<g id=\"node8\" class=\"node\"><title>7</title>\n<polygon fill=\"#e58139\" fill-opacity=\"0.749020\" stroke=\"black\" points=\"274,-53 140,-53 140,-0 274,-0 274,-53\"/>\n<text text-anchor=\"middle\" x=\"207\" y=\"-37.8\" font-family=\"Times,serif\" font-size=\"14.00\">entropy = 0.722</text>\n<text text-anchor=\"middle\" x=\"207\" y=\"-22.8\" font-family=\"Times,serif\" font-size=\"14.00\">samples = 10</text>\n<text text-anchor=\"middle\" x=\"207\" y=\"-7.8\" font-family=\"Times,serif\" font-size=\"14.00\">value = [8, 2]</text>\n</g>\n<!-- 5&#45;&gt;7 -->\n<g id=\"edge7\" class=\"edge\"><title>5&#45;&gt;7</title>\n<path fill=\"none\" stroke=\"black\" d=\"M207,-88.9485C207,-80.7153 207,-71.848 207,-63.4814\"/>\n<polygon fill=\"black\" stroke=\"black\" points=\"210.5,-63.2367 207,-53.2367 203.5,-63.2367 210.5,-63.2367\"/>\n</g>\n<!-- 9 -->\n<g id=\"node10\" class=\"node\"><title>9</title>\n<polygon fill=\"#e58139\" fill-opacity=\"0.760784\" stroke=\"black\" points=\"426,-157 292,-157 292,-89 426,-89 426,-157\"/>\n<text text-anchor=\"middle\" x=\"359\" y=\"-141.8\" font-family=\"Times,serif\" font-size=\"14.00\">X[6] &lt;= 0.501</text>\n<text text-anchor=\"middle\" x=\"359\" y=\"-126.8\" font-family=\"Times,serif\" font-size=\"14.00\">entropy = 0.709</text>\n<text text-anchor=\"middle\" x=\"359\" y=\"-111.8\" font-family=\"Times,serif\" font-size=\"14.00\">samples = 62</text>\n<text text-anchor=\"middle\" x=\"359\" y=\"-96.8\" font-family=\"Times,serif\" font-size=\"14.00\">value = [50, 12]</text>\n</g>\n<!-- 8&#45;&gt;9 -->\n<g id=\"edge9\" class=\"edge\"><title>8&#45;&gt;9</title>\n<path fill=\"none\" stroke=\"black\" d=\"M408.299,-192.884C402.052,-184.154 395.231,-174.625 388.711,-165.514\"/>\n<polygon fill=\"black\" stroke=\"black\" points=\"391.498,-163.394 382.832,-157.299 385.806,-167.468 391.498,-163.394\"/>\n</g>\n<!-- 12 -->\n<g id=\"node13\" class=\"node\"><title>12</title>\n<polygon fill=\"#e58139\" stroke=\"black\" points=\"566,-149.5 444,-149.5 444,-96.5 566,-96.5 566,-149.5\"/>\n<text text-anchor=\"middle\" x=\"505\" y=\"-134.3\" font-family=\"Times,serif\" font-size=\"14.00\">entropy = 0.0</text>\n<text text-anchor=\"middle\" x=\"505\" y=\"-119.3\" font-family=\"Times,serif\" font-size=\"14.00\">samples = 18</text>\n<text text-anchor=\"middle\" x=\"505\" y=\"-104.3\" font-family=\"Times,serif\" font-size=\"14.00\">value = [18, 0]</text>\n</g>\n<!-- 8&#45;&gt;12 -->\n<g id=\"edge12\" class=\"edge\"><title>8&#45;&gt;12</title>\n<path fill=\"none\" stroke=\"black\" d=\"M455.701,-192.884C463.729,-181.666 472.704,-169.126 480.773,-157.852\"/>\n<polygon fill=\"black\" stroke=\"black\" points=\"483.762,-159.689 486.736,-149.52 478.07,-155.615 483.762,-159.689\"/>\n</g>\n<!-- 10 -->\n<g id=\"node11\" class=\"node\"><title>10</title>\n<polygon fill=\"#e58139\" fill-opacity=\"0.890196\" stroke=\"black\" points=\"426,-53 292,-53 292,-0 426,-0 426,-53\"/>\n<text text-anchor=\"middle\" x=\"359\" y=\"-37.8\" font-family=\"Times,serif\" font-size=\"14.00\">entropy = 0.469</text>\n<text text-anchor=\"middle\" x=\"359\" y=\"-22.8\" font-family=\"Times,serif\" font-size=\"14.00\">samples = 40</text>\n<text text-anchor=\"middle\" x=\"359\" y=\"-7.8\" font-family=\"Times,serif\" font-size=\"14.00\">value = [36, 4]</text>\n</g>\n<!-- 9&#45;&gt;10 -->\n<g id=\"edge10\" class=\"edge\"><title>9&#45;&gt;10</title>\n<path fill=\"none\" stroke=\"black\" d=\"M359,-88.9485C359,-80.7153 359,-71.848 359,-63.4814\"/>\n<polygon fill=\"black\" stroke=\"black\" points=\"362.5,-63.2367 359,-53.2367 355.5,-63.2367 362.5,-63.2367\"/>\n</g>\n<!-- 11 -->\n<g id=\"node12\" class=\"node\"><title>11</title>\n<polygon fill=\"#e58139\" fill-opacity=\"0.427451\" stroke=\"black\" points=\"578,-53 444,-53 444,-0 578,-0 578,-53\"/>\n<text text-anchor=\"middle\" x=\"511\" y=\"-37.8\" font-family=\"Times,serif\" font-size=\"14.00\">entropy = 0.946</text>\n<text text-anchor=\"middle\" x=\"511\" y=\"-22.8\" font-family=\"Times,serif\" font-size=\"14.00\">samples = 22</text>\n<text text-anchor=\"middle\" x=\"511\" y=\"-7.8\" font-family=\"Times,serif\" font-size=\"14.00\">value = [14, 8]</text>\n</g>\n<!-- 9&#45;&gt;11 -->\n<g id=\"edge11\" class=\"edge\"><title>9&#45;&gt;11</title>\n<path fill=\"none\" stroke=\"black\" d=\"M412.162,-88.9485C428.054,-79.0686 445.414,-68.2758 461.089,-58.5305\"/>\n<polygon fill=\"black\" stroke=\"black\" points=\"462.959,-61.489 469.603,-53.2367 459.263,-55.5443 462.959,-61.489\"/>\n</g>\n<!-- 14 -->\n<g id=\"node15\" class=\"node\"><title>14</title>\n<polygon fill=\"#e58139\" fill-opacity=\"0.964706\" stroke=\"black\" points=\"858,-261 724,-261 724,-193 858,-193 858,-261\"/>\n<text text-anchor=\"middle\" x=\"791\" y=\"-245.8\" font-family=\"Times,serif\" font-size=\"14.00\">X[0] &lt;= 9.5</text>\n<text text-anchor=\"middle\" x=\"791\" y=\"-230.8\" font-family=\"Times,serif\" font-size=\"14.00\">entropy = 0.206</text>\n<text text-anchor=\"middle\" x=\"791\" y=\"-215.8\" font-family=\"Times,serif\" font-size=\"14.00\">samples = 31</text>\n<text text-anchor=\"middle\" x=\"791\" y=\"-200.8\" font-family=\"Times,serif\" font-size=\"14.00\">value = [30, 1]</text>\n</g>\n<!-- 13&#45;&gt;14 -->\n<g id=\"edge14\" class=\"edge\"><title>13&#45;&gt;14</title>\n<path fill=\"none\" stroke=\"black\" d=\"M842.325,-296.884C835.821,-288.154 828.72,-278.625 821.932,-269.514\"/>\n<polygon fill=\"black\" stroke=\"black\" points=\"824.593,-267.227 815.811,-261.299 818.98,-271.409 824.593,-267.227\"/>\n</g>\n<!-- 17 -->\n<g id=\"node18\" class=\"node\"><title>17</title>\n<polygon fill=\"#e58139\" fill-opacity=\"0.164706\" stroke=\"black\" points=\"1010,-261 876,-261 876,-193 1010,-193 1010,-261\"/>\n<text text-anchor=\"middle\" x=\"943\" y=\"-245.8\" font-family=\"Times,serif\" font-size=\"14.00\">X[1] &lt;= 96.5</text>\n<text text-anchor=\"middle\" x=\"943\" y=\"-230.8\" font-family=\"Times,serif\" font-size=\"14.00\">entropy = 0.994</text>\n<text text-anchor=\"middle\" x=\"943\" y=\"-215.8\" font-family=\"Times,serif\" font-size=\"14.00\">samples = 110</text>\n<text text-anchor=\"middle\" x=\"943\" y=\"-200.8\" font-family=\"Times,serif\" font-size=\"14.00\">value = [60, 50]</text>\n</g>\n<!-- 13&#45;&gt;17 -->\n<g id=\"edge17\" class=\"edge\"><title>13&#45;&gt;17</title>\n<path fill=\"none\" stroke=\"black\" d=\"M891.675,-296.884C898.179,-288.154 905.28,-278.625 912.068,-269.514\"/>\n<polygon fill=\"black\" stroke=\"black\" points=\"915.02,-271.409 918.189,-261.299 909.407,-267.227 915.02,-271.409\"/>\n</g>\n<!-- 15 -->\n<g id=\"node16\" class=\"node\"><title>15</title>\n<polygon fill=\"#e58139\" stroke=\"black\" points=\"706,-149.5 584,-149.5 584,-96.5 706,-96.5 706,-149.5\"/>\n<text text-anchor=\"middle\" x=\"645\" y=\"-134.3\" font-family=\"Times,serif\" font-size=\"14.00\">entropy = 0.0</text>\n<text text-anchor=\"middle\" x=\"645\" y=\"-119.3\" font-family=\"Times,serif\" font-size=\"14.00\">samples = 26</text>\n<text text-anchor=\"middle\" x=\"645\" y=\"-104.3\" font-family=\"Times,serif\" font-size=\"14.00\">value = [26, 0]</text>\n</g>\n<!-- 14&#45;&gt;15 -->\n<g id=\"edge15\" class=\"edge\"><title>14&#45;&gt;15</title>\n<path fill=\"none\" stroke=\"black\" d=\"M743.598,-192.884C726.439,-180.896 707.12,-167.399 690.159,-155.549\"/>\n<polygon fill=\"black\" stroke=\"black\" points=\"691.731,-152.378 681.529,-149.52 687.722,-158.116 691.731,-152.378\"/>\n</g>\n<!-- 16 -->\n<g id=\"node17\" class=\"node\"><title>16</title>\n<polygon fill=\"#e58139\" fill-opacity=\"0.749020\" stroke=\"black\" points=\"858,-149.5 724,-149.5 724,-96.5 858,-96.5 858,-149.5\"/>\n<text text-anchor=\"middle\" x=\"791\" y=\"-134.3\" font-family=\"Times,serif\" font-size=\"14.00\">entropy = 0.722</text>\n<text text-anchor=\"middle\" x=\"791\" y=\"-119.3\" font-family=\"Times,serif\" font-size=\"14.00\">samples = 5</text>\n<text text-anchor=\"middle\" x=\"791\" y=\"-104.3\" font-family=\"Times,serif\" font-size=\"14.00\">value = [4, 1]</text>\n</g>\n<!-- 14&#45;&gt;16 -->\n<g id=\"edge16\" class=\"edge\"><title>14&#45;&gt;16</title>\n<path fill=\"none\" stroke=\"black\" d=\"M791,-192.884C791,-182.326 791,-170.597 791,-159.854\"/>\n<polygon fill=\"black\" stroke=\"black\" points=\"794.5,-159.52 791,-149.52 787.5,-159.52 794.5,-159.52\"/>\n</g>\n<!-- 18 -->\n<g id=\"node19\" class=\"node\"><title>18</title>\n<polygon fill=\"#e58139\" fill-opacity=\"0.827451\" stroke=\"black\" points=\"1010,-157 876,-157 876,-89 1010,-89 1010,-157\"/>\n<text text-anchor=\"middle\" x=\"943\" y=\"-141.8\" font-family=\"Times,serif\" font-size=\"14.00\">X[5] &lt;= 34.65</text>\n<text text-anchor=\"middle\" x=\"943\" y=\"-126.8\" font-family=\"Times,serif\" font-size=\"14.00\">entropy = 0.605</text>\n<text text-anchor=\"middle\" x=\"943\" y=\"-111.8\" font-family=\"Times,serif\" font-size=\"14.00\">samples = 27</text>\n<text text-anchor=\"middle\" x=\"943\" y=\"-96.8\" font-family=\"Times,serif\" font-size=\"14.00\">value = [23, 4]</text>\n</g>\n<!-- 17&#45;&gt;18 -->\n<g id=\"edge18\" class=\"edge\"><title>17&#45;&gt;18</title>\n<path fill=\"none\" stroke=\"black\" d=\"M943,-192.884C943,-184.778 943,-175.982 943,-167.472\"/>\n<polygon fill=\"black\" stroke=\"black\" points=\"946.5,-167.299 943,-157.299 939.5,-167.299 946.5,-167.299\"/>\n</g>\n<!-- 21 -->\n<g id=\"node22\" class=\"node\"><title>21</title>\n<polygon fill=\"#399de5\" fill-opacity=\"0.196078\" stroke=\"black\" points=\"1162,-157 1028,-157 1028,-89 1162,-89 1162,-157\"/>\n<text text-anchor=\"middle\" x=\"1095\" y=\"-141.8\" font-family=\"Times,serif\" font-size=\"14.00\">X[0] &lt;= 6.5</text>\n<text text-anchor=\"middle\" x=\"1095\" y=\"-126.8\" font-family=\"Times,serif\" font-size=\"14.00\">entropy = 0.992</text>\n<text text-anchor=\"middle\" x=\"1095\" y=\"-111.8\" font-family=\"Times,serif\" font-size=\"14.00\">samples = 83</text>\n<text text-anchor=\"middle\" x=\"1095\" y=\"-96.8\" font-family=\"Times,serif\" font-size=\"14.00\">value = [37, 46]</text>\n</g>\n<!-- 17&#45;&gt;21 -->\n<g id=\"edge21\" class=\"edge\"><title>17&#45;&gt;21</title>\n<path fill=\"none\" stroke=\"black\" d=\"M992.35,-192.884C1006.63,-183.304 1022.34,-172.761 1037.08,-162.864\"/>\n<polygon fill=\"black\" stroke=\"black\" points=\"1039.28,-165.603 1045.64,-157.125 1035.38,-159.791 1039.28,-165.603\"/>\n</g>\n<!-- 19 -->\n<g id=\"node20\" class=\"node\"><title>19</title>\n<polygon fill=\"#e58139\" stroke=\"black\" points=\"858,-53 736,-53 736,-0 858,-0 858,-53\"/>\n<text text-anchor=\"middle\" x=\"797\" y=\"-37.8\" font-family=\"Times,serif\" font-size=\"14.00\">entropy = 0.0</text>\n<text text-anchor=\"middle\" x=\"797\" y=\"-22.8\" font-family=\"Times,serif\" font-size=\"14.00\">samples = 18</text>\n<text text-anchor=\"middle\" x=\"797\" y=\"-7.8\" font-family=\"Times,serif\" font-size=\"14.00\">value = [18, 0]</text>\n</g>\n<!-- 18&#45;&gt;19 -->\n<g id=\"edge19\" class=\"edge\"><title>18&#45;&gt;19</title>\n<path fill=\"none\" stroke=\"black\" d=\"M891.936,-88.9485C876.814,-79.1601 860.306,-68.4756 845.36,-58.8015\"/>\n<polygon fill=\"black\" stroke=\"black\" points=\"847.059,-55.7322 836.763,-53.2367 843.256,-61.6087 847.059,-55.7322\"/>\n</g>\n<!-- 20 -->\n<g id=\"node21\" class=\"node\"><title>20</title>\n<polygon fill=\"#e58139\" fill-opacity=\"0.200000\" stroke=\"black\" points=\"1010,-53 876,-53 876,-0 1010,-0 1010,-53\"/>\n<text text-anchor=\"middle\" x=\"943\" y=\"-37.8\" font-family=\"Times,serif\" font-size=\"14.00\">entropy = 0.991</text>\n<text text-anchor=\"middle\" x=\"943\" y=\"-22.8\" font-family=\"Times,serif\" font-size=\"14.00\">samples = 9</text>\n<text text-anchor=\"middle\" x=\"943\" y=\"-7.8\" font-family=\"Times,serif\" font-size=\"14.00\">value = [5, 4]</text>\n</g>\n<!-- 18&#45;&gt;20 -->\n<g id=\"edge20\" class=\"edge\"><title>18&#45;&gt;20</title>\n<path fill=\"none\" stroke=\"black\" d=\"M943,-88.9485C943,-80.7153 943,-71.848 943,-63.4814\"/>\n<polygon fill=\"black\" stroke=\"black\" points=\"946.5,-63.2367 943,-53.2367 939.5,-63.2367 946.5,-63.2367\"/>\n</g>\n<!-- 22 -->\n<g id=\"node23\" class=\"node\"><title>22</title>\n<polygon fill=\"#e58139\" fill-opacity=\"0.231373\" stroke=\"black\" points=\"1162,-53 1028,-53 1028,-0 1162,-0 1162,-53\"/>\n<text text-anchor=\"middle\" x=\"1095\" y=\"-37.8\" font-family=\"Times,serif\" font-size=\"14.00\">entropy = 0.987</text>\n<text text-anchor=\"middle\" x=\"1095\" y=\"-22.8\" font-family=\"Times,serif\" font-size=\"14.00\">samples = 53</text>\n<text text-anchor=\"middle\" x=\"1095\" y=\"-7.8\" font-family=\"Times,serif\" font-size=\"14.00\">value = [30, 23]</text>\n</g>\n<!-- 21&#45;&gt;22 -->\n<g id=\"edge22\" class=\"edge\"><title>21&#45;&gt;22</title>\n<path fill=\"none\" stroke=\"black\" d=\"M1095,-88.9485C1095,-80.7153 1095,-71.848 1095,-63.4814\"/>\n<polygon fill=\"black\" stroke=\"black\" points=\"1098.5,-63.2367 1095,-53.2367 1091.5,-63.2367 1098.5,-63.2367\"/>\n</g>\n<!-- 23 -->\n<g id=\"node24\" class=\"node\"><title>23</title>\n<polygon fill=\"#399de5\" fill-opacity=\"0.694118\" stroke=\"black\" points=\"1314,-53 1180,-53 1180,-0 1314,-0 1314,-53\"/>\n<text text-anchor=\"middle\" x=\"1247\" y=\"-37.8\" font-family=\"Times,serif\" font-size=\"14.00\">entropy = 0.784</text>\n<text text-anchor=\"middle\" x=\"1247\" y=\"-22.8\" font-family=\"Times,serif\" font-size=\"14.00\">samples = 30</text>\n<text text-anchor=\"middle\" x=\"1247\" y=\"-7.8\" font-family=\"Times,serif\" font-size=\"14.00\">value = [7, 23]</text>\n</g>\n<!-- 21&#45;&gt;23 -->\n<g id=\"edge23\" class=\"edge\"><title>21&#45;&gt;23</title>\n<path fill=\"none\" stroke=\"black\" d=\"M1148.16,-88.9485C1164.05,-79.0686 1181.41,-68.2758 1197.09,-58.5305\"/>\n<polygon fill=\"black\" stroke=\"black\" points=\"1198.96,-61.489 1205.6,-53.2367 1195.26,-55.5443 1198.96,-61.489\"/>\n</g>\n<!-- 25 -->\n<g id=\"node26\" class=\"node\"><title>25</title>\n<polygon fill=\"#e58139\" fill-opacity=\"0.568627\" stroke=\"black\" points=\"1755,-365 1621,-365 1621,-297 1755,-297 1755,-365\"/>\n<text text-anchor=\"middle\" x=\"1688\" y=\"-349.8\" font-family=\"Times,serif\" font-size=\"14.00\">X[7] &lt;= 57.0</text>\n<text text-anchor=\"middle\" x=\"1688\" y=\"-334.8\" font-family=\"Times,serif\" font-size=\"14.00\">entropy = 0.884</text>\n<text text-anchor=\"middle\" x=\"1688\" y=\"-319.8\" font-family=\"Times,serif\" font-size=\"14.00\">samples = 53</text>\n<text text-anchor=\"middle\" x=\"1688\" y=\"-304.8\" font-family=\"Times,serif\" font-size=\"14.00\">value = [37, 16]</text>\n</g>\n<!-- 24&#45;&gt;25 -->\n<g id=\"edge25\" class=\"edge\"><title>24&#45;&gt;25</title>\n<path fill=\"none\" stroke=\"black\" d=\"M1688,-400.884C1688,-392.778 1688,-383.982 1688,-375.472\"/>\n<polygon fill=\"black\" stroke=\"black\" points=\"1691.5,-375.299 1688,-365.299 1684.5,-375.299 1691.5,-375.299\"/>\n</g>\n<!-- 34 -->\n<g id=\"node35\" class=\"node\"><title>34</title>\n<polygon fill=\"#399de5\" fill-opacity=\"0.690196\" stroke=\"black\" points=\"2279,-365 2139,-365 2139,-297 2279,-297 2279,-365\"/>\n<text text-anchor=\"middle\" x=\"2209\" y=\"-349.8\" font-family=\"Times,serif\" font-size=\"14.00\">X[1] &lt;= 165.5</text>\n<text text-anchor=\"middle\" x=\"2209\" y=\"-334.8\" font-family=\"Times,serif\" font-size=\"14.00\">entropy = 0.79</text>\n<text text-anchor=\"middle\" x=\"2209\" y=\"-319.8\" font-family=\"Times,serif\" font-size=\"14.00\">samples = 152</text>\n<text text-anchor=\"middle\" x=\"2209\" y=\"-304.8\" font-family=\"Times,serif\" font-size=\"14.00\">value = [36, 116]</text>\n</g>\n<!-- 24&#45;&gt;34 -->\n<g id=\"edge34\" class=\"edge\"><title>24&#45;&gt;34</title>\n<path fill=\"none\" stroke=\"black\" d=\"M1758.26,-420.244C1854.63,-401.377 2027.37,-367.56 2128.72,-347.717\"/>\n<polygon fill=\"black\" stroke=\"black\" points=\"2129.46,-351.138 2138.6,-345.782 2128.12,-344.269 2129.46,-351.138\"/>\n</g>\n<!-- 26 -->\n<g id=\"node27\" class=\"node\"><title>26</title>\n<polygon fill=\"#e58139\" fill-opacity=\"0.384314\" stroke=\"black\" points=\"1682,-261 1548,-261 1548,-193 1682,-193 1682,-261\"/>\n<text text-anchor=\"middle\" x=\"1615\" y=\"-245.8\" font-family=\"Times,serif\" font-size=\"14.00\">X[7] &lt;= 26.5</text>\n<text text-anchor=\"middle\" x=\"1615\" y=\"-230.8\" font-family=\"Times,serif\" font-size=\"14.00\">entropy = 0.959</text>\n<text text-anchor=\"middle\" x=\"1615\" y=\"-215.8\" font-family=\"Times,serif\" font-size=\"14.00\">samples = 42</text>\n<text text-anchor=\"middle\" x=\"1615\" y=\"-200.8\" font-family=\"Times,serif\" font-size=\"14.00\">value = [26, 16]</text>\n</g>\n<!-- 25&#45;&gt;26 -->\n<g id=\"edge26\" class=\"edge\"><title>25&#45;&gt;26</title>\n<path fill=\"none\" stroke=\"black\" d=\"M1664.3,-296.884C1658.05,-288.154 1651.23,-278.625 1644.71,-269.514\"/>\n<polygon fill=\"black\" stroke=\"black\" points=\"1647.5,-267.394 1638.83,-261.299 1641.81,-271.468 1647.5,-267.394\"/>\n</g>\n<!-- 33 -->\n<g id=\"node34\" class=\"node\"><title>33</title>\n<polygon fill=\"#e58139\" stroke=\"black\" points=\"1822,-253.5 1700,-253.5 1700,-200.5 1822,-200.5 1822,-253.5\"/>\n<text text-anchor=\"middle\" x=\"1761\" y=\"-238.3\" font-family=\"Times,serif\" font-size=\"14.00\">entropy = 0.0</text>\n<text text-anchor=\"middle\" x=\"1761\" y=\"-223.3\" font-family=\"Times,serif\" font-size=\"14.00\">samples = 11</text>\n<text text-anchor=\"middle\" x=\"1761\" y=\"-208.3\" font-family=\"Times,serif\" font-size=\"14.00\">value = [11, 0]</text>\n</g>\n<!-- 25&#45;&gt;33 -->\n<g id=\"edge33\" class=\"edge\"><title>25&#45;&gt;33</title>\n<path fill=\"none\" stroke=\"black\" d=\"M1711.7,-296.884C1719.73,-285.666 1728.7,-273.126 1736.77,-261.852\"/>\n<polygon fill=\"black\" stroke=\"black\" points=\"1739.76,-263.689 1742.74,-253.52 1734.07,-259.615 1739.76,-263.689\"/>\n</g>\n<!-- 27 -->\n<g id=\"node28\" class=\"node\"><title>27</title>\n<polygon fill=\"#e58139\" fill-opacity=\"0.929412\" stroke=\"black\" points=\"1606,-157 1472,-157 1472,-89 1606,-89 1606,-157\"/>\n<text text-anchor=\"middle\" x=\"1539\" y=\"-141.8\" font-family=\"Times,serif\" font-size=\"14.00\">X[5] &lt;= 26.05</text>\n<text text-anchor=\"middle\" x=\"1539\" y=\"-126.8\" font-family=\"Times,serif\" font-size=\"14.00\">entropy = 0.353</text>\n<text text-anchor=\"middle\" x=\"1539\" y=\"-111.8\" font-family=\"Times,serif\" font-size=\"14.00\">samples = 15</text>\n<text text-anchor=\"middle\" x=\"1539\" y=\"-96.8\" font-family=\"Times,serif\" font-size=\"14.00\">value = [14, 1]</text>\n</g>\n<!-- 26&#45;&gt;27 -->\n<g id=\"edge27\" class=\"edge\"><title>26&#45;&gt;27</title>\n<path fill=\"none\" stroke=\"black\" d=\"M1590.32,-192.884C1583.82,-184.154 1576.72,-174.625 1569.93,-165.514\"/>\n<polygon fill=\"black\" stroke=\"black\" points=\"1572.59,-163.227 1563.81,-157.299 1566.98,-167.409 1572.59,-163.227\"/>\n</g>\n<!-- 30 -->\n<g id=\"node31\" class=\"node\"><title>30</title>\n<polygon fill=\"#399de5\" fill-opacity=\"0.200000\" stroke=\"black\" points=\"1758,-157 1624,-157 1624,-89 1758,-89 1758,-157\"/>\n<text text-anchor=\"middle\" x=\"1691\" y=\"-141.8\" font-family=\"Times,serif\" font-size=\"14.00\">X[2] &lt;= 74.5</text>\n<text text-anchor=\"middle\" x=\"1691\" y=\"-126.8\" font-family=\"Times,serif\" font-size=\"14.00\">entropy = 0.991</text>\n<text text-anchor=\"middle\" x=\"1691\" y=\"-111.8\" font-family=\"Times,serif\" font-size=\"14.00\">samples = 27</text>\n<text text-anchor=\"middle\" x=\"1691\" y=\"-96.8\" font-family=\"Times,serif\" font-size=\"14.00\">value = [12, 15]</text>\n</g>\n<!-- 26&#45;&gt;30 -->\n<g id=\"edge30\" class=\"edge\"><title>26&#45;&gt;30</title>\n<path fill=\"none\" stroke=\"black\" d=\"M1639.68,-192.884C1646.18,-184.154 1653.28,-174.625 1660.07,-165.514\"/>\n<polygon fill=\"black\" stroke=\"black\" points=\"1663.02,-167.409 1666.19,-157.299 1657.41,-163.227 1663.02,-167.409\"/>\n</g>\n<!-- 28 -->\n<g id=\"node29\" class=\"node\"><title>28</title>\n<polygon fill=\"#e58139\" stroke=\"black\" points=\"1454,-53 1332,-53 1332,-0 1454,-0 1454,-53\"/>\n<text text-anchor=\"middle\" x=\"1393\" y=\"-37.8\" font-family=\"Times,serif\" font-size=\"14.00\">entropy = 0.0</text>\n<text text-anchor=\"middle\" x=\"1393\" y=\"-22.8\" font-family=\"Times,serif\" font-size=\"14.00\">samples = 10</text>\n<text text-anchor=\"middle\" x=\"1393\" y=\"-7.8\" font-family=\"Times,serif\" font-size=\"14.00\">value = [10, 0]</text>\n</g>\n<!-- 27&#45;&gt;28 -->\n<g id=\"edge28\" class=\"edge\"><title>27&#45;&gt;28</title>\n<path fill=\"none\" stroke=\"black\" d=\"M1487.94,-88.9485C1472.81,-79.1601 1456.31,-68.4756 1441.36,-58.8015\"/>\n<polygon fill=\"black\" stroke=\"black\" points=\"1443.06,-55.7322 1432.76,-53.2367 1439.26,-61.6087 1443.06,-55.7322\"/>\n</g>\n<!-- 29 -->\n<g id=\"node30\" class=\"node\"><title>29</title>\n<polygon fill=\"#e58139\" fill-opacity=\"0.749020\" stroke=\"black\" points=\"1606,-53 1472,-53 1472,-0 1606,-0 1606,-53\"/>\n<text text-anchor=\"middle\" x=\"1539\" y=\"-37.8\" font-family=\"Times,serif\" font-size=\"14.00\">entropy = 0.722</text>\n<text text-anchor=\"middle\" x=\"1539\" y=\"-22.8\" font-family=\"Times,serif\" font-size=\"14.00\">samples = 5</text>\n<text text-anchor=\"middle\" x=\"1539\" y=\"-7.8\" font-family=\"Times,serif\" font-size=\"14.00\">value = [4, 1]</text>\n</g>\n<!-- 27&#45;&gt;29 -->\n<g id=\"edge29\" class=\"edge\"><title>27&#45;&gt;29</title>\n<path fill=\"none\" stroke=\"black\" d=\"M1539,-88.9485C1539,-80.7153 1539,-71.848 1539,-63.4814\"/>\n<polygon fill=\"black\" stroke=\"black\" points=\"1542.5,-63.2367 1539,-53.2367 1535.5,-63.2367 1542.5,-63.2367\"/>\n</g>\n<!-- 31 -->\n<g id=\"node32\" class=\"node\"><title>31</title>\n<polygon fill=\"#399de5\" fill-opacity=\"0.694118\" stroke=\"black\" points=\"1758,-53 1624,-53 1624,-0 1758,-0 1758,-53\"/>\n<text text-anchor=\"middle\" x=\"1691\" y=\"-37.8\" font-family=\"Times,serif\" font-size=\"14.00\">entropy = 0.787</text>\n<text text-anchor=\"middle\" x=\"1691\" y=\"-22.8\" font-family=\"Times,serif\" font-size=\"14.00\">samples = 17</text>\n<text text-anchor=\"middle\" x=\"1691\" y=\"-7.8\" font-family=\"Times,serif\" font-size=\"14.00\">value = [4, 13]</text>\n</g>\n<!-- 30&#45;&gt;31 -->\n<g id=\"edge31\" class=\"edge\"><title>30&#45;&gt;31</title>\n<path fill=\"none\" stroke=\"black\" d=\"M1691,-88.9485C1691,-80.7153 1691,-71.848 1691,-63.4814\"/>\n<polygon fill=\"black\" stroke=\"black\" points=\"1694.5,-63.2367 1691,-53.2367 1687.5,-63.2367 1694.5,-63.2367\"/>\n</g>\n<!-- 32 -->\n<g id=\"node33\" class=\"node\"><title>32</title>\n<polygon fill=\"#e58139\" fill-opacity=\"0.749020\" stroke=\"black\" points=\"1910,-53 1776,-53 1776,-0 1910,-0 1910,-53\"/>\n<text text-anchor=\"middle\" x=\"1843\" y=\"-37.8\" font-family=\"Times,serif\" font-size=\"14.00\">entropy = 0.722</text>\n<text text-anchor=\"middle\" x=\"1843\" y=\"-22.8\" font-family=\"Times,serif\" font-size=\"14.00\">samples = 10</text>\n<text text-anchor=\"middle\" x=\"1843\" y=\"-7.8\" font-family=\"Times,serif\" font-size=\"14.00\">value = [8, 2]</text>\n</g>\n<!-- 30&#45;&gt;32 -->\n<g id=\"edge32\" class=\"edge\"><title>30&#45;&gt;32</title>\n<path fill=\"none\" stroke=\"black\" d=\"M1744.16,-88.9485C1760.05,-79.0686 1777.41,-68.2758 1793.09,-58.5305\"/>\n<polygon fill=\"black\" stroke=\"black\" points=\"1794.96,-61.489 1801.6,-53.2367 1791.26,-55.5443 1794.96,-61.489\"/>\n</g>\n<!-- 35 -->\n<g id=\"node36\" class=\"node\"><title>35</title>\n<polygon fill=\"#399de5\" fill-opacity=\"0.537255\" stroke=\"black\" points=\"2276,-261 2142,-261 2142,-193 2276,-193 2276,-261\"/>\n<text text-anchor=\"middle\" x=\"2209\" y=\"-245.8\" font-family=\"Times,serif\" font-size=\"14.00\">X[7] &lt;= 24.5</text>\n<text text-anchor=\"middle\" x=\"2209\" y=\"-230.8\" font-family=\"Times,serif\" font-size=\"14.00\">entropy = 0.901</text>\n<text text-anchor=\"middle\" x=\"2209\" y=\"-215.8\" font-family=\"Times,serif\" font-size=\"14.00\">samples = 101</text>\n<text text-anchor=\"middle\" x=\"2209\" y=\"-200.8\" font-family=\"Times,serif\" font-size=\"14.00\">value = [32, 69]</text>\n</g>\n<!-- 34&#45;&gt;35 -->\n<g id=\"edge35\" class=\"edge\"><title>34&#45;&gt;35</title>\n<path fill=\"none\" stroke=\"black\" d=\"M2209,-296.884C2209,-288.778 2209,-279.982 2209,-271.472\"/>\n<polygon fill=\"black\" stroke=\"black\" points=\"2212.5,-271.299 2209,-261.299 2205.5,-271.299 2212.5,-271.299\"/>\n</g>\n<!-- 42 -->\n<g id=\"node43\" class=\"node\"><title>42</title>\n<polygon fill=\"#399de5\" fill-opacity=\"0.913725\" stroke=\"black\" points=\"2634,-261 2500,-261 2500,-193 2634,-193 2634,-261\"/>\n<text text-anchor=\"middle\" x=\"2567\" y=\"-245.8\" font-family=\"Times,serif\" font-size=\"14.00\">X[6] &lt;= 1.157</text>\n<text text-anchor=\"middle\" x=\"2567\" y=\"-230.8\" font-family=\"Times,serif\" font-size=\"14.00\">entropy = 0.397</text>\n<text text-anchor=\"middle\" x=\"2567\" y=\"-215.8\" font-family=\"Times,serif\" font-size=\"14.00\">samples = 51</text>\n<text text-anchor=\"middle\" x=\"2567\" y=\"-200.8\" font-family=\"Times,serif\" font-size=\"14.00\">value = [4, 47]</text>\n</g>\n<!-- 34&#45;&gt;42 -->\n<g id=\"edge42\" class=\"edge\"><title>34&#45;&gt;42</title>\n<path fill=\"none\" stroke=\"black\" d=\"M2279.3,-309.97C2340,-292.677 2427.52,-267.74 2490.07,-249.918\"/>\n<polygon fill=\"black\" stroke=\"black\" points=\"2491.23,-253.228 2499.89,-247.121 2489.31,-246.495 2491.23,-253.228\"/>\n</g>\n<!-- 36 -->\n<g id=\"node37\" class=\"node\"><title>36</title>\n<polygon fill=\"#e58139\" fill-opacity=\"0.400000\" stroke=\"black\" points=\"2200,-157 2066,-157 2066,-89 2200,-89 2200,-157\"/>\n<text text-anchor=\"middle\" x=\"2133\" y=\"-141.8\" font-family=\"Times,serif\" font-size=\"14.00\">X[4] &lt;= 267.0</text>\n<text text-anchor=\"middle\" x=\"2133\" y=\"-126.8\" font-family=\"Times,serif\" font-size=\"14.00\">entropy = 0.954</text>\n<text text-anchor=\"middle\" x=\"2133\" y=\"-111.8\" font-family=\"Times,serif\" font-size=\"14.00\">samples = 16</text>\n<text text-anchor=\"middle\" x=\"2133\" y=\"-96.8\" font-family=\"Times,serif\" font-size=\"14.00\">value = [10, 6]</text>\n</g>\n<!-- 35&#45;&gt;36 -->\n<g id=\"edge36\" class=\"edge\"><title>35&#45;&gt;36</title>\n<path fill=\"none\" stroke=\"black\" d=\"M2184.32,-192.884C2177.82,-184.154 2170.72,-174.625 2163.93,-165.514\"/>\n<polygon fill=\"black\" stroke=\"black\" points=\"2166.59,-163.227 2157.81,-157.299 2160.98,-167.409 2166.59,-163.227\"/>\n</g>\n<!-- 39 -->\n<g id=\"node40\" class=\"node\"><title>39</title>\n<polygon fill=\"#399de5\" fill-opacity=\"0.650980\" stroke=\"black\" points=\"2352,-157 2218,-157 2218,-89 2352,-89 2352,-157\"/>\n<text text-anchor=\"middle\" x=\"2285\" y=\"-141.8\" font-family=\"Times,serif\" font-size=\"14.00\">X[2] &lt;= 91.0</text>\n<text text-anchor=\"middle\" x=\"2285\" y=\"-126.8\" font-family=\"Times,serif\" font-size=\"14.00\">entropy = 0.825</text>\n<text text-anchor=\"middle\" x=\"2285\" y=\"-111.8\" font-family=\"Times,serif\" font-size=\"14.00\">samples = 85</text>\n<text text-anchor=\"middle\" x=\"2285\" y=\"-96.8\" font-family=\"Times,serif\" font-size=\"14.00\">value = [22, 63]</text>\n</g>\n<!-- 35&#45;&gt;39 -->\n<g id=\"edge39\" class=\"edge\"><title>35&#45;&gt;39</title>\n<path fill=\"none\" stroke=\"black\" d=\"M2233.68,-192.884C2240.18,-184.154 2247.28,-174.625 2254.07,-165.514\"/>\n<polygon fill=\"black\" stroke=\"black\" points=\"2257.02,-167.409 2260.19,-157.299 2251.41,-163.227 2257.02,-167.409\"/>\n</g>\n<!-- 37 -->\n<g id=\"node38\" class=\"node\"><title>37</title>\n<polygon fill=\"#399de5\" fill-opacity=\"0.164706\" stroke=\"black\" points=\"2062,-53 1928,-53 1928,-0 2062,-0 2062,-53\"/>\n<text text-anchor=\"middle\" x=\"1995\" y=\"-37.8\" font-family=\"Times,serif\" font-size=\"14.00\">entropy = 0.994</text>\n<text text-anchor=\"middle\" x=\"1995\" y=\"-22.8\" font-family=\"Times,serif\" font-size=\"14.00\">samples = 11</text>\n<text text-anchor=\"middle\" x=\"1995\" y=\"-7.8\" font-family=\"Times,serif\" font-size=\"14.00\">value = [5, 6]</text>\n</g>\n<!-- 36&#45;&gt;37 -->\n<g id=\"edge37\" class=\"edge\"><title>36&#45;&gt;37</title>\n<path fill=\"none\" stroke=\"black\" d=\"M2084.73,-88.9485C2070.57,-79.2516 2055.13,-68.6752 2041.11,-59.073\"/>\n<polygon fill=\"black\" stroke=\"black\" points=\"2042.81,-55.999 2032.58,-53.2367 2038.86,-61.7746 2042.81,-55.999\"/>\n</g>\n<!-- 38 -->\n<g id=\"node39\" class=\"node\"><title>38</title>\n<polygon fill=\"#e58139\" stroke=\"black\" points=\"2196,-53 2080,-53 2080,-0 2196,-0 2196,-53\"/>\n<text text-anchor=\"middle\" x=\"2138\" y=\"-37.8\" font-family=\"Times,serif\" font-size=\"14.00\">entropy = 0.0</text>\n<text text-anchor=\"middle\" x=\"2138\" y=\"-22.8\" font-family=\"Times,serif\" font-size=\"14.00\">samples = 5</text>\n<text text-anchor=\"middle\" x=\"2138\" y=\"-7.8\" font-family=\"Times,serif\" font-size=\"14.00\">value = [5, 0]</text>\n</g>\n<!-- 36&#45;&gt;38 -->\n<g id=\"edge38\" class=\"edge\"><title>36&#45;&gt;38</title>\n<path fill=\"none\" stroke=\"black\" d=\"M2134.75,-88.9485C2135.18,-80.7153 2135.65,-71.848 2136.1,-63.4814\"/>\n<polygon fill=\"black\" stroke=\"black\" points=\"2139.6,-63.4077 2136.64,-53.2367 2132.61,-63.0378 2139.6,-63.4077\"/>\n</g>\n<!-- 40 -->\n<g id=\"node41\" class=\"node\"><title>40</title>\n<polygon fill=\"#399de5\" fill-opacity=\"0.592157\" stroke=\"black\" points=\"2348,-53 2214,-53 2214,-0 2348,-0 2348,-53\"/>\n<text text-anchor=\"middle\" x=\"2281\" y=\"-37.8\" font-family=\"Times,serif\" font-size=\"14.00\">entropy = 0.868</text>\n<text text-anchor=\"middle\" x=\"2281\" y=\"-22.8\" font-family=\"Times,serif\" font-size=\"14.00\">samples = 76</text>\n<text text-anchor=\"middle\" x=\"2281\" y=\"-7.8\" font-family=\"Times,serif\" font-size=\"14.00\">value = [22, 54]</text>\n</g>\n<!-- 39&#45;&gt;40 -->\n<g id=\"edge40\" class=\"edge\"><title>39&#45;&gt;40</title>\n<path fill=\"none\" stroke=\"black\" d=\"M2283.6,-88.9485C2283.25,-80.7153 2282.88,-71.848 2282.52,-63.4814\"/>\n<polygon fill=\"black\" stroke=\"black\" points=\"2286.01,-63.0797 2282.09,-53.2367 2279.02,-63.3758 2286.01,-63.0797\"/>\n</g>\n<!-- 41 -->\n<g id=\"node42\" class=\"node\"><title>41</title>\n<polygon fill=\"#399de5\" stroke=\"black\" points=\"2482,-53 2366,-53 2366,-0 2482,-0 2482,-53\"/>\n<text text-anchor=\"middle\" x=\"2424\" y=\"-37.8\" font-family=\"Times,serif\" font-size=\"14.00\">entropy = 0.0</text>\n<text text-anchor=\"middle\" x=\"2424\" y=\"-22.8\" font-family=\"Times,serif\" font-size=\"14.00\">samples = 9</text>\n<text text-anchor=\"middle\" x=\"2424\" y=\"-7.8\" font-family=\"Times,serif\" font-size=\"14.00\">value = [0, 9]</text>\n</g>\n<!-- 39&#45;&gt;41 -->\n<g id=\"edge41\" class=\"edge\"><title>39&#45;&gt;41</title>\n<path fill=\"none\" stroke=\"black\" d=\"M2333.62,-88.9485C2347.88,-79.2516 2363.44,-68.6752 2377.56,-59.073\"/>\n<polygon fill=\"black\" stroke=\"black\" points=\"2379.84,-61.7535 2386.14,-53.2367 2375.91,-55.9646 2379.84,-61.7535\"/>\n</g>\n<!-- 43 -->\n<g id=\"node44\" class=\"node\"><title>43</title>\n<polygon fill=\"#399de5\" fill-opacity=\"0.952941\" stroke=\"black\" points=\"2634,-157 2500,-157 2500,-89 2634,-89 2634,-157\"/>\n<text text-anchor=\"middle\" x=\"2567\" y=\"-141.8\" font-family=\"Times,serif\" font-size=\"14.00\">X[2] &lt;= 69.0</text>\n<text text-anchor=\"middle\" x=\"2567\" y=\"-126.8\" font-family=\"Times,serif\" font-size=\"14.00\">entropy = 0.258</text>\n<text text-anchor=\"middle\" x=\"2567\" y=\"-111.8\" font-family=\"Times,serif\" font-size=\"14.00\">samples = 46</text>\n<text text-anchor=\"middle\" x=\"2567\" y=\"-96.8\" font-family=\"Times,serif\" font-size=\"14.00\">value = [2, 44]</text>\n</g>\n<!-- 42&#45;&gt;43 -->\n<g id=\"edge43\" class=\"edge\"><title>42&#45;&gt;43</title>\n<path fill=\"none\" stroke=\"black\" d=\"M2567,-192.884C2567,-184.778 2567,-175.982 2567,-167.472\"/>\n<polygon fill=\"black\" stroke=\"black\" points=\"2570.5,-167.299 2567,-157.299 2563.5,-167.299 2570.5,-167.299\"/>\n</g>\n<!-- 46 -->\n<g id=\"node47\" class=\"node\"><title>46</title>\n<polygon fill=\"#399de5\" fill-opacity=\"0.333333\" stroke=\"black\" points=\"2786,-149.5 2652,-149.5 2652,-96.5 2786,-96.5 2786,-149.5\"/>\n<text text-anchor=\"middle\" x=\"2719\" y=\"-134.3\" font-family=\"Times,serif\" font-size=\"14.00\">entropy = 0.971</text>\n<text text-anchor=\"middle\" x=\"2719\" y=\"-119.3\" font-family=\"Times,serif\" font-size=\"14.00\">samples = 5</text>\n<text text-anchor=\"middle\" x=\"2719\" y=\"-104.3\" font-family=\"Times,serif\" font-size=\"14.00\">value = [2, 3]</text>\n</g>\n<!-- 42&#45;&gt;46 -->\n<g id=\"edge46\" class=\"edge\"><title>42&#45;&gt;46</title>\n<path fill=\"none\" stroke=\"black\" d=\"M2616.35,-192.884C2634.38,-180.786 2654.7,-167.151 2672.47,-155.224\"/>\n<polygon fill=\"black\" stroke=\"black\" points=\"2674.62,-157.998 2680.97,-149.52 2670.72,-152.186 2674.62,-157.998\"/>\n</g>\n<!-- 44 -->\n<g id=\"node45\" class=\"node\"><title>44</title>\n<polygon fill=\"#399de5\" fill-opacity=\"0.819608\" stroke=\"black\" points=\"2634,-53 2500,-53 2500,-0 2634,-0 2634,-53\"/>\n<text text-anchor=\"middle\" x=\"2567\" y=\"-37.8\" font-family=\"Times,serif\" font-size=\"14.00\">entropy = 0.619</text>\n<text text-anchor=\"middle\" x=\"2567\" y=\"-22.8\" font-family=\"Times,serif\" font-size=\"14.00\">samples = 13</text>\n<text text-anchor=\"middle\" x=\"2567\" y=\"-7.8\" font-family=\"Times,serif\" font-size=\"14.00\">value = [2, 11]</text>\n</g>\n<!-- 43&#45;&gt;44 -->\n<g id=\"edge44\" class=\"edge\"><title>43&#45;&gt;44</title>\n<path fill=\"none\" stroke=\"black\" d=\"M2567,-88.9485C2567,-80.7153 2567,-71.848 2567,-63.4814\"/>\n<polygon fill=\"black\" stroke=\"black\" points=\"2570.5,-63.2367 2567,-53.2367 2563.5,-63.2367 2570.5,-63.2367\"/>\n</g>\n<!-- 45 -->\n<g id=\"node46\" class=\"node\"><title>45</title>\n<polygon fill=\"#399de5\" stroke=\"black\" points=\"2774,-53 2652,-53 2652,-0 2774,-0 2774,-53\"/>\n<text text-anchor=\"middle\" x=\"2713\" y=\"-37.8\" font-family=\"Times,serif\" font-size=\"14.00\">entropy = 0.0</text>\n<text text-anchor=\"middle\" x=\"2713\" y=\"-22.8\" font-family=\"Times,serif\" font-size=\"14.00\">samples = 33</text>\n<text text-anchor=\"middle\" x=\"2713\" y=\"-7.8\" font-family=\"Times,serif\" font-size=\"14.00\">value = [0, 33]</text>\n</g>\n<!-- 43&#45;&gt;45 -->\n<g id=\"edge45\" class=\"edge\"><title>43&#45;&gt;45</title>\n<path fill=\"none\" stroke=\"black\" d=\"M2618.06,-88.9485C2633.19,-79.1601 2649.69,-68.4756 2664.64,-58.8015\"/>\n<polygon fill=\"black\" stroke=\"black\" points=\"2666.74,-61.6087 2673.24,-53.2367 2662.94,-55.7322 2666.74,-61.6087\"/>\n</g>\n</g>\n</svg>\n"
          },
          "metadata": {
            "tags": []
          },
          "execution_count": 20
        }
      ]
    },
    {
      "metadata": {
        "id": "4iz4meWDVmo2",
        "colab_type": "text"
      },
      "cell_type": "markdown",
      "source": [
        "#### Copy and paste the above graph into webgraphviz.com to see a picture representation of the graph<br>\n",
        "#### Use the graph to answer the questions below"
      ]
    },
    {
      "metadata": {
        "id": "K5b6COUwWTtT",
        "colab_type": "text"
      },
      "cell_type": "markdown",
      "source": [
        "Question 1: If you add up the samples from the leaf nodes, how many samples are there?"
      ]
    },
    {
      "metadata": {
        "id": "B17z-Gw5WUCW",
        "colab_type": "text"
      },
      "cell_type": "markdown",
      "source": [
        "Your answer here <br>\n",
        "The number of samples in X or y train"
      ]
    },
    {
      "metadata": {
        "id": "u1yM9h10WUEv",
        "colab_type": "text"
      },
      "cell_type": "markdown",
      "source": [
        "Question 2: What do you think X[n] represents in the nodes from the graph? <br>\n",
        "If you are stuck talk to people around you or ask the teachers"
      ]
    },
    {
      "metadata": {
        "id": "BXHWUVxtWUGo",
        "colab_type": "text"
      },
      "cell_type": "markdown",
      "source": [
        "Your answer here <br>\n",
        "The feature number"
      ]
    },
    {
      "metadata": {
        "id": "rA7B0oTaWUIe",
        "colab_type": "text"
      },
      "cell_type": "markdown",
      "source": [
        "Question 3: What is the root feature? Does it make sense as the root feature?"
      ]
    },
    {
      "metadata": {
        "id": "fp1rz6bqWUKw",
        "colab_type": "text"
      },
      "cell_type": "markdown",
      "source": [
        "Your answer here <br>\n",
        "For me it is plas (from pandas this is the one with the highest correlation)"
      ]
    },
    {
      "metadata": {
        "id": "1t559pS3ZHES",
        "colab_type": "text"
      },
      "cell_type": "markdown",
      "source": [
        "#### If you were to change the parameters to have a max_depth of 500 and min_samples_leaf of 1, what do you think the effect would be on the test accuracy? Training accuracy?"
      ]
    },
    {
      "metadata": {
        "id": "mX6-ukjxakVD",
        "colab_type": "text"
      },
      "cell_type": "markdown",
      "source": [
        "Your answer here <br>\n",
        "It should overfit, so the test accruacy should go down and the training accuracy should increase"
      ]
    },
    {
      "metadata": {
        "id": "7dnlqId2bIcR",
        "colab_type": "text"
      },
      "cell_type": "markdown",
      "source": [
        "#### Test your guesses, create a model with max_depth=500 and min_samples_leaf=1, and predict values for the training and test data <br>\n",
        "you only need to predict part of the training data"
      ]
    },
    {
      "metadata": {
        "id": "hnUQKX9vl9Gy",
        "colab_type": "code",
        "colab": {
          "autoexec": {
            "startup": false,
            "wait_interval": 0
          },
          "base_uri": "https://localhost:8080/",
          "height": 50
        },
        "outputId": "5f8cf238-f169-40c7-fa3f-16b4f2442036",
        "executionInfo": {
          "status": "ok",
          "timestamp": 1530627563080,
          "user_tz": 240,
          "elapsed": 383,
          "user": {
            "displayName": "john passarelli",
            "photoUrl": "https://lh3.googleusercontent.com/a/default-user=s128",
            "userId": "102241934905781120798"
          }
        }
      },
      "cell_type": "code",
      "source": [
        "# your code here\n",
        "decision_model = DecisionTreeClassifier(criterion = \"gini\", random_state = None,\n",
        "                               max_depth=500, min_samples_leaf=1)  # minimum sample leafs is the minimum sample amount the leaf can have\n",
        "decision_model.fit(X_train, y_train)\n",
        "\n",
        "y_pred = decision_model.predict(X_train)\n",
        "print(\"Train accuracy is \", accuracy_score(y_train[:len(y_pred)],y_pred)*100)\n",
        "\n",
        "y_pred = decision_model.predict(X_test)\n",
        "print(\"Test accuracy is \", accuracy_score(y_test,y_pred)*100)"
      ],
      "execution_count": 11,
      "outputs": [
        {
          "output_type": "stream",
          "text": [
            "Train accuracy is  100.0\n",
            "Test accuracy is  69.26406926406926\n"
          ],
          "name": "stdout"
        }
      ]
    },
    {
      "metadata": {
        "id": "40Psyt65pD8p",
        "colab_type": "text"
      },
      "cell_type": "markdown",
      "source": [
        "# Random Forest"
      ]
    },
    {
      "metadata": {
        "id": "mjLu1MLIpGNF",
        "colab_type": "text"
      },
      "cell_type": "markdown",
      "source": [
        "#### Create a model with sklearn's RandomForestClassifier and predict values on your test set"
      ]
    },
    {
      "metadata": {
        "id": "TYwbpWxUfDIY",
        "colab_type": "code",
        "colab": {
          "autoexec": {
            "startup": false,
            "wait_interval": 0
          },
          "base_uri": "https://localhost:8080/",
          "height": 37
        },
        "outputId": "fe953d7e-dd34-406a-ccee-46dac5fb9a34",
        "executionInfo": {
          "status": "ok",
          "timestamp": 1530627574671,
          "user_tz": 240,
          "elapsed": 426,
          "user": {
            "displayName": "john passarelli",
            "photoUrl": "https://lh3.googleusercontent.com/a/default-user=s128",
            "userId": "102241934905781120798"
          }
        }
      },
      "cell_type": "code",
      "source": [
        "# your code here \n",
        "random_forest = RandomForestClassifier(n_estimators=100)\n",
        "random_forest.fit(X_train, y_train)\n",
        "preds = random_forest.predict(X_test)"
      ],
      "execution_count": 12,
      "outputs": []
    },
    {
      "metadata": {
        "id": "6Ys_J3O4pd0u",
        "colab_type": "text"
      },
      "cell_type": "markdown",
      "source": [
        "#### Print the accuracy on the test data, play with the parameters and try to improve the accuracy<br>\n",
        "how did the accuracy compare to the decision tree's accuracy?<br>"
      ]
    },
    {
      "metadata": {
        "id": "aQdfjEWdfDOH",
        "colab_type": "code",
        "colab": {
          "autoexec": {
            "startup": false,
            "wait_interval": 0
          },
          "base_uri": "https://localhost:8080/",
          "height": 34
        },
        "outputId": "72e5a949-d5d1-44f5-adc6-3f0760c407f0",
        "executionInfo": {
          "status": "ok",
          "timestamp": 1530627586119,
          "user_tz": 240,
          "elapsed": 331,
          "user": {
            "displayName": "john passarelli",
            "photoUrl": "https://lh3.googleusercontent.com/a/default-user=s128",
            "userId": "102241934905781120798"
          }
        }
      },
      "cell_type": "code",
      "source": [
        "# your code here\n",
        "print(\"Test accuracy is \", accuracy_score(y_test,preds)*100)"
      ],
      "execution_count": 13,
      "outputs": [
        {
          "output_type": "stream",
          "text": [
            "Test accuracy is  76.19047619047619\n"
          ],
          "name": "stdout"
        }
      ]
    },
    {
      "metadata": {
        "id": "jGlSHxuUqAnX",
        "colab_type": "text"
      },
      "cell_type": "markdown",
      "source": [
        "#### Print the 3 most important features<br>\n",
        "hint: sklearn has an attribute to help you find these "
      ]
    },
    {
      "metadata": {
        "id": "5rVekWn0qw3r",
        "colab_type": "code",
        "colab": {
          "autoexec": {
            "startup": false,
            "wait_interval": 0
          },
          "base_uri": "https://localhost:8080/",
          "height": 67
        },
        "outputId": "58a0fd10-1f05-4b19-a336-395c7b7168c0",
        "executionInfo": {
          "status": "ok",
          "timestamp": 1530627593717,
          "user_tz": 240,
          "elapsed": 272,
          "user": {
            "displayName": "john passarelli",
            "photoUrl": "https://lh3.googleusercontent.com/a/default-user=s128",
            "userId": "102241934905781120798"
          }
        }
      },
      "cell_type": "code",
      "source": [
        "# your code here\n",
        "sorted_features = random_forest.feature_importances_.argsort()\n",
        "print(\"feature 1 \", names[sorted_features[-1]])\n",
        "print(\"feature 2 \", names[sorted_features[-2]])\n",
        "print(\"feature 3 \", names[sorted_features[-3]])"
      ],
      "execution_count": 14,
      "outputs": [
        {
          "output_type": "stream",
          "text": [
            "feature 1  plas\n",
            "feature 2  mass\n",
            "feature 3  age\n"
          ],
          "name": "stdout"
        }
      ]
    },
    {
      "metadata": {
        "id": "lynu8pLDtd0S",
        "colab_type": "text"
      },
      "cell_type": "markdown",
      "source": [
        "#### Find the accuracy for random forests with 1 to 100 trees, counting by 5. Plot these accuracies"
      ]
    },
    {
      "metadata": {
        "id": "e2hG7npcuM7f",
        "colab_type": "code",
        "colab": {
          "autoexec": {
            "startup": false,
            "wait_interval": 0
          },
          "base_uri": "https://localhost:8080/",
          "height": 364
        },
        "outputId": "5c070f98-db8d-447a-e6b2-075e212caf84",
        "executionInfo": {
          "status": "ok",
          "timestamp": 1530627604672,
          "user_tz": 240,
          "elapsed": 1891,
          "user": {
            "displayName": "john passarelli",
            "photoUrl": "https://lh3.googleusercontent.com/a/default-user=s128",
            "userId": "102241934905781120798"
          }
        }
      },
      "cell_type": "code",
      "source": [
        "#your code here\n",
        "accuracies = []\n",
        "for i in range(1,100,5):\n",
        "  random_forest = RandomForestClassifier(n_estimators=i)\n",
        "  random_forest.fit(X_train, y_train)\n",
        "  preds = random_forest.predict(X_test)\n",
        "  temp_acc = accuracy_score(y_test,preds)*100\n",
        "  accuracies.append(temp_acc)\n",
        "plt.plot(accuracies)"
      ],
      "execution_count": 16,
      "outputs": [
        {
          "output_type": "execute_result",
          "data": {
            "text/plain": [
              "[<matplotlib.lines.Line2D at 0x7fdd837399e8>]"
            ]
          },
          "metadata": {
            "tags": []
          },
          "execution_count": 16
        },
        {
          "output_type": "display_data",
          "data": {
            "image/png": "[encoded data removed]",
            "text/plain": [
              "<matplotlib.figure.Figure at 0x7fdd85847c88>"
            ]
          },
          "metadata": {
            "tags": []
          }
        }
      ]
    },
    {
      "metadata": {
        "id": "ZjaVPWZqVP6l",
        "colab_type": "text"
      },
      "cell_type": "markdown",
      "source": [
        "#### Plot the roc_curve using predict_proba a function for our random forest model, and metrics. roc_curve <br>\n",
        "It might help to google these functions and look at sklearn's documentation"
      ]
    },
    {
      "metadata": {
        "id": "REk_yvdTfDa3",
        "colab_type": "code",
        "colab": {
          "autoexec": {
            "startup": false,
            "wait_interval": 0
          },
          "base_uri": "https://localhost:8080/",
          "height": 376
        },
        "outputId": "57e2dd76-ea35-44a7-cbf4-a2f8511b24d3",
        "executionInfo": {
          "status": "ok",
          "timestamp": 1530627615276,
          "user_tz": 240,
          "elapsed": 539,
          "user": {
            "displayName": "john passarelli",
            "photoUrl": "https://lh3.googleusercontent.com/a/default-user=s128",
            "userId": "102241934905781120798"
          }
        }
      },
      "cell_type": "code",
      "source": [
        "probs = random_forest.predict_proba(X_test)\n",
        "scores = []\n",
        "for prob in probs:\n",
        "  prob_min = prob.argmin()  # take min b/c its relative to 0\n",
        "  prob_score = prob[prob_min]\n",
        "  \n",
        "  scores.append(prob_score)\n",
        " \n",
        "fpr, tpr, thresh = metrics.roc_curve(y_test,scores)\n",
        "\n",
        "# plot results\n",
        "plt.plot(fpr, tpr, label='RF')\n",
        "plt.xlabel('False Positive Rate')\n",
        "plt.ylabel('True Positive Rate')\n",
        "plt.title('Random Forest ')\n",
        "plt.plot([0, 1], [0, 1], '--', color=(0.6, 0.6, 0.6), label='Chance')\n",
        "plt.grid()\n",
        "plt.legend()\n",
        "plt.show()\n"
      ],
      "execution_count": 17,
      "outputs": [
        {
          "output_type": "display_data",
          "data": {
            "image/png": "[encoded data removed]",
            "text/plain": [
              "<matplotlib.figure.Figure at 0x7fdd83746208>"
            ]
          },
          "metadata": {
            "tags": []
          }
        }
      ]
    },
    {
      "metadata": {
        "id": "YAml_sdbYqIm",
        "colab_type": "text"
      },
      "cell_type": "markdown",
      "source": [
        "#### To view the trees in the random_forest you can loop through your model's '.estimators_\" attribute <br>\n",
        "If you have time look at pictures of the trees"
      ]
    },
    {
      "metadata": {
        "id": "k5pacJabuKXx",
        "colab_type": "code",
        "colab": {
          "autoexec": {
            "startup": false,
            "wait_interval": 0
          },
          "base_uri": "https://localhost:8080/",
          "height": 37
        },
        "outputId": "855f4047-bbba-4f9b-bae0-bbe8fb628481",
        "executionInfo": {
          "status": "ok",
          "timestamp": 1530627634823,
          "user_tz": 240,
          "elapsed": 294,
          "user": {
            "displayName": "john passarelli",
            "photoUrl": "https://lh3.googleusercontent.com/a/default-user=s128",
            "userId": "102241934905781120798"
          }
        }
      },
      "cell_type": "code",
      "source": [
        "for tr in random_forest.estimators_: \n",
        "  break"
      ],
      "execution_count": 18,
      "outputs": []
    },
    {
      "metadata": {
        "id": "wlbU3o3Sdzl5",
        "colab_type": "text"
      },
      "cell_type": "markdown",
      "source": [
        "#####  one thing to notice is the trees probably have greater depth (and smaller samples at the leafs) because they want to overfit and then average"
      ]
    },
    {
      "metadata": {
        "id": "C85MAoHWfDrW",
        "colab_type": "code",
        "colab": {
          "autoexec": {
            "startup": false,
            "wait_interval": 0
          },
          "base_uri": "https://localhost:8080/",
          "height": 214
        },
        "outputId": "2fadff31-cd34-42d0-b857-860a39554acd",
        "executionInfo": {
          "status": "error",
          "timestamp": 1531314617941,
          "user_tz": 240,
          "elapsed": 633,
          "user": {
            "displayName": "john passarelli",
            "photoUrl": "https://lh3.googleusercontent.com/a/default-user=s128",
            "userId": "102241934905781120798"
          }
        }
      },
      "cell_type": "code",
      "source": [
        "\n",
        "dot_data = tree.export_graphviz(tr, out_file=None)  \n",
        "graph = graphviz.Source(dot_data)\n",
        "graph"
      ],
      "execution_count": 21,
      "outputs": [
        {
          "output_type": "error",
          "ename": "NameError",
          "evalue": "ignored",
          "traceback": [
            "\u001b[0;31m---------------------------------------------------------------------------\u001b[0m",
            "\u001b[0;31mNameError\u001b[0m                                 Traceback (most recent call last)",
            "\u001b[0;32m<ipython-input-21-2e8712b6c76c>\u001b[0m in \u001b[0;36m<module>\u001b[0;34m()\u001b[0m\n\u001b[1;32m      1\u001b[0m \u001b[0;34m\u001b[0m\u001b[0m\n\u001b[0;32m----> 2\u001b[0;31m \u001b[0mdot_data\u001b[0m \u001b[0;34m=\u001b[0m \u001b[0mtree\u001b[0m\u001b[0;34m.\u001b[0m\u001b[0mexport_graphviz\u001b[0m\u001b[0;34m(\u001b[0m\u001b[0mtr\u001b[0m\u001b[0;34m,\u001b[0m \u001b[0mout_file\u001b[0m\u001b[0;34m=\u001b[0m\u001b[0;32mNone\u001b[0m\u001b[0;34m)\u001b[0m\u001b[0;34m\u001b[0m\u001b[0m\n\u001b[0m\u001b[1;32m      3\u001b[0m \u001b[0mgraph\u001b[0m \u001b[0;34m=\u001b[0m \u001b[0mgraphviz\u001b[0m\u001b[0;34m.\u001b[0m\u001b[0mSource\u001b[0m\u001b[0;34m(\u001b[0m\u001b[0mdot_data\u001b[0m\u001b[0;34m)\u001b[0m\u001b[0;34m\u001b[0m\u001b[0m\n\u001b[1;32m      4\u001b[0m \u001b[0mgraph\u001b[0m\u001b[0;34m\u001b[0m\u001b[0m\n",
            "\u001b[0;31mNameError\u001b[0m: name 'tr' is not defined"
          ]
        }
      ]
    },
    {
      "metadata": {
        "id": "8ceiy7KWdrpR",
        "colab_type": "code",
        "colab": {
          "autoexec": {
            "startup": false,
            "wait_interval": 0
          }
        }
      },
      "cell_type": "code",
      "source": [
        ""
      ],
      "execution_count": 0,
      "outputs": []
    }
  ]
}