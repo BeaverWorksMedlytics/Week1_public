{
  "nbformat": 4,
  "nbformat_minor": 0,
  "metadata": {
    "colab": {
      "name": "Propensity_Score_Matching.ipynb",
      "version": "0.3.2",
      "views": {},
      "default_view": {},
      "provenance": [],
      "collapsed_sections": []
    },
    "kernelspec": {
      "name": "python3",
      "display_name": "Python 3"
    }
  },
  "cells": [
    {
      "metadata": {
        "id": "AehmTypmGhPa",
        "colab_type": "text"
      },
      "cell_type": "markdown",
      "source": [
        "# Propensity Score Matching (PSM)\n",
        "\n",
        "In many medical studies attempting to find out if a particular treatment (tx) had an effect or not, it is not possible to randomly assign subjects into control and experimental groups. This is because generally these studies look at observational data (data over which the experimenter has no control). Properly controlled experimental data can sometimes be difficult to come by because randomly assigning subjects to control and experimental conditions is often unfeasable and/or unethical. \n",
        "\n",
        "This leaves us with observational data that is often biased. The group that receives the tx may tend to be younger, sicker, at an earlier or later stage in the disease, etc. In short, apparent differences in outcome between two groups may depend on characteristics that affected whether or not subjects in one group received a given tx instead of due to the effect of the tx per se. PSM attempts to reduce this bias by making the treated and control groups more comparable by matching subjects that are similar (or have a similar propensity for receiving tx) in each group. To do this matching, we can use the k-Nearest Neighbors Algorithm (k-NNA).\n",
        "\n",
        "We will perform PSM on a depression tx dataset from a NIH study made publically available by UFHealth Biostatistics Open Learning Textbook (http://bolt.mph.ufl.edu/2012/08/02/learn-by-doing-exploring-a-dataset/). ***This dataset has been artificially biased for the purposes of this notebook, the original data has been altered.*** Once we unbias the data using PSM, the original result will be consistent with the results of the same analysis of the original data, but the actualy data will be slightly different. \n",
        "\n",
        "Recurrence will be the outcome of interest. Run the two cells below to view the data."
      ]
    },
    {
      "metadata": {
        "id": "MOdVzC6HGj1S",
        "colab_type": "code",
        "colab": {
          "autoexec": {
            "startup": false,
            "wait_interval": 0
          }
        }
      },
      "cell_type": "code",
      "source": [
        "import numpy as np\n",
        "import pandas as pd\n",
        "from sklearn.neighbors import NearestNeighbors\n",
        "from sklearn.preprocessing import normalize\n",
        "import scipy.stats\n",
        "from urllib.request import urlopen\n",
        "import csv\n"
      ],
      "execution_count": 0,
      "outputs": []
    },
    {
      "metadata": {
        "id": "f1QQ7jOcGkyK",
        "colab_type": "code",
        "colab": {
          "autoexec": {
            "startup": false,
            "wait_interval": 0
          },
          "base_uri": "https://localhost:8080/",
          "height": 1969
        },
        "outputId": "283989a0-e44a-4245-aa62-82aad58b7aee",
        "executionInfo": {
          "status": "ok",
          "timestamp": 1530797434830,
          "user_tz": 240,
          "elapsed": 251,
          "user": {
            "displayName": "Tom Possidente",
            "photoUrl": "https://lh3.googleusercontent.com/a/default-user=s128",
            "userId": "108366259117106511265"
          }
        }
      },
      "cell_type": "code",
      "source": [
        "# Data import and preprocessing\n",
        "\n",
        "data = pd.read_csv('https://raw.githubusercontent.com/BeaverWorksMedlytics/Week1/master/Propensity%20Score%20Matching/Depression_data.csv?token=AUWnXLDt9jqfFK7n2RzUaAijCl-yOMVjks5bR3L4wA%3D%3D')\n",
        "data = data.drop('Unnamed: 0', axis = 1)\n",
        "# Hospt: which hospital patient was at\n",
        "# Treat: tx recieved\n",
        "# Outcome: Whether or not recurrence occured during tx\n",
        "# Time: Days untill recurrence, or if no recurrence, days until observation ended # Will not be using\n",
        "# AcuteT: Days patient was depressed prior to observation\n",
        "# Age: age in years\n",
        "# Gender: 1 = Female, 2 = Male\n",
        "data"
      ],
      "execution_count": 58,
      "outputs": [
        {
          "output_type": "execute_result",
          "data": {
            "text/html": [
              "<div>\n",
              "<style scoped>\n",
              "    .dataframe tbody tr th:only-of-type {\n",
              "        vertical-align: middle;\n",
              "    }\n",
              "\n",
              "    .dataframe tbody tr th {\n",
              "        vertical-align: top;\n",
              "    }\n",
              "\n",
              "    .dataframe thead th {\n",
              "        text-align: right;\n",
              "    }\n",
              "</style>\n",
              "<table border=\"1\" class=\"dataframe\">\n",
              "  <thead>\n",
              "    <tr style=\"text-align: right;\">\n",
              "      <th></th>\n",
              "      <th>Hospt</th>\n",
              "      <th>Treat</th>\n",
              "      <th>Outcome</th>\n",
              "      <th>AcuteT</th>\n",
              "      <th>Age</th>\n",
              "      <th>Gender</th>\n",
              "    </tr>\n",
              "  </thead>\n",
              "  <tbody>\n",
              "    <tr>\n",
              "      <th>0</th>\n",
              "      <td>1</td>\n",
              "      <td>Lithium</td>\n",
              "      <td>Recurrence</td>\n",
              "      <td>211</td>\n",
              "      <td>33</td>\n",
              "      <td>1</td>\n",
              "    </tr>\n",
              "    <tr>\n",
              "      <th>1</th>\n",
              "      <td>1</td>\n",
              "      <td>Imipramine</td>\n",
              "      <td>No Recurrence</td>\n",
              "      <td>176</td>\n",
              "      <td>49</td>\n",
              "      <td>1</td>\n",
              "    </tr>\n",
              "    <tr>\n",
              "      <th>2</th>\n",
              "      <td>1</td>\n",
              "      <td>Imipramine</td>\n",
              "      <td>No Recurrence</td>\n",
              "      <td>191</td>\n",
              "      <td>50</td>\n",
              "      <td>1</td>\n",
              "    </tr>\n",
              "    <tr>\n",
              "      <th>3</th>\n",
              "      <td>1</td>\n",
              "      <td>Lithium</td>\n",
              "      <td>Recurrence</td>\n",
              "      <td>206</td>\n",
              "      <td>29</td>\n",
              "      <td>2</td>\n",
              "    </tr>\n",
              "    <tr>\n",
              "      <th>4</th>\n",
              "      <td>1</td>\n",
              "      <td>Placebo</td>\n",
              "      <td>No Recurrence</td>\n",
              "      <td>63</td>\n",
              "      <td>29</td>\n",
              "      <td>1</td>\n",
              "    </tr>\n",
              "    <tr>\n",
              "      <th>5</th>\n",
              "      <td>1</td>\n",
              "      <td>Placebo</td>\n",
              "      <td>Recurrence</td>\n",
              "      <td>70</td>\n",
              "      <td>30</td>\n",
              "      <td>2</td>\n",
              "    </tr>\n",
              "    <tr>\n",
              "      <th>6</th>\n",
              "      <td>1</td>\n",
              "      <td>Placebo</td>\n",
              "      <td>No Recurrence</td>\n",
              "      <td>55</td>\n",
              "      <td>56</td>\n",
              "      <td>1</td>\n",
              "    </tr>\n",
              "    <tr>\n",
              "      <th>7</th>\n",
              "      <td>1</td>\n",
              "      <td>Placebo</td>\n",
              "      <td>Recurrence</td>\n",
              "      <td>512</td>\n",
              "      <td>48</td>\n",
              "      <td>1</td>\n",
              "    </tr>\n",
              "    <tr>\n",
              "      <th>8</th>\n",
              "      <td>1</td>\n",
              "      <td>Placebo</td>\n",
              "      <td>No Recurrence</td>\n",
              "      <td>162</td>\n",
              "      <td>22</td>\n",
              "      <td>2</td>\n",
              "    </tr>\n",
              "    <tr>\n",
              "      <th>9</th>\n",
              "      <td>1</td>\n",
              "      <td>Placebo</td>\n",
              "      <td>Recurrence</td>\n",
              "      <td>306</td>\n",
              "      <td>61</td>\n",
              "      <td>2</td>\n",
              "    </tr>\n",
              "    <tr>\n",
              "      <th>10</th>\n",
              "      <td>1</td>\n",
              "      <td>Imipramine</td>\n",
              "      <td>No Recurrence</td>\n",
              "      <td>165</td>\n",
              "      <td>58</td>\n",
              "      <td>1</td>\n",
              "    </tr>\n",
              "    <tr>\n",
              "      <th>11</th>\n",
              "      <td>1</td>\n",
              "      <td>Imipramine</td>\n",
              "      <td>No Recurrence</td>\n",
              "      <td>129</td>\n",
              "      <td>31</td>\n",
              "      <td>1</td>\n",
              "    </tr>\n",
              "    <tr>\n",
              "      <th>12</th>\n",
              "      <td>1</td>\n",
              "      <td>Imipramine</td>\n",
              "      <td>No Recurrence</td>\n",
              "      <td>428</td>\n",
              "      <td>44</td>\n",
              "      <td>1</td>\n",
              "    </tr>\n",
              "    <tr>\n",
              "      <th>13</th>\n",
              "      <td>1</td>\n",
              "      <td>Imipramine</td>\n",
              "      <td>Recurrence</td>\n",
              "      <td>256</td>\n",
              "      <td>55</td>\n",
              "      <td>2</td>\n",
              "    </tr>\n",
              "    <tr>\n",
              "      <th>14</th>\n",
              "      <td>1</td>\n",
              "      <td>Lithium</td>\n",
              "      <td>No Recurrence</td>\n",
              "      <td>197</td>\n",
              "      <td>57</td>\n",
              "      <td>2</td>\n",
              "    </tr>\n",
              "    <tr>\n",
              "      <th>15</th>\n",
              "      <td>1</td>\n",
              "      <td>Lithium</td>\n",
              "      <td>Recurrence</td>\n",
              "      <td>227</td>\n",
              "      <td>46</td>\n",
              "      <td>1</td>\n",
              "    </tr>\n",
              "    <tr>\n",
              "      <th>16</th>\n",
              "      <td>1</td>\n",
              "      <td>Imipramine</td>\n",
              "      <td>No Recurrence</td>\n",
              "      <td>168</td>\n",
              "      <td>58</td>\n",
              "      <td>1</td>\n",
              "    </tr>\n",
              "    <tr>\n",
              "      <th>17</th>\n",
              "      <td>1</td>\n",
              "      <td>Lithium</td>\n",
              "      <td>No Recurrence</td>\n",
              "      <td>194</td>\n",
              "      <td>57</td>\n",
              "      <td>1</td>\n",
              "    </tr>\n",
              "    <tr>\n",
              "      <th>18</th>\n",
              "      <td>2</td>\n",
              "      <td>Lithium</td>\n",
              "      <td>Recurrence</td>\n",
              "      <td>173</td>\n",
              "      <td>54</td>\n",
              "      <td>1</td>\n",
              "    </tr>\n",
              "    <tr>\n",
              "      <th>19</th>\n",
              "      <td>2</td>\n",
              "      <td>Placebo</td>\n",
              "      <td>No Recurrence</td>\n",
              "      <td>48</td>\n",
              "      <td>23</td>\n",
              "      <td>1</td>\n",
              "    </tr>\n",
              "    <tr>\n",
              "      <th>20</th>\n",
              "      <td>2</td>\n",
              "      <td>Placebo</td>\n",
              "      <td>No Recurrence</td>\n",
              "      <td>47</td>\n",
              "      <td>65</td>\n",
              "      <td>1</td>\n",
              "    </tr>\n",
              "    <tr>\n",
              "      <th>21</th>\n",
              "      <td>2</td>\n",
              "      <td>Imipramine</td>\n",
              "      <td>Recurrence</td>\n",
              "      <td>95</td>\n",
              "      <td>27</td>\n",
              "      <td>1</td>\n",
              "    </tr>\n",
              "    <tr>\n",
              "      <th>22</th>\n",
              "      <td>2</td>\n",
              "      <td>Lithium</td>\n",
              "      <td>Recurrence</td>\n",
              "      <td>148</td>\n",
              "      <td>50</td>\n",
              "      <td>1</td>\n",
              "    </tr>\n",
              "    <tr>\n",
              "      <th>23</th>\n",
              "      <td>2</td>\n",
              "      <td>Lithium</td>\n",
              "      <td>Recurrence</td>\n",
              "      <td>127</td>\n",
              "      <td>41</td>\n",
              "      <td>2</td>\n",
              "    </tr>\n",
              "    <tr>\n",
              "      <th>24</th>\n",
              "      <td>2</td>\n",
              "      <td>Placebo</td>\n",
              "      <td>No Recurrence</td>\n",
              "      <td>129</td>\n",
              "      <td>65</td>\n",
              "      <td>1</td>\n",
              "    </tr>\n",
              "    <tr>\n",
              "      <th>25</th>\n",
              "      <td>2</td>\n",
              "      <td>Placebo</td>\n",
              "      <td>Recurrence</td>\n",
              "      <td>182</td>\n",
              "      <td>52</td>\n",
              "      <td>1</td>\n",
              "    </tr>\n",
              "    <tr>\n",
              "      <th>26</th>\n",
              "      <td>2</td>\n",
              "      <td>Placebo</td>\n",
              "      <td>Recurrence</td>\n",
              "      <td>90</td>\n",
              "      <td>60</td>\n",
              "      <td>1</td>\n",
              "    </tr>\n",
              "    <tr>\n",
              "      <th>27</th>\n",
              "      <td>2</td>\n",
              "      <td>Placebo</td>\n",
              "      <td>Recurrence</td>\n",
              "      <td>177</td>\n",
              "      <td>25</td>\n",
              "      <td>2</td>\n",
              "    </tr>\n",
              "    <tr>\n",
              "      <th>28</th>\n",
              "      <td>2</td>\n",
              "      <td>Imipramine</td>\n",
              "      <td>Recurrence</td>\n",
              "      <td>234</td>\n",
              "      <td>27</td>\n",
              "      <td>2</td>\n",
              "    </tr>\n",
              "    <tr>\n",
              "      <th>29</th>\n",
              "      <td>2</td>\n",
              "      <td>Imipramine</td>\n",
              "      <td>No Recurrence</td>\n",
              "      <td>322</td>\n",
              "      <td>32</td>\n",
              "      <td>1</td>\n",
              "    </tr>\n",
              "    <tr>\n",
              "      <th>...</th>\n",
              "      <td>...</td>\n",
              "      <td>...</td>\n",
              "      <td>...</td>\n",
              "      <td>...</td>\n",
              "      <td>...</td>\n",
              "      <td>...</td>\n",
              "    </tr>\n",
              "    <tr>\n",
              "      <th>79</th>\n",
              "      <td>5</td>\n",
              "      <td>Lithium</td>\n",
              "      <td>Recurrence</td>\n",
              "      <td>146</td>\n",
              "      <td>46</td>\n",
              "      <td>1</td>\n",
              "    </tr>\n",
              "    <tr>\n",
              "      <th>80</th>\n",
              "      <td>5</td>\n",
              "      <td>Imipramine</td>\n",
              "      <td>No Recurrence</td>\n",
              "      <td>195</td>\n",
              "      <td>33</td>\n",
              "      <td>2</td>\n",
              "    </tr>\n",
              "    <tr>\n",
              "      <th>81</th>\n",
              "      <td>5</td>\n",
              "      <td>Placebo</td>\n",
              "      <td>No Recurrence</td>\n",
              "      <td>476</td>\n",
              "      <td>22</td>\n",
              "      <td>1</td>\n",
              "    </tr>\n",
              "    <tr>\n",
              "      <th>82</th>\n",
              "      <td>5</td>\n",
              "      <td>Lithium</td>\n",
              "      <td>No Recurrence</td>\n",
              "      <td>441</td>\n",
              "      <td>37</td>\n",
              "      <td>2</td>\n",
              "    </tr>\n",
              "    <tr>\n",
              "      <th>83</th>\n",
              "      <td>6</td>\n",
              "      <td>Lithium</td>\n",
              "      <td>Recurrence</td>\n",
              "      <td>86</td>\n",
              "      <td>40</td>\n",
              "      <td>2</td>\n",
              "    </tr>\n",
              "    <tr>\n",
              "      <th>84</th>\n",
              "      <td>6</td>\n",
              "      <td>Lithium</td>\n",
              "      <td>No Recurrence</td>\n",
              "      <td>201</td>\n",
              "      <td>22</td>\n",
              "      <td>1</td>\n",
              "    </tr>\n",
              "    <tr>\n",
              "      <th>85</th>\n",
              "      <td>6</td>\n",
              "      <td>Imipramine</td>\n",
              "      <td>Recurrence</td>\n",
              "      <td>130</td>\n",
              "      <td>30</td>\n",
              "      <td>2</td>\n",
              "    </tr>\n",
              "    <tr>\n",
              "      <th>86</th>\n",
              "      <td>6</td>\n",
              "      <td>Lithium</td>\n",
              "      <td>Recurrence</td>\n",
              "      <td>86</td>\n",
              "      <td>63</td>\n",
              "      <td>2</td>\n",
              "    </tr>\n",
              "    <tr>\n",
              "      <th>87</th>\n",
              "      <td>6</td>\n",
              "      <td>Imipramine</td>\n",
              "      <td>No Recurrence</td>\n",
              "      <td>209</td>\n",
              "      <td>40</td>\n",
              "      <td>1</td>\n",
              "    </tr>\n",
              "    <tr>\n",
              "      <th>88</th>\n",
              "      <td>6</td>\n",
              "      <td>Lithium</td>\n",
              "      <td>Recurrence</td>\n",
              "      <td>214</td>\n",
              "      <td>23</td>\n",
              "      <td>1</td>\n",
              "    </tr>\n",
              "    <tr>\n",
              "      <th>89</th>\n",
              "      <td>6</td>\n",
              "      <td>Placebo</td>\n",
              "      <td>Recurrence</td>\n",
              "      <td>72</td>\n",
              "      <td>52</td>\n",
              "      <td>1</td>\n",
              "    </tr>\n",
              "    <tr>\n",
              "      <th>90</th>\n",
              "      <td>6</td>\n",
              "      <td>Placebo</td>\n",
              "      <td>Recurrence</td>\n",
              "      <td>238</td>\n",
              "      <td>23</td>\n",
              "      <td>1</td>\n",
              "    </tr>\n",
              "    <tr>\n",
              "      <th>91</th>\n",
              "      <td>6</td>\n",
              "      <td>Placebo</td>\n",
              "      <td>Recurrence</td>\n",
              "      <td>133</td>\n",
              "      <td>22</td>\n",
              "      <td>2</td>\n",
              "    </tr>\n",
              "    <tr>\n",
              "      <th>92</th>\n",
              "      <td>6</td>\n",
              "      <td>Placebo</td>\n",
              "      <td>Recurrence</td>\n",
              "      <td>128</td>\n",
              "      <td>23</td>\n",
              "      <td>1</td>\n",
              "    </tr>\n",
              "    <tr>\n",
              "      <th>93</th>\n",
              "      <td>6</td>\n",
              "      <td>Placebo</td>\n",
              "      <td>No Recurrence</td>\n",
              "      <td>139</td>\n",
              "      <td>30</td>\n",
              "      <td>2</td>\n",
              "    </tr>\n",
              "    <tr>\n",
              "      <th>94</th>\n",
              "      <td>6</td>\n",
              "      <td>Imipramine</td>\n",
              "      <td>No Recurrence</td>\n",
              "      <td>148</td>\n",
              "      <td>26</td>\n",
              "      <td>2</td>\n",
              "    </tr>\n",
              "    <tr>\n",
              "      <th>95</th>\n",
              "      <td>6</td>\n",
              "      <td>Lithium</td>\n",
              "      <td>Recurrence</td>\n",
              "      <td>285</td>\n",
              "      <td>46</td>\n",
              "      <td>1</td>\n",
              "    </tr>\n",
              "    <tr>\n",
              "      <th>96</th>\n",
              "      <td>6</td>\n",
              "      <td>Placebo</td>\n",
              "      <td>Recurrence</td>\n",
              "      <td>141</td>\n",
              "      <td>61</td>\n",
              "      <td>1</td>\n",
              "    </tr>\n",
              "    <tr>\n",
              "      <th>97</th>\n",
              "      <td>6</td>\n",
              "      <td>Imipramine</td>\n",
              "      <td>Recurrence</td>\n",
              "      <td>212</td>\n",
              "      <td>30</td>\n",
              "      <td>2</td>\n",
              "    </tr>\n",
              "    <tr>\n",
              "      <th>98</th>\n",
              "      <td>6</td>\n",
              "      <td>Imipramine</td>\n",
              "      <td>No Recurrence</td>\n",
              "      <td>168</td>\n",
              "      <td>39</td>\n",
              "      <td>1</td>\n",
              "    </tr>\n",
              "    <tr>\n",
              "      <th>99</th>\n",
              "      <td>6</td>\n",
              "      <td>Imipramine</td>\n",
              "      <td>No Recurrence</td>\n",
              "      <td>305</td>\n",
              "      <td>49</td>\n",
              "      <td>1</td>\n",
              "    </tr>\n",
              "    <tr>\n",
              "      <th>100</th>\n",
              "      <td>6</td>\n",
              "      <td>Lithium</td>\n",
              "      <td>Recurrence</td>\n",
              "      <td>204</td>\n",
              "      <td>57</td>\n",
              "      <td>1</td>\n",
              "    </tr>\n",
              "    <tr>\n",
              "      <th>101</th>\n",
              "      <td>6</td>\n",
              "      <td>Lithium</td>\n",
              "      <td>Recurrence</td>\n",
              "      <td>140</td>\n",
              "      <td>51</td>\n",
              "      <td>1</td>\n",
              "    </tr>\n",
              "    <tr>\n",
              "      <th>102</th>\n",
              "      <td>6</td>\n",
              "      <td>Lithium</td>\n",
              "      <td>Recurrence</td>\n",
              "      <td>182</td>\n",
              "      <td>53</td>\n",
              "      <td>1</td>\n",
              "    </tr>\n",
              "    <tr>\n",
              "      <th>103</th>\n",
              "      <td>6</td>\n",
              "      <td>Placebo</td>\n",
              "      <td>Recurrence</td>\n",
              "      <td>162</td>\n",
              "      <td>31</td>\n",
              "      <td>1</td>\n",
              "    </tr>\n",
              "    <tr>\n",
              "      <th>104</th>\n",
              "      <td>6</td>\n",
              "      <td>Placebo</td>\n",
              "      <td>Recurrence</td>\n",
              "      <td>207</td>\n",
              "      <td>43</td>\n",
              "      <td>1</td>\n",
              "    </tr>\n",
              "    <tr>\n",
              "      <th>105</th>\n",
              "      <td>6</td>\n",
              "      <td>Placebo</td>\n",
              "      <td>Recurrence</td>\n",
              "      <td>102</td>\n",
              "      <td>29</td>\n",
              "      <td>1</td>\n",
              "    </tr>\n",
              "    <tr>\n",
              "      <th>106</th>\n",
              "      <td>6</td>\n",
              "      <td>Imipramine</td>\n",
              "      <td>Recurrence</td>\n",
              "      <td>154</td>\n",
              "      <td>28</td>\n",
              "      <td>1</td>\n",
              "    </tr>\n",
              "    <tr>\n",
              "      <th>107</th>\n",
              "      <td>6</td>\n",
              "      <td>Imipramine</td>\n",
              "      <td>Recurrence</td>\n",
              "      <td>203</td>\n",
              "      <td>51</td>\n",
              "      <td>1</td>\n",
              "    </tr>\n",
              "    <tr>\n",
              "      <th>108</th>\n",
              "      <td>6</td>\n",
              "      <td>Lithium</td>\n",
              "      <td>Recurrence</td>\n",
              "      <td>176</td>\n",
              "      <td>33</td>\n",
              "      <td>1</td>\n",
              "    </tr>\n",
              "  </tbody>\n",
              "</table>\n",
              "<p>109 rows × 6 columns</p>\n",
              "</div>"
            ],
            "text/plain": [
              "     Hospt       Treat        Outcome  AcuteT  Age  Gender\n",
              "0        1     Lithium     Recurrence     211   33       1\n",
              "1        1  Imipramine  No Recurrence     176   49       1\n",
              "2        1  Imipramine  No Recurrence     191   50       1\n",
              "3        1     Lithium     Recurrence     206   29       2\n",
              "4        1     Placebo  No Recurrence      63   29       1\n",
              "5        1     Placebo     Recurrence      70   30       2\n",
              "6        1     Placebo  No Recurrence      55   56       1\n",
              "7        1     Placebo     Recurrence     512   48       1\n",
              "8        1     Placebo  No Recurrence     162   22       2\n",
              "9        1     Placebo     Recurrence     306   61       2\n",
              "10       1  Imipramine  No Recurrence     165   58       1\n",
              "11       1  Imipramine  No Recurrence     129   31       1\n",
              "12       1  Imipramine  No Recurrence     428   44       1\n",
              "13       1  Imipramine     Recurrence     256   55       2\n",
              "14       1     Lithium  No Recurrence     197   57       2\n",
              "15       1     Lithium     Recurrence     227   46       1\n",
              "16       1  Imipramine  No Recurrence     168   58       1\n",
              "17       1     Lithium  No Recurrence     194   57       1\n",
              "18       2     Lithium     Recurrence     173   54       1\n",
              "19       2     Placebo  No Recurrence      48   23       1\n",
              "20       2     Placebo  No Recurrence      47   65       1\n",
              "21       2  Imipramine     Recurrence      95   27       1\n",
              "22       2     Lithium     Recurrence     148   50       1\n",
              "23       2     Lithium     Recurrence     127   41       2\n",
              "24       2     Placebo  No Recurrence     129   65       1\n",
              "25       2     Placebo     Recurrence     182   52       1\n",
              "26       2     Placebo     Recurrence      90   60       1\n",
              "27       2     Placebo     Recurrence     177   25       2\n",
              "28       2  Imipramine     Recurrence     234   27       2\n",
              "29       2  Imipramine  No Recurrence     322   32       1\n",
              "..     ...         ...            ...     ...  ...     ...\n",
              "79       5     Lithium     Recurrence     146   46       1\n",
              "80       5  Imipramine  No Recurrence     195   33       2\n",
              "81       5     Placebo  No Recurrence     476   22       1\n",
              "82       5     Lithium  No Recurrence     441   37       2\n",
              "83       6     Lithium     Recurrence      86   40       2\n",
              "84       6     Lithium  No Recurrence     201   22       1\n",
              "85       6  Imipramine     Recurrence     130   30       2\n",
              "86       6     Lithium     Recurrence      86   63       2\n",
              "87       6  Imipramine  No Recurrence     209   40       1\n",
              "88       6     Lithium     Recurrence     214   23       1\n",
              "89       6     Placebo     Recurrence      72   52       1\n",
              "90       6     Placebo     Recurrence     238   23       1\n",
              "91       6     Placebo     Recurrence     133   22       2\n",
              "92       6     Placebo     Recurrence     128   23       1\n",
              "93       6     Placebo  No Recurrence     139   30       2\n",
              "94       6  Imipramine  No Recurrence     148   26       2\n",
              "95       6     Lithium     Recurrence     285   46       1\n",
              "96       6     Placebo     Recurrence     141   61       1\n",
              "97       6  Imipramine     Recurrence     212   30       2\n",
              "98       6  Imipramine  No Recurrence     168   39       1\n",
              "99       6  Imipramine  No Recurrence     305   49       1\n",
              "100      6     Lithium     Recurrence     204   57       1\n",
              "101      6     Lithium     Recurrence     140   51       1\n",
              "102      6     Lithium     Recurrence     182   53       1\n",
              "103      6     Placebo     Recurrence     162   31       1\n",
              "104      6     Placebo     Recurrence     207   43       1\n",
              "105      6     Placebo     Recurrence     102   29       1\n",
              "106      6  Imipramine     Recurrence     154   28       1\n",
              "107      6  Imipramine     Recurrence     203   51       1\n",
              "108      6     Lithium     Recurrence     176   33       1\n",
              "\n",
              "[109 rows x 6 columns]"
            ]
          },
          "metadata": {
            "tags": []
          },
          "execution_count": 58
        }
      ]
    },
    {
      "metadata": {
        "id": "FLOsGjAkGmSE",
        "colab_type": "text"
      },
      "cell_type": "markdown",
      "source": [
        "# Initial Analysis\n",
        "\n",
        "Here we will analyse the data without PSM. First we will see if any of the potentially confounding variables have any effect on which tx group each person was placed into. Then we will use a chi square test (a statistical test to determine significant differences in data that deal with frequencies) to see if those treated with lithium or Imipramine have lower recurrence than those who are treated with a placebo. In this analysis we will not take into account any other variables. \n",
        "\n"
      ]
    },
    {
      "metadata": {
        "id": "MUt2e6-itQeJ",
        "colab_type": "text"
      },
      "cell_type": "markdown",
      "source": [
        "## Pearson's Correlation Coefficient\n",
        "\n",
        "To see if any of the potentially confounding variables correlate with tx group placement, we can use Pearson's Correlation Coefficient. This is a statistical test that tells you whether two sets of things are correlated with each other. Run this test using:\n",
        "\n",
        "```\n",
        "scipy.stats.pearsonr(array, array)\n",
        "```\n",
        "\n",
        "Documentation: https://docs.scipy.org/doc/scipy-0.14.0/reference/generated/scipy.stats.pearsonr.html\n",
        "\n",
        "Both arguments shouls be np.arrays and should not contain strings (you may have to recode your Treatment groups as ints instead of strings). Use pearsons's on age, gender, hospt, and acuteT, each compared (seperately) to tx group. This function outputs the correlation coefficient and the p-value (probability of an uncorrelated system producing datasets that have a Pearson correlation at least as extreme as the one computed from these datasets). A correlation coefficient is a number between -1 and +1 that tells you the strength of a correlation. \n",
        "\n",
        "![alt test](http://pradeepshettys.files.wordpress.com/2011/09/correlation_coefficient.gif)\n",
        "\n",
        "In the cell below calculate the correlation coefficient and p-value of tx group with each of the 4 potentially confounding variables. ***You will need to run 8 tests in all. Four comparing between Placebo and Imipramine tx groups and four comparing between Placebo and Lithium tx groups***"
      ]
    },
    {
      "metadata": {
        "id": "1zIsia8wtX6g",
        "colab_type": "code",
        "colab": {
          "autoexec": {
            "startup": false,
            "wait_interval": 0
          }
        }
      },
      "cell_type": "code",
      "source": [
        "placebo_lithium = data[data.Treat != 'Imipramine']  # Df containing only Placebo and Lithium rows\n",
        "placebo_imipramine = data[data.Treat != 'Lithium']  # Df containing only Placebo and Imipramine rows\n",
        "\n",
        "# Use scipy.stats.pearsonr() to compute 8 correlation coefficients and p-values\n",
        "\n",
        "# Your code here"
      ],
      "execution_count": 0,
      "outputs": []
    },
    {
      "metadata": {
        "id": "PZbHpxCWtrvV",
        "colab_type": "text"
      },
      "cell_type": "markdown",
      "source": [
        "You should have gotten:\n",
        "\n",
        "Age_Lith_Plac: (0.13347958216568637, 0.2671154947789644) \n",
        "\n",
        "Gender_Lith_Plac: (-0.06069230328831319, 0.6151126599857253) \n",
        "\n",
        "Hospt_Lith_Plac: (-0.06069909048400425, 0.6150730517967733) \n",
        "\n",
        "AcuteT_Lith_Plac: (0.02028473152924744, 0.8666575780678742) \n",
        "\n",
        "\n",
        "Age_Imip_Plac: (0.1325051952046466, 0.2671855579829328) \n",
        "\n",
        "Gender_Imip_Plac: (-0.04183179465772309, 0.72716805947342) \n",
        "\n",
        "Hospt_Imip_Plac: (-0.06635765932056066, 0.5797020528339649) \n",
        "\n",
        "AcuteT_Imip_Plac: (0.2174983804057164, 0.06646523503199259)\n",
        "\n",
        "\n",
        "\n",
        "It looks like although none of these tests were statistically significant (AcuteT_Imip_Plac comes close), based on correlation coefficient there is a weak but likely non-zero relationship betwee AcuteT and group tx between the Placebo and Imipramine groups. "
      ]
    },
    {
      "metadata": {
        "id": "ghX7NPzXtulK",
        "colab_type": "text"
      },
      "cell_type": "markdown",
      "source": [
        "## Contingency Table and Chi Square\n",
        "\n",
        "\n",
        "First we should look at the frequency of recurrence for each group (lithium, imipramine, and placebo). Put the recurrence and non-reccurence raw frequencies for each tx into a pandas dataframe (columns = Imipramine, Lithium, Placebo; rows = Recurrence, No Recurrence). This kind of table is called a contingency table and is used to compute the chi square test.\n",
        "\n",
        "Then we should perform a chi square test to see whether these frequencies are significantly different.To perform a chi square test, use **scipy.stats.chi2_contingency()**. The argument for this function is simply the contingency table containing only the two txs (columns) you wish to compare. Perform 2 chi square tests, one comparing placebo and lithium, and the other comparing imipramine and placebo. The p-value of is the second number in the chi square test's output.\n"
      ]
    },
    {
      "metadata": {
        "id": "lyGR9VHGGp9i",
        "colab_type": "code",
        "colab": {
          "autoexec": {
            "startup": false,
            "wait_interval": 0
          }
        }
      },
      "cell_type": "code",
      "source": [
        "# Create a contingency table (pandas data frame) containing the frequency of recurrence and non-recurrence for each treatment\n",
        "\n",
        "# Your code here"
      ],
      "execution_count": 0,
      "outputs": []
    },
    {
      "metadata": {
        "id": "X3ERK6HhGra7",
        "colab_type": "code",
        "colab": {
          "autoexec": {
            "startup": false,
            "wait_interval": 0
          }
        }
      },
      "cell_type": "code",
      "source": [
        "# Use scipy.stats.chi2_contingency() to compute the p-values associated with comparing placebo vs. imipramine and placebo vs. lithium frequencies\n",
        "\n",
        "# Your code here"
      ],
      "execution_count": 0,
      "outputs": []
    },
    {
      "metadata": {
        "id": "uFbMCYfdGtnS",
        "colab_type": "text"
      },
      "cell_type": "markdown",
      "source": [
        "You should have gotten: \n",
        "* Imipramine-Placebo: 0.06699739739806405 \n",
        "* Lithium_Placebo: 0.5855500699961194\n",
        "\n",
        "\n",
        "\n",
        "This means that if the null hypotheses are true (that there is NO difference between recurrence frequencies who are being treated with lithium/imipramine and with placebo), there is about an 81.4% chance of observing the Lithium data (or data more extreme) and a 6.7% chance of observing the Imipramine data (or data more extreme). By the conventions of classical statistics we have failed to reject the null hypothesis in both cases (alpha = 0.05)\n",
        "All this basically means that tx with Lithium likely didn't do much to decrease recurrence of depression, and although our p-value for Imipramine-Placebo approached significance, we cannot claim that outcomes for Imipramine tx and placebo tx are significantly different.\n",
        "\n",
        "Now lets use propensity score matching to attempt to reduce any bias in the placement of patients into each tx group. We will reanalyse the data after matching and compare it to our results here without matching."
      ]
    },
    {
      "metadata": {
        "id": "FYUGxp-vGv5q",
        "colab_type": "text"
      },
      "cell_type": "markdown",
      "source": [
        "# PSM Method 1 - Pure Nearest Neighbors Matching\n",
        "\n",
        "Nearest Neighbor matching is exactly what it sounds like. We match each patient in one group with its nearest neighbor in the other group based on some distance measurement that takes into account each potentially confounding variable we have data for. In our case, the variables of interest that may affect the probability of being in a given tx group are age, gender, hospital, and acuteT (Time is not of interest because this is a measurement from after the patients are placed in their tx groups). \n",
        "\n",
        "Despite the conceptual simplicity, there are a lot of ways we can go about doing this, and each way has its own implicit assumptions built in. Here are a few things to consider:\n",
        "\n",
        "* Should there be a maximum distance passed which no match should be made? If so, how do we determine that distance?\n",
        "* Should we match with or without replacement? Without replacement means that each person can be matched only once, while matching with replacement means that one person could be matched with several other people in the other tx group\n",
        "* What kind of distance should we use?\n",
        "* Should we weight our features differently? \n",
        "\n",
        "For our purposes here, we'll keep things simple and use matching with replacement and without any maximum distance. Before we match, we should normalize our data and break if up into 3 seperate dataframes, one for each tx group. Additionally, we should drop the \"Treat\" and \"Outcome\" columns from each dataframe because these will not be used during matching. \n",
        "\n",
        "Here are some helpful hints for this process:\n",
        "* To drop a column from a pandas df, use: **df.drop(['column name'], axis = 1)**\n",
        "* If you find that your indices are not in order for each of your dataframes use: **df.reset_index(drop=True)**"
      ]
    },
    {
      "metadata": {
        "id": "lcZ5bNwUGx9T",
        "colab_type": "code",
        "colab": {
          "autoexec": {
            "startup": false,
            "wait_interval": 0
          }
        }
      },
      "cell_type": "code",
      "source": [
        "# Normalize data\n",
        "\n",
        "#Your code here\n",
        "  "
      ],
      "execution_count": 0,
      "outputs": []
    },
    {
      "metadata": {
        "id": "cJRREqv7JWCM",
        "colab_type": "code",
        "colab": {
          "autoexec": {
            "startup": false,
            "wait_interval": 0
          }
        }
      },
      "cell_type": "code",
      "source": [
        "# Seperate into 3 dfs (one for each tx group), re-index if needed, and drop Treat and Outcome columns\n",
        "\n",
        "# Your code here"
      ],
      "execution_count": 0,
      "outputs": []
    },
    {
      "metadata": {
        "id": "3uRnW9wEGz4b",
        "colab_type": "text"
      },
      "cell_type": "markdown",
      "source": [
        "Now we can match our data. We will again use sklearn nearest neighbors functions to compute distance. Fill in the code for a function that takes two dataframes and matches the treated (lithium or imipramine) patients to untreated (placebo) patients. "
      ]
    },
    {
      "metadata": {
        "id": "sqlZ2OROG1u7",
        "colab_type": "code",
        "colab": {
          "autoexec": {
            "startup": false,
            "wait_interval": 0
          }
        }
      },
      "cell_type": "code",
      "source": [
        "def matches(df_treated, df_untreated):\n",
        "  treated = df_treated.values         # turn the dataframes into numpy arrays\n",
        "  untreated = df_untreated.values\n",
        "  \n",
        "  nbrs = # Your code here                                   # Use the NearestNeighbors() function (the only argument is n_neighbors - ie the number of neighbors you would like to find)\n",
        "                                                            # and the .fit() function to fit the untreated values to the nearest neighbor model. \n",
        "                                                            # This will create a model where all the untreated patients are \"plotted\".\n",
        "    \n",
        "  distances, indices = # Your code here                     # Use the .kneighbors() function on your model (nbrs) to find the closest untreated match\n",
        "                                                            # for each treated patient. This function finds the minimum euclidean distance between each \n",
        "                                                            # treated point and each untreated point and returns the distance and index of the matches.\n",
        "  \n",
        "  indices = indices.reshape(indices.shape[0])  # reshaping indices\n",
        "  matched = df_untreated.iloc[indices]         # creating df of matched indices\n",
        "  \n",
        "  return(matched)\n",
        "\n"
      ],
      "execution_count": 0,
      "outputs": []
    },
    {
      "metadata": {
        "id": "NSTiz2t5G4qi",
        "colab_type": "code",
        "colab": {
          "autoexec": {
            "startup": false,
            "wait_interval": 0
          }
        }
      },
      "cell_type": "code",
      "source": [
        "# Run this code to get dfs containing the matched indices for lithium vs. placebo and imipramine vs. placebo\n",
        "matched_plac_lith = matches(data_lith, data_plac)  \n",
        "matched_plac_imip = matches(data_imip, data_plac)\n",
        "lith_plac_matches = pd.DataFrame({'Placebo': matched_plac_lith.index.values, 'Lithium': range(0, len(data_lith))})\n",
        "imip_plac_matches = pd.DataFrame({'Placebo': matched_plac_imip.index.values, 'Imipramine': range(0, len(data_imip))})"
      ],
      "execution_count": 0,
      "outputs": []
    },
    {
      "metadata": {
        "id": "c3mJoAs6G6eT",
        "colab_type": "text"
      },
      "cell_type": "markdown",
      "source": [
        "Explore the matched dfs. After matching, how many unique patients do we have in each group for each comparison (placebo vs. lithium and placebo vs. imipramine)?"
      ]
    },
    {
      "metadata": {
        "id": "TNijHjXzG8Jy",
        "colab_type": "code",
        "colab": {
          "autoexec": {
            "startup": false,
            "wait_interval": 0
          }
        }
      },
      "cell_type": "code",
      "source": [
        "# Your code here"
      ],
      "execution_count": 0,
      "outputs": []
    },
    {
      "metadata": {
        "id": "e1pklmCSHALC",
        "colab_type": "text"
      },
      "cell_type": "markdown",
      "source": [
        "You should have gotten: \n",
        "\n",
        "Imipramine: 38 \n",
        "\n",
        "Placebo_matched_Imip: 18\n",
        "\n",
        "Lithium: 37 \n",
        "\n",
        "Placebo_matched_Lith: 22\n",
        "\n",
        "It looks like we have lost 14 data points for the untreated group in both comparisons. Data loss in PSM happens when there are some patients in the untreated group that do not match well with any patients in the treated group. Data loss is often a cost of PSM. There are ways to reduce the amount of data you lose, but most of them require sacrificing match quality. \n",
        "\n",
        "\n",
        "---\n",
        "# Re-Analysing\n",
        "\n",
        "We can now re-analyse our data and see if anything changes as a result of matching. Create a contingency table and use the same chi square analysis on the new data set. You can adapt much of the previous code to do this."
      ]
    },
    {
      "metadata": {
        "id": "gAcYUqtwHCRW",
        "colab_type": "code",
        "colab": {
          "autoexec": {
            "startup": false,
            "wait_interval": 0
          }
        }
      },
      "cell_type": "code",
      "source": [
        "indices_plac_lith = list(set(matched_plac_lith.index.values))\n",
        "indices_plac_imip = list(set(matched_plac_imip.index.values))\n",
        "placebo_li = data[data.Treat == 'Placebo'].reset_index(drop=True).iloc[indices_plac_lith]  # df of placebo data that matched with lithium patients\n",
        "lithium = data[data.Treat == 'Lithium']                                                    # df of all lithium patients (all were matched)\n",
        "placebo_im = data[data.Treat == 'Placebo'].reset_index(drop=True).iloc[indices_plac_imip]  # df of placebo data that matched with imipramine patients\n",
        "imipramine = data[data.Treat == 'Imipramine']                                              # df of all imipramine patients (all were matched)"
      ],
      "execution_count": 0,
      "outputs": []
    },
    {
      "metadata": {
        "id": "IquxocrlJ949",
        "colab_type": "code",
        "colab": {
          "autoexec": {
            "startup": false,
            "wait_interval": 0
          }
        }
      },
      "cell_type": "code",
      "source": [
        "# Contingency Table\n",
        "\n",
        "# Your code here"
      ],
      "execution_count": 0,
      "outputs": []
    },
    {
      "metadata": {
        "id": "Zx4ATYBVHEfB",
        "colab_type": "code",
        "colab": {
          "autoexec": {
            "startup": false,
            "wait_interval": 0
          }
        }
      },
      "cell_type": "code",
      "source": [
        "# Chi Square Analysis \n",
        "\n",
        "# Your code here"
      ],
      "execution_count": 0,
      "outputs": []
    },
    {
      "metadata": {
        "id": "b_N3fq4tHGOL",
        "colab_type": "text"
      },
      "cell_type": "markdown",
      "source": [
        "You should have gotten the following p-values:\n",
        "\n",
        "Imipramine-Placebo: 0.005656260767667514 \n",
        "\n",
        "Lithium_Placebo: 0.7627312590109018\n",
        "\n",
        "\n",
        "These results now give evidence that there is a significant difference in outcome between the group treated with Imipramine and the group treated with placebo. In order to confirm that PSM has unbiased our data, we can run the same Pearson Correlation test on our new data. Run the code provided below to see if the dataset is now unbiased.\n"
      ]
    },
    {
      "metadata": {
        "id": "L6uYTjFYuGjk",
        "colab_type": "code",
        "colab": {
          "autoexec": {
            "startup": false,
            "wait_interval": 0
          }
        }
      },
      "cell_type": "code",
      "source": [
        "placebo_lithium = pd.concat([placebo_li, lithium])  # Df containing only Placebo and Lithium rows\n",
        "placebo_imipramine = pd.concat([placebo_im, imipramine])  # Df containing only Placebo and Imipramine rows\n",
        "\n",
        "age_lith = scipy.stats.pearsonr(np.array(placebo_lithium.Treat.replace(['Placebo', 'Lithium', 'Imipramine'], [0,1,2])), np.array(placebo_lithium.Age))\n",
        "gender_lith = scipy.stats.pearsonr(np.array(placebo_lithium.Treat.replace(['Placebo', 'Lithium', 'Imipramine'], [0,1,2])), np.array(placebo_lithium.Gender))\n",
        "hospt_lith = scipy.stats.pearsonr(np.array(placebo_lithium.Treat.replace(['Placebo', 'Lithium', 'Imipramine'], [0,1,2])), np.array(placebo_lithium.Hospt))\n",
        "AcuteT_lith = scipy.stats.pearsonr(np.array(placebo_lithium.Treat.replace(['Placebo', 'Lithium', 'Imipramine'], [0,1,2])), np.array(placebo_lithium.AcuteT))\n",
        "\n",
        "age_imip = scipy.stats.pearsonr(np.array(placebo_imipramine.Treat.replace(['Placebo', 'Lithium', 'Imipramine'], [0,1,2])), np.array(placebo_imipramine.Age))\n",
        "gender_imip = scipy.stats.pearsonr(np.array(placebo_imipramine.Treat.replace(['Placebo', 'Lithium', 'Imipramine'], [0,1,2])), np.array(placebo_imipramine.Gender))\n",
        "hospt_imip = scipy.stats.pearsonr(np.array(placebo_imipramine.Treat.replace(['Placebo', 'Lithium', 'Imipramine'], [0,1,2])), np.array(placebo_imipramine.Hospt))\n",
        "AcuteT_imip = scipy.stats.pearsonr(np.array(placebo_imipramine.Treat.replace(['Placebo', 'Lithium', 'Imipramine'], [0,1,2])), np.array(placebo_imipramine.AcuteT))\n",
        "\n",
        "print('Age_Lith_Plac: ' + str(age_lith),\n",
        "     '\\nGender_Lith_Plac: ' + str(gender_lith),\n",
        "     '\\nHospt_Lith_Plac: ' +str(hospt_lith),\n",
        "     '\\nAcuteT_Lith_Plac: ' + str(AcuteT_lith),\n",
        "     '\\n\\nAge_Imip_Plac: ' + str(age_imip),\n",
        "     '\\nGender_Imip_Plac: ' + str(gender_imip),\n",
        "     '\\nHospt_Imip_Plac: ' + str(hospt_imip),\n",
        "     '\\nAcuteT_Imip_Plac: ' + str(AcuteT_imip))"
      ],
      "execution_count": 0,
      "outputs": []
    },
    {
      "metadata": {
        "id": "O5fJvhkLuJSR",
        "colab_type": "text"
      },
      "cell_type": "markdown",
      "source": [
        "According to these correlation coefficients and p-values, the dataset is much less biased than before. PSM has successfully unbiased this dataset and uncovered a relationship between Imipramine tx and outcome!"
      ]
    },
    {
      "metadata": {
        "id": "fmMQf7xXHKLg",
        "colab_type": "text"
      },
      "cell_type": "markdown",
      "source": [
        "# PSM Method 2 - Logistic Regression\n",
        "The idea behind PSM with logistic regression is to create a model trained on the confounding variables of the participants that outputs the predicted probability of each participant belonging to each treatment group. This way, we don't have to worry about weighing the confounding variable according to its effect on tx group, a logistic regression model will decide which variables are most important and weigh them accordingly. After we get each participant's probability of being placed in each of the tx groups (their propensity scores), we can match the participants based on how similar their probabilities are. \n",
        "\n",
        "One important thing to note about using logistic regression for PSM is that your training and test data will be the same. This is because we are not concerned with overfitting and our model does not to be generalizable to other data.\n",
        "\n",
        "Helpful documentation from sklearn.linear_model for logisitc regressions:\n",
        "* LogisticRegression(): http://scikit-learn.org/stable/modules/generated/sklearn.linear_model.LogisticRegression.html\n"
      ]
    },
    {
      "metadata": {
        "id": "IcEAsLySyuZb",
        "colab_type": "code",
        "colab": {
          "autoexec": {
            "startup": false,
            "wait_interval": 0
          }
        }
      },
      "cell_type": "code",
      "source": [
        "# Logistic Regression Model \n",
        "\n",
        "# Your code here"
      ],
      "execution_count": 0,
      "outputs": []
    },
    {
      "metadata": {
        "id": "p2sB-fQLy0p7",
        "colab_type": "text"
      },
      "cell_type": "markdown",
      "source": [
        "## Nearest Neighbors Back Again\n",
        "\n",
        "Now that we have these probabilities, we need to figure out how to calculate which participants (from different tx groups) are most similar in their probabilities of being in each tx group (i.e. we need to match their propensity scores). Nearest Neighbors is probably one of the fastest and easiest ways to do this. Since we're treating placebo vs. lithium and placebo vs. imipramine as two separate analyses, we will need perform two nearest neighbors matchings using only the probabilities relevant for each match (ex. when matching placebo and imipramine patients, use only the placebo and imipramine probabilities). \n",
        "\n",
        "Again, we need to  create 3 dataframe, one for each tx group, containing the propensity scores, then match placebo with lithium patients and placebo with imipramine patients. In general, normalization of data is not required for logistic regression.\n"
      ]
    },
    {
      "metadata": {
        "id": "RnPfCWXBy_zr",
        "colab_type": "code",
        "colab": {
          "autoexec": {
            "startup": false,
            "wait_interval": 0
          }
        }
      },
      "cell_type": "code",
      "source": [
        "# Split into 3 dfs\n",
        "\n",
        "# Your code here"
      ],
      "execution_count": 0,
      "outputs": []
    },
    {
      "metadata": {
        "id": "C5VmA7oIzBgD",
        "colab_type": "code",
        "colab": {
          "autoexec": {
            "startup": false,
            "wait_interval": 0
          }
        }
      },
      "cell_type": "code",
      "source": [
        "# Nearest Neighbors to Match Propensity Scores\n",
        "\n",
        "def matches(df_treated, df_untreated):\n",
        "  \n",
        "  # Your code here\n",
        "  \n",
        "  return(matched)"
      ],
      "execution_count": 0,
      "outputs": []
    },
    {
      "metadata": {
        "id": "B1oLlwoozDTE",
        "colab_type": "code",
        "colab": {
          "autoexec": {
            "startup": false,
            "wait_interval": 0
          }
        }
      },
      "cell_type": "code",
      "source": [
        "# Convert matches to dfs (you can steal code from above if you need to)"
      ],
      "execution_count": 0,
      "outputs": []
    },
    {
      "metadata": {
        "id": "mKf-MlHAzHyz",
        "colab_type": "text"
      },
      "cell_type": "markdown",
      "source": [
        "Explore the matched dataframes and see how many unique patients are in each comparison group, just as we did before."
      ]
    },
    {
      "metadata": {
        "id": "qB2c53bUzJ35",
        "colab_type": "code",
        "colab": {
          "autoexec": {
            "startup": false,
            "wait_interval": 0
          }
        }
      },
      "cell_type": "code",
      "source": [
        "# Your code here"
      ],
      "execution_count": 0,
      "outputs": []
    },
    {
      "metadata": {
        "id": "HkcwvmmIzLmX",
        "colab_type": "text"
      },
      "cell_type": "markdown",
      "source": [
        "You should have gotten:\n",
        "\n",
        "Imipramine: 38 \n",
        "Placebo_matched_Imip: 16\n",
        "\n",
        "Lithium: 37 \n",
        "Placebo_matched_Lith: 21"
      ]
    },
    {
      "metadata": {
        "id": "WIHIkHpRzOKF",
        "colab_type": "text"
      },
      "cell_type": "markdown",
      "source": [
        "#Re-Re-Analyzing\n",
        "\n",
        "We will analyze our data one last time according to our new samples. The results should be pretty similar to the pure nearest neighbors approach, but they won't be exactly the same. \n",
        "\n",
        "Again, create a contingency table and perform 2 chi-square analyses."
      ]
    },
    {
      "metadata": {
        "id": "77GoHGMqzQC7",
        "colab_type": "code",
        "colab": {
          "autoexec": {
            "startup": false,
            "wait_interval": 0
          }
        }
      },
      "cell_type": "code",
      "source": [
        "# Using the dfs containing the matched indices, create a df containing the new subjects for each tx group (feel free to use code from above)\n",
        "\n",
        "# Your code here"
      ],
      "execution_count": 0,
      "outputs": []
    },
    {
      "metadata": {
        "id": "ue4sJ5_7zR12",
        "colab_type": "code",
        "colab": {
          "autoexec": {
            "startup": false,
            "wait_interval": 0
          }
        }
      },
      "cell_type": "code",
      "source": [
        "# Contingency table\n",
        "\n",
        "# Your code here"
      ],
      "execution_count": 0,
      "outputs": []
    },
    {
      "metadata": {
        "id": "gwcWfLrvJL3J",
        "colab_type": "code",
        "colab": {
          "autoexec": {
            "startup": false,
            "wait_interval": 0
          }
        }
      },
      "cell_type": "code",
      "source": [
        "# Chi Sqaure Analysis \n",
        "\n",
        "# Your code here"
      ],
      "execution_count": 0,
      "outputs": []
    },
    {
      "metadata": {
        "id": "ANBjJPJhzTrm",
        "colab_type": "text"
      },
      "cell_type": "markdown",
      "source": [
        "You should have gotten - \n",
        "\n",
        "p-values:  \n",
        "\n",
        "Imipramine-Placebo: 0.01573999420674152\n",
        "\n",
        "Lithium_Placebo: 0.9232859633780965\n",
        "\n",
        "___ \n",
        "\n",
        "This method of PSM gives us a very similar result to the pure nearest neighbors method (as it should).\n",
        "\n",
        "A final note: PSM should generally not be used unless there is a good reason to suspect bias in the dataset. If PSM is used simply with the hope of shifting the p-value slightly by removing subjects, this is called 'p-hacking', and can result in 'significant' results that are not actually valid. P-hacking harms the validity of scientific analysis and can lead to false conclusions with potentially disastrous consequences (https://www.buzzfeed.com/stephaniemlee/brian-wansink-cornell-p-hacking?utm_term=.repyDLKxL#.xtgL7xZ6x).\n",
        "\n"
      ]
    },
    {
      "metadata": {
        "id": "mZ9oFIU6zUJm",
        "colab_type": "text"
      },
      "cell_type": "markdown",
      "source": [
        "## Pros and Cons of PSM\n",
        "\n",
        "### Pros\n",
        "* Allows for data randomizaton after the fact. This, in some (not all!) cases, can render biased datasets usable for legitimate analysis.\n",
        "* Effectively reduces bias due to confounding variables that you collected data on.\n",
        "* Allows for better, more reliable observational analyses.\n",
        "* In the Logistic Regression approach, each confounding variable is weighted according to its influence on tx group placement.\n",
        "\n",
        "### Cons\n",
        "* In the pure nearest neighbors approach, you are likely treating every variable as if they are equally contributing to the probability of a patient being put into a specific tx group. This means that a variable that has no bearing on propensity score is weighted just as much as one that does.\n",
        " * This problem can be resolved by weighing each variable differently. For example, different values of a variable have a drastically different probability of being in a tx group, that variable should be weighted more. \n",
        "* Tends to throw out data. Especially outlier data. This means that effective PSM requires a large dataset.\n",
        "* Cannot account for confounding variables that are not included in the analysis (duh, it's not magic!)"
      ]
    }
  ]
}